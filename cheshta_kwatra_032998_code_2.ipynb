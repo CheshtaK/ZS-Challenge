{
  "nbformat": 4,
  "nbformat_minor": 0,
  "metadata": {
    "colab": {
      "name": "cheshta_kwatra_032998_code_2.ipynb",
      "version": "0.3.2",
      "provenance": [],
      "collapsed_sections": []
    },
    "kernelspec": {
      "name": "python3",
      "display_name": "Python 3"
    },
    "accelerator": "GPU"
  },
  "cells": [
    {
      "cell_type": "markdown",
      "metadata": {
        "id": "u_QgPocwA4Pp",
        "colab_type": "text"
      },
      "source": [
        "## Understanding the dataset"
      ]
    },
    {
      "cell_type": "code",
      "metadata": {
        "id": "giQYSztC7QPK",
        "colab_type": "code",
        "colab": {}
      },
      "source": [
        "#from google.colab import files\n",
        "#files.upload()"
      ],
      "execution_count": 0,
      "outputs": []
    },
    {
      "cell_type": "code",
      "metadata": {
        "id": "ejk0ysSp7fkC",
        "colab_type": "code",
        "colab": {}
      },
      "source": [
        "#import pandas as pd\n",
        "#import numpy as np\n",
        "#import matplotlib.pyplot as plt"
      ],
      "execution_count": 0,
      "outputs": []
    },
    {
      "cell_type": "code",
      "metadata": {
        "id": "HWrgrdH38M00",
        "colab_type": "code",
        "colab": {}
      },
      "source": [
        "df = pd.read_csv('data.csv')"
      ],
      "execution_count": 0,
      "outputs": []
    },
    {
      "cell_type": "code",
      "metadata": {
        "id": "kUSNk9qk9YsE",
        "colab_type": "code",
        "colab": {}
      },
      "source": [
        "#df.head(5)"
      ],
      "execution_count": 0,
      "outputs": []
    },
    {
      "cell_type": "code",
      "metadata": {
        "id": "30QvqEbV9aeL",
        "colab_type": "code",
        "outputId": "a843a777-94fa-4ff1-94b6-193e9b3caf33",
        "colab": {
          "base_uri": "https://localhost:8080/",
          "height": 34
        }
      },
      "source": [
        "df.shape"
      ],
      "execution_count": 554,
      "outputs": [
        {
          "output_type": "execute_result",
          "data": {
            "text/plain": [
              "(30697, 28)"
            ]
          },
          "metadata": {
            "tags": []
          },
          "execution_count": 554
        }
      ]
    },
    {
      "cell_type": "code",
      "metadata": {
        "id": "J2gaPBpt97qq",
        "colab_type": "code",
        "colab": {}
      },
      "source": [
        "#df.columns"
      ],
      "execution_count": 0,
      "outputs": []
    },
    {
      "cell_type": "code",
      "metadata": {
        "id": "8aQdxeyQ-A32",
        "colab_type": "code",
        "colab": {}
      },
      "source": [
        "#df.isnull().sum()"
      ],
      "execution_count": 0,
      "outputs": []
    },
    {
      "cell_type": "markdown",
      "metadata": {
        "id": "uXRp9jhrDaWY",
        "colab_type": "text"
      },
      "source": [
        "## Split into train and test data"
      ]
    },
    {
      "cell_type": "code",
      "metadata": {
        "id": "eD-0gm0FDdzI",
        "colab_type": "code",
        "outputId": "8786d8f3-8ebd-457e-c3ac-ce8e35c18887",
        "colab": {
          "base_uri": "https://localhost:8080/",
          "height": 34
        }
      },
      "source": [
        "test = df[df[\"is_goal\"].isnull()]\n",
        "print(test.shape)"
      ],
      "execution_count": 557,
      "outputs": [
        {
          "output_type": "stream",
          "text": [
            "(6268, 28)\n"
          ],
          "name": "stdout"
        }
      ]
    },
    {
      "cell_type": "code",
      "metadata": {
        "id": "YKVGSh8mFrHC",
        "colab_type": "code",
        "colab": {}
      },
      "source": [
        "#test.isnull().sum()"
      ],
      "execution_count": 0,
      "outputs": []
    },
    {
      "cell_type": "code",
      "metadata": {
        "id": "Yng4DTYkJn0i",
        "colab_type": "code",
        "outputId": "7725fc93-095f-4cc6-80ff-2cdfb3fcf76d",
        "colab": {
          "base_uri": "https://localhost:8080/",
          "height": 34
        }
      },
      "source": [
        "train = df[df[\"is_goal\"].notnull()]\n",
        "print(train.shape)"
      ],
      "execution_count": 559,
      "outputs": [
        {
          "output_type": "stream",
          "text": [
            "(24429, 28)\n"
          ],
          "name": "stdout"
        }
      ]
    },
    {
      "cell_type": "code",
      "metadata": {
        "id": "xsomkQz7F4aq",
        "colab_type": "code",
        "colab": {}
      },
      "source": [
        "#train.isnull().sum()"
      ],
      "execution_count": 0,
      "outputs": []
    },
    {
      "cell_type": "markdown",
      "metadata": {
        "id": "GMSapmjvKVk8",
        "colab_type": "text"
      },
      "source": [
        "## Handling missing values"
      ]
    },
    {
      "cell_type": "code",
      "metadata": {
        "id": "tM_ZYloQKZxw",
        "colab_type": "code",
        "colab": {}
      },
      "source": [
        "df.fillna(df.mean(), inplace = True)"
      ],
      "execution_count": 0,
      "outputs": []
    },
    {
      "cell_type": "code",
      "metadata": {
        "id": "kPX67IXQOSeI",
        "colab_type": "code",
        "colab": {}
      },
      "source": [
        "#df.isnull().sum()"
      ],
      "execution_count": 0,
      "outputs": []
    },
    {
      "cell_type": "code",
      "metadata": {
        "id": "u6OvAVaUGH6j",
        "colab_type": "code",
        "colab": {
          "base_uri": "https://localhost:8080/",
          "height": 102
        },
        "outputId": "7dc24693-c16b-4fb2-fa6c-5977a0b6cc50"
      },
      "source": [
        "train.fillna(train.mean(), inplace = True)"
      ],
      "execution_count": 563,
      "outputs": [
        {
          "output_type": "stream",
          "text": [
            "/usr/local/lib/python3.6/dist-packages/pandas/core/generic.py:6130: SettingWithCopyWarning: \n",
            "A value is trying to be set on a copy of a slice from a DataFrame\n",
            "\n",
            "See the caveats in the documentation: http://pandas.pydata.org/pandas-docs/stable/indexing.html#indexing-view-versus-copy\n",
            "  self._update_inplace(new_data)\n"
          ],
          "name": "stderr"
        }
      ]
    },
    {
      "cell_type": "code",
      "metadata": {
        "id": "zJv8vLc0F_q4",
        "colab_type": "code",
        "colab": {}
      },
      "source": [
        "#train.isnull().sum()"
      ],
      "execution_count": 0,
      "outputs": []
    },
    {
      "cell_type": "code",
      "metadata": {
        "id": "r8LGlNcZGODz",
        "colab_type": "code",
        "colab": {
          "base_uri": "https://localhost:8080/",
          "height": 102
        },
        "outputId": "d4fc4c2f-f395-441e-af1c-56719fc414ab"
      },
      "source": [
        "test.fillna(test.mean(), inplace = True)"
      ],
      "execution_count": 565,
      "outputs": [
        {
          "output_type": "stream",
          "text": [
            "/usr/local/lib/python3.6/dist-packages/pandas/core/generic.py:6130: SettingWithCopyWarning: \n",
            "A value is trying to be set on a copy of a slice from a DataFrame\n",
            "\n",
            "See the caveats in the documentation: http://pandas.pydata.org/pandas-docs/stable/indexing.html#indexing-view-versus-copy\n",
            "  self._update_inplace(new_data)\n"
          ],
          "name": "stderr"
        }
      ]
    },
    {
      "cell_type": "code",
      "metadata": {
        "id": "ytcrsPbaGSGz",
        "colab_type": "code",
        "colab": {}
      },
      "source": [
        "#test.isnull().sum()"
      ],
      "execution_count": 0,
      "outputs": []
    },
    {
      "cell_type": "markdown",
      "metadata": {
        "id": "lXEemaOSZ0Wr",
        "colab_type": "text"
      },
      "source": [
        "## Collecting required data for predictions"
      ]
    },
    {
      "cell_type": "code",
      "metadata": {
        "id": "s3Y9cL3JO6KX",
        "colab_type": "code",
        "colab": {}
      },
      "source": [
        "## Power of shot\n",
        "\n",
        "X1 = train[\"power_of_shot\"].values\n",
        "#print(X1)\n",
        "\n",
        "x1 = test[\"power_of_shot\"].values"
      ],
      "execution_count": 0,
      "outputs": []
    },
    {
      "cell_type": "code",
      "metadata": {
        "id": "kQpl9kGRVd3C",
        "colab_type": "code",
        "colab": {}
      },
      "source": [
        "## Distance of shot\n",
        "\n",
        "X2 = train[\"distance_of_shot\"].values\n",
        "#print(X2)\n",
        "\n",
        "x2 = test[\"distance_of_shot\"].values"
      ],
      "execution_count": 0,
      "outputs": []
    },
    {
      "cell_type": "code",
      "metadata": {
        "id": "VYbE2EpfP3EK",
        "colab_type": "code",
        "colab": {
          "base_uri": "https://localhost:8080/",
          "height": 221
        },
        "outputId": "be101f75-1690-47b6-bc1c-ae9a7c8943d2"
      },
      "source": [
        "## Combining minutes and seconds to get time\n",
        "\n",
        "train[\"remaining_time\"] = train[\"remaining_min\"]*60 + train[\"remaining_sec\"]\n",
        "test[\"remaining_time\"] = test[\"remaining_min\"]*60 + test[\"remaining_sec\"]"
      ],
      "execution_count": 569,
      "outputs": [
        {
          "output_type": "stream",
          "text": [
            "/usr/local/lib/python3.6/dist-packages/ipykernel_launcher.py:2: SettingWithCopyWarning: \n",
            "A value is trying to be set on a copy of a slice from a DataFrame.\n",
            "Try using .loc[row_indexer,col_indexer] = value instead\n",
            "\n",
            "See the caveats in the documentation: http://pandas.pydata.org/pandas-docs/stable/indexing.html#indexing-view-versus-copy\n",
            "  \n",
            "/usr/local/lib/python3.6/dist-packages/ipykernel_launcher.py:3: SettingWithCopyWarning: \n",
            "A value is trying to be set on a copy of a slice from a DataFrame.\n",
            "Try using .loc[row_indexer,col_indexer] = value instead\n",
            "\n",
            "See the caveats in the documentation: http://pandas.pydata.org/pandas-docs/stable/indexing.html#indexing-view-versus-copy\n",
            "  This is separate from the ipykernel package so we can avoid doing imports until\n"
          ],
          "name": "stderr"
        }
      ]
    },
    {
      "cell_type": "code",
      "metadata": {
        "id": "CbRIGuuFUqOB",
        "colab_type": "code",
        "colab": {}
      },
      "source": [
        "## Remaining time\n",
        "\n",
        "X3 = train[\"remaining_time\"].values\n",
        "#print(X3)\n",
        "x3 = test[\"remaining_time\"].values"
      ],
      "execution_count": 0,
      "outputs": []
    },
    {
      "cell_type": "code",
      "metadata": {
        "id": "nWlO-ob0ewsz",
        "colab_type": "code",
        "colab": {}
      },
      "source": [
        "#train[\"area_of_shot\"].unique()"
      ],
      "execution_count": 0,
      "outputs": []
    },
    {
      "cell_type": "code",
      "metadata": {
        "id": "4dL-kz4_ew2x",
        "colab_type": "code",
        "colab": {}
      },
      "source": [
        "#train[\"area_of_shot\"].mode()"
      ],
      "execution_count": 0,
      "outputs": []
    },
    {
      "cell_type": "code",
      "metadata": {
        "id": "j___2AeLguz4",
        "colab_type": "code",
        "colab": {
          "base_uri": "https://localhost:8080/",
          "height": 221
        },
        "outputId": "41131197-408a-4585-8aae-1f8be7e64fd5"
      },
      "source": [
        "## Mapping area of shot to integer values\n",
        "\n",
        "area_of_shot_map = {'Left Side(L)':1, 'Left Side Center(LC)':2, 'Right Side Center(RC)':3, 'Center(C)':4, 'Right Side(R)':5, 'Mid Ground(MG)':6, np.nan:4}\n",
        "\n",
        "df[\"area_of_shot\"] = df[\"area_of_shot\"].map(lambda x:area_of_shot_map[x])\n",
        "train[\"area_of_shot\"] = train[\"area_of_shot\"].map(lambda x:area_of_shot_map[x])\n",
        "test[\"area_of_shot\"] = test[\"area_of_shot\"].map(lambda x:area_of_shot_map[x])"
      ],
      "execution_count": 573,
      "outputs": [
        {
          "output_type": "stream",
          "text": [
            "/usr/local/lib/python3.6/dist-packages/ipykernel_launcher.py:5: SettingWithCopyWarning: \n",
            "A value is trying to be set on a copy of a slice from a DataFrame.\n",
            "Try using .loc[row_indexer,col_indexer] = value instead\n",
            "\n",
            "See the caveats in the documentation: http://pandas.pydata.org/pandas-docs/stable/indexing.html#indexing-view-versus-copy\n",
            "  \"\"\"\n",
            "/usr/local/lib/python3.6/dist-packages/ipykernel_launcher.py:6: SettingWithCopyWarning: \n",
            "A value is trying to be set on a copy of a slice from a DataFrame.\n",
            "Try using .loc[row_indexer,col_indexer] = value instead\n",
            "\n",
            "See the caveats in the documentation: http://pandas.pydata.org/pandas-docs/stable/indexing.html#indexing-view-versus-copy\n",
            "  \n"
          ],
          "name": "stderr"
        }
      ]
    },
    {
      "cell_type": "code",
      "metadata": {
        "id": "i_R797jPgu31",
        "colab_type": "code",
        "colab": {}
      },
      "source": [
        "#train.isnull().sum()"
      ],
      "execution_count": 0,
      "outputs": []
    },
    {
      "cell_type": "code",
      "metadata": {
        "id": "uQskZOExgu7D",
        "colab_type": "code",
        "colab": {}
      },
      "source": [
        "## Area of shot\n",
        "\n",
        "X4 = train[\"area_of_shot\"].values\n",
        "#print(X4)\n",
        "\n",
        "x4 = test[\"area_of_shot\"].values"
      ],
      "execution_count": 0,
      "outputs": []
    },
    {
      "cell_type": "code",
      "metadata": {
        "id": "sojouh5Egu94",
        "colab_type": "code",
        "colab": {}
      },
      "source": [
        "#train[\"range_of_shot\"].unique()"
      ],
      "execution_count": 0,
      "outputs": []
    },
    {
      "cell_type": "code",
      "metadata": {
        "id": "6jeY-zQasKJa",
        "colab_type": "code",
        "colab": {}
      },
      "source": [
        "#train[\"range_of_shot\"].mode()"
      ],
      "execution_count": 0,
      "outputs": []
    },
    {
      "cell_type": "code",
      "metadata": {
        "id": "O3BENFLXrgC4",
        "colab_type": "code",
        "colab": {
          "base_uri": "https://localhost:8080/",
          "height": 221
        },
        "outputId": "a27cdd2d-eca0-4fbc-b424-8c4429381dc9"
      },
      "source": [
        "## Mapping range of shot to integer values\n",
        "\n",
        "range_of_shot_map = {'8-16 ft.':1, '16-24 ft.':2, 'Less Than 8 ft.':3, '24+ ft.':4, 'Back Court Shot':5, np.nan:3}\n",
        "\n",
        "df[\"range_of_shot\"] = df[\"range_of_shot\"].map(lambda x:range_of_shot_map[x])\n",
        "train[\"range_of_shot\"] = train[\"range_of_shot\"].map(lambda x:range_of_shot_map[x])\n",
        "test[\"range_of_shot\"] = test[\"range_of_shot\"].map(lambda x:range_of_shot_map[x])"
      ],
      "execution_count": 578,
      "outputs": [
        {
          "output_type": "stream",
          "text": [
            "/usr/local/lib/python3.6/dist-packages/ipykernel_launcher.py:5: SettingWithCopyWarning: \n",
            "A value is trying to be set on a copy of a slice from a DataFrame.\n",
            "Try using .loc[row_indexer,col_indexer] = value instead\n",
            "\n",
            "See the caveats in the documentation: http://pandas.pydata.org/pandas-docs/stable/indexing.html#indexing-view-versus-copy\n",
            "  \"\"\"\n",
            "/usr/local/lib/python3.6/dist-packages/ipykernel_launcher.py:6: SettingWithCopyWarning: \n",
            "A value is trying to be set on a copy of a slice from a DataFrame.\n",
            "Try using .loc[row_indexer,col_indexer] = value instead\n",
            "\n",
            "See the caveats in the documentation: http://pandas.pydata.org/pandas-docs/stable/indexing.html#indexing-view-versus-copy\n",
            "  \n"
          ],
          "name": "stderr"
        }
      ]
    },
    {
      "cell_type": "code",
      "metadata": {
        "id": "j7n2V17drgK0",
        "colab_type": "code",
        "colab": {}
      },
      "source": [
        "## Range of shot\n",
        "\n",
        "X5 = train[\"range_of_shot\"].values\n",
        "#print(X5)\n",
        "\n",
        "x5 = test[\"range_of_shot\"].values"
      ],
      "execution_count": 0,
      "outputs": []
    },
    {
      "cell_type": "code",
      "metadata": {
        "id": "k70Y5D5fs2lU",
        "colab_type": "code",
        "colab": {}
      },
      "source": [
        "#train[\"shot_basics\"].unique()"
      ],
      "execution_count": 0,
      "outputs": []
    },
    {
      "cell_type": "code",
      "metadata": {
        "id": "F75dzYUAs2oh",
        "colab_type": "code",
        "colab": {}
      },
      "source": [
        "#train[\"shot_basics\"].mode()"
      ],
      "execution_count": 0,
      "outputs": []
    },
    {
      "cell_type": "code",
      "metadata": {
        "id": "NfBQcyf7s2vj",
        "colab_type": "code",
        "colab": {
          "base_uri": "https://localhost:8080/",
          "height": 221
        },
        "outputId": "54f52b6e-405e-4510-db70-f96ff6a8214b"
      },
      "source": [
        "## Mapping shot basics to integer values\n",
        "\n",
        "shot_basics_map = {'Mid Range':1, 'Goal Area':2, 'Goal Line':3, 'Penalty Spot':4, 'Right Corner':5, 'Mid Ground Line':6, 'Left Corner':7, np.nan:1}\n",
        "\n",
        "df[\"shot_basics\"] = df[\"shot_basics\"].map(lambda x:shot_basics_map[x])\n",
        "train[\"shot_basics\"] = train[\"shot_basics\"].map(lambda x:shot_basics_map[x])\n",
        "test[\"shot_basics\"] = test[\"shot_basics\"].map(lambda x:shot_basics_map[x])"
      ],
      "execution_count": 582,
      "outputs": [
        {
          "output_type": "stream",
          "text": [
            "/usr/local/lib/python3.6/dist-packages/ipykernel_launcher.py:5: SettingWithCopyWarning: \n",
            "A value is trying to be set on a copy of a slice from a DataFrame.\n",
            "Try using .loc[row_indexer,col_indexer] = value instead\n",
            "\n",
            "See the caveats in the documentation: http://pandas.pydata.org/pandas-docs/stable/indexing.html#indexing-view-versus-copy\n",
            "  \"\"\"\n",
            "/usr/local/lib/python3.6/dist-packages/ipykernel_launcher.py:6: SettingWithCopyWarning: \n",
            "A value is trying to be set on a copy of a slice from a DataFrame.\n",
            "Try using .loc[row_indexer,col_indexer] = value instead\n",
            "\n",
            "See the caveats in the documentation: http://pandas.pydata.org/pandas-docs/stable/indexing.html#indexing-view-versus-copy\n",
            "  \n"
          ],
          "name": "stderr"
        }
      ]
    },
    {
      "cell_type": "code",
      "metadata": {
        "id": "9Xu6mf_Es2r0",
        "colab_type": "code",
        "colab": {}
      },
      "source": [
        "## Shot basics\n",
        "\n",
        "X6 = train[\"shot_basics\"].values\n",
        "#print(X6)\n",
        "\n",
        "x6 = test[\"shot_basics\"].values"
      ],
      "execution_count": 0,
      "outputs": []
    },
    {
      "cell_type": "code",
      "metadata": {
        "id": "zEGsSJpqxiVL",
        "colab_type": "code",
        "colab": {}
      },
      "source": [
        "X7 = train[\"location_x\"].values\n",
        "x7 = test[\"location_x\"].values"
      ],
      "execution_count": 0,
      "outputs": []
    },
    {
      "cell_type": "code",
      "metadata": {
        "id": "xOtF0JLgxr2Z",
        "colab_type": "code",
        "colab": {}
      },
      "source": [
        "X8 = train[\"location_y\"].values\n",
        "x8 = test[\"location_y\"].values"
      ],
      "execution_count": 0,
      "outputs": []
    },
    {
      "cell_type": "code",
      "metadata": {
        "id": "1zlxHob3rgYW",
        "colab_type": "code",
        "colab": {}
      },
      "source": [
        "#train.isnull().sum()"
      ],
      "execution_count": 0,
      "outputs": []
    },
    {
      "cell_type": "code",
      "metadata": {
        "id": "dNXUNXdFaA55",
        "colab_type": "code",
        "outputId": "33d4beea-52d0-4b97-8700-25c7c5eec80c",
        "colab": {
          "base_uri": "https://localhost:8080/",
          "height": 34
        }
      },
      "source": [
        "Y = train[\"is_goal\"].values\n",
        "print(Y)"
      ],
      "execution_count": 587,
      "outputs": [
        {
          "output_type": "stream",
          "text": [
            "[0. 1. 0. ... 1. 0. 0.]\n"
          ],
          "name": "stdout"
        }
      ]
    },
    {
      "cell_type": "code",
      "metadata": {
        "id": "QW3itS7BZpri",
        "colab_type": "code",
        "colab": {}
      },
      "source": [
        "# plt.scatter(X1, X2, c=Y)\n",
        "# plt.show()"
      ],
      "execution_count": 0,
      "outputs": []
    },
    {
      "cell_type": "code",
      "metadata": {
        "id": "4muC7kz5aV2K",
        "colab_type": "code",
        "colab": {}
      },
      "source": [
        "a = np.array(X1)\n",
        "a1 = np.array(x1)\n",
        "#print(a)"
      ],
      "execution_count": 0,
      "outputs": []
    },
    {
      "cell_type": "code",
      "metadata": {
        "id": "R9tQXwQcEq-V",
        "colab_type": "code",
        "colab": {}
      },
      "source": [
        "b = np.array(X2)\n",
        "b1 = np.array(x2)\n",
        "#print(b)"
      ],
      "execution_count": 0,
      "outputs": []
    },
    {
      "cell_type": "code",
      "metadata": {
        "id": "ooljnokhVRy-",
        "colab_type": "code",
        "colab": {}
      },
      "source": [
        "c = np.array(X3)\n",
        "c1 = np.array(x3)\n",
        "#print(c)"
      ],
      "execution_count": 0,
      "outputs": []
    },
    {
      "cell_type": "code",
      "metadata": {
        "id": "rWeQ78I0vjfH",
        "colab_type": "code",
        "colab": {}
      },
      "source": [
        "d = np.array(X4)\n",
        "d1 = np.array(x4)\n",
        "#print(d)"
      ],
      "execution_count": 0,
      "outputs": []
    },
    {
      "cell_type": "code",
      "metadata": {
        "id": "ONmzUZpwvjrE",
        "colab_type": "code",
        "colab": {}
      },
      "source": [
        "e = np.array(X5)\n",
        "e1 = np.array(x5)\n",
        "#print(e)"
      ],
      "execution_count": 0,
      "outputs": []
    },
    {
      "cell_type": "code",
      "metadata": {
        "id": "hYs6M5mzvkIG",
        "colab_type": "code",
        "colab": {
          "base_uri": "https://localhost:8080/",
          "height": 34
        },
        "outputId": "cb7ed299-880e-4511-9885-6d7e89401d57"
      },
      "source": [
        "f = np.array(X6)\n",
        "f1 = np.array(x6)\n",
        "print(f1.shape)\n",
        "#print(f)"
      ],
      "execution_count": 594,
      "outputs": [
        {
          "output_type": "stream",
          "text": [
            "(6268,)\n"
          ],
          "name": "stdout"
        }
      ]
    },
    {
      "cell_type": "code",
      "metadata": {
        "id": "76UPp47pxzRo",
        "colab_type": "code",
        "colab": {
          "base_uri": "https://localhost:8080/",
          "height": 34
        },
        "outputId": "306077dd-ca67-4e63-c2f6-2362b044ac8a"
      },
      "source": [
        "g = np.array(X7)\n",
        "g1 = np.array(x7)\n",
        "print(g1.shape)"
      ],
      "execution_count": 595,
      "outputs": [
        {
          "output_type": "stream",
          "text": [
            "(6268,)\n"
          ],
          "name": "stdout"
        }
      ]
    },
    {
      "cell_type": "code",
      "metadata": {
        "id": "U6Vsn4MVxzcQ",
        "colab_type": "code",
        "colab": {
          "base_uri": "https://localhost:8080/",
          "height": 34
        },
        "outputId": "0a913d2d-acb2-4c04-c8d4-c99568a9f2ed"
      },
      "source": [
        "h = np.array(X8)\n",
        "h1 = np.array(x8)\n",
        "print(h1.shape)"
      ],
      "execution_count": 596,
      "outputs": [
        {
          "output_type": "stream",
          "text": [
            "(6268,)\n"
          ],
          "name": "stdout"
        }
      ]
    },
    {
      "cell_type": "code",
      "metadata": {
        "id": "qJTpm2BIEuud",
        "colab_type": "code",
        "colab": {}
      },
      "source": [
        "X = np.column_stack((a,b,c,d,e,f,g,h))\n",
        "X_test = np.column_stack((a1,b1,c1,d1,e1,f1,g1,h1))\n",
        "#print(X)"
      ],
      "execution_count": 0,
      "outputs": []
    },
    {
      "cell_type": "markdown",
      "metadata": {
        "id": "7isOZBfaJDPb",
        "colab_type": "text"
      },
      "source": [
        "# PREDICTIONS"
      ]
    },
    {
      "cell_type": "code",
      "metadata": {
        "id": "Eb-s2MTD2AsH",
        "colab_type": "code",
        "colab": {}
      },
      "source": [
        "Y_true = Y"
      ],
      "execution_count": 0,
      "outputs": []
    },
    {
      "cell_type": "markdown",
      "metadata": {
        "id": "zauDNugmzrCp",
        "colab_type": "text"
      },
      "source": [
        "### 1. Logistic Regression"
      ]
    },
    {
      "cell_type": "code",
      "metadata": {
        "id": "FRW6vteRzpob",
        "colab_type": "code",
        "colab": {}
      },
      "source": [
        "#from sklearn.linear_model import LogisticRegression"
      ],
      "execution_count": 0,
      "outputs": []
    },
    {
      "cell_type": "code",
      "metadata": {
        "id": "IAZ5VeRfzp1Z",
        "colab_type": "code",
        "colab": {}
      },
      "source": [
        "#classifier_logistic = LogisticRegression(random_state=0, solver='lbfgs', multi_class='multinomial')"
      ],
      "execution_count": 0,
      "outputs": []
    },
    {
      "cell_type": "code",
      "metadata": {
        "id": "bsSskvJozqCS",
        "colab_type": "code",
        "colab": {}
      },
      "source": [
        "#classifier_logistic.fit(X,Y)"
      ],
      "execution_count": 0,
      "outputs": []
    },
    {
      "cell_type": "code",
      "metadata": {
        "colab_type": "code",
        "id": "1cyVga7BX83v",
        "colab": {}
      },
      "source": [
        "#Y_predict_logistic = classifier_logistic.predict(X)"
      ],
      "execution_count": 0,
      "outputs": []
    },
    {
      "cell_type": "markdown",
      "metadata": {
        "id": "RJdC38Qh0xts",
        "colab_type": "text"
      },
      "source": [
        "### 2. KNN"
      ]
    },
    {
      "cell_type": "code",
      "metadata": {
        "id": "2Rc4fN2J0yBV",
        "colab_type": "code",
        "colab": {}
      },
      "source": [
        "#from sklearn.neighbors import KNeighborsClassifier"
      ],
      "execution_count": 0,
      "outputs": []
    },
    {
      "cell_type": "code",
      "metadata": {
        "id": "oFm0Zn1H0yLu",
        "colab_type": "code",
        "colab": {}
      },
      "source": [
        "#classifier_knn = KNeighborsClassifier(n_neighbors=3)"
      ],
      "execution_count": 0,
      "outputs": []
    },
    {
      "cell_type": "code",
      "metadata": {
        "id": "UUcUYQZB0ykO",
        "colab_type": "code",
        "colab": {}
      },
      "source": [
        "#classifier_knn.fit(X,Y)"
      ],
      "execution_count": 0,
      "outputs": []
    },
    {
      "cell_type": "code",
      "metadata": {
        "colab_type": "code",
        "id": "gOTyw1aXX8fO",
        "colab": {}
      },
      "source": [
        "#Y_predict_knn = classifier_knn.predict(X)"
      ],
      "execution_count": 0,
      "outputs": []
    },
    {
      "cell_type": "markdown",
      "metadata": {
        "id": "X7RGByjyJKT7",
        "colab_type": "text"
      },
      "source": [
        "### 3. Support Vector Machine"
      ]
    },
    {
      "cell_type": "code",
      "metadata": {
        "id": "z2pXUFx5E4MA",
        "colab_type": "code",
        "colab": {}
      },
      "source": [
        "#from sklearn.svm import SVC"
      ],
      "execution_count": 0,
      "outputs": []
    },
    {
      "cell_type": "code",
      "metadata": {
        "id": "5mYE-DIyFBav",
        "colab_type": "code",
        "colab": {}
      },
      "source": [
        "#classifier_svm = SVC(gamma = 'auto', probability=True)"
      ],
      "execution_count": 0,
      "outputs": []
    },
    {
      "cell_type": "code",
      "metadata": {
        "id": "dSCGEw6uFHAq",
        "colab_type": "code",
        "colab": {}
      },
      "source": [
        "#classifier_svm.fit(X,Y)"
      ],
      "execution_count": 0,
      "outputs": []
    },
    {
      "cell_type": "code",
      "metadata": {
        "colab_type": "code",
        "id": "uHZm9eC0X8Uc",
        "colab": {}
      },
      "source": [
        "#classifier_svm.score(X, Y)"
      ],
      "execution_count": 0,
      "outputs": []
    },
    {
      "cell_type": "code",
      "metadata": {
        "colab_type": "code",
        "id": "VPTx3uI9X8KH",
        "colab": {}
      },
      "source": [
        "#Y_predict_svm = classifier_svm.predict_proba(X)\n",
        "#Y_predict_svm = classifier_svm.predict(X)\n",
        "#print(Y_predict_svm)"
      ],
      "execution_count": 0,
      "outputs": []
    },
    {
      "cell_type": "markdown",
      "metadata": {
        "id": "l_Zs_d1FJWJV",
        "colab_type": "text"
      },
      "source": [
        "### 4. Random Forest "
      ]
    },
    {
      "cell_type": "code",
      "metadata": {
        "id": "4i5LIZAuIdd1",
        "colab_type": "code",
        "colab": {}
      },
      "source": [
        "from sklearn.ensemble import RandomForestClassifier"
      ],
      "execution_count": 0,
      "outputs": []
    },
    {
      "cell_type": "code",
      "metadata": {
        "id": "ASqyUsnFJgSS",
        "colab_type": "code",
        "colab": {}
      },
      "source": [
        "classifier_randomforest = RandomForestClassifier(n_estimators=100, max_depth=16, random_state=0)"
      ],
      "execution_count": 0,
      "outputs": []
    },
    {
      "cell_type": "code",
      "metadata": {
        "id": "P3Ccd65KJpXL",
        "colab_type": "code",
        "colab": {
          "base_uri": "https://localhost:8080/",
          "height": 136
        },
        "outputId": "52bdea96-c3ab-4100-b36f-99defeeb55ca"
      },
      "source": [
        "classifier_randomforest.fit(X,Y)"
      ],
      "execution_count": 614,
      "outputs": [
        {
          "output_type": "execute_result",
          "data": {
            "text/plain": [
              "RandomForestClassifier(bootstrap=True, class_weight=None, criterion='gini',\n",
              "                       max_depth=16, max_features='auto', max_leaf_nodes=None,\n",
              "                       min_impurity_decrease=0.0, min_impurity_split=None,\n",
              "                       min_samples_leaf=1, min_samples_split=2,\n",
              "                       min_weight_fraction_leaf=0.0, n_estimators=100,\n",
              "                       n_jobs=None, oob_score=False, random_state=0, verbose=0,\n",
              "                       warm_start=False)"
            ]
          },
          "metadata": {
            "tags": []
          },
          "execution_count": 614
        }
      ]
    },
    {
      "cell_type": "code",
      "metadata": {
        "colab_type": "code",
        "id": "ZmCCSdi5X7-n",
        "colab": {}
      },
      "source": [
        "#classifier_randomforest.score(X,Y)"
      ],
      "execution_count": 0,
      "outputs": []
    },
    {
      "cell_type": "code",
      "metadata": {
        "colab_type": "code",
        "id": "OTf784fWX7y3",
        "colab": {}
      },
      "source": [
        "Y_predict_rf = classifier_randomforest.predict(X)"
      ],
      "execution_count": 0,
      "outputs": []
    },
    {
      "cell_type": "markdown",
      "metadata": {
        "id": "qNs11wF42FQ1",
        "colab_type": "text"
      },
      "source": [
        "### 5. XGBoost"
      ]
    },
    {
      "cell_type": "code",
      "metadata": {
        "id": "5gD-xCFN2Fg6",
        "colab_type": "code",
        "colab": {}
      },
      "source": [
        "import xgboost as xgb"
      ],
      "execution_count": 0,
      "outputs": []
    },
    {
      "cell_type": "code",
      "metadata": {
        "id": "UYqQ-tCG2FtN",
        "colab_type": "code",
        "colab": {}
      },
      "source": [
        "classifier_xgb = xgb.XGBClassifier(objective=\"binary:logistic\", random_state=42)"
      ],
      "execution_count": 0,
      "outputs": []
    },
    {
      "cell_type": "code",
      "metadata": {
        "id": "lXhk-KGOLE4s",
        "colab_type": "code",
        "colab": {
          "base_uri": "https://localhost:8080/",
          "height": 136
        },
        "outputId": "146b00df-75f4-416a-f9c8-84c595c8e247"
      },
      "source": [
        "classifier_xgb.fit(X,Y)"
      ],
      "execution_count": 619,
      "outputs": [
        {
          "output_type": "execute_result",
          "data": {
            "text/plain": [
              "XGBClassifier(base_score=0.5, booster='gbtree', colsample_bylevel=1,\n",
              "              colsample_bynode=1, colsample_bytree=1, gamma=0,\n",
              "              learning_rate=0.1, max_delta_step=0, max_depth=3,\n",
              "              min_child_weight=1, missing=None, n_estimators=100, n_jobs=1,\n",
              "              nthread=None, objective='binary:logistic', random_state=42,\n",
              "              reg_alpha=0, reg_lambda=1, scale_pos_weight=1, seed=None,\n",
              "              silent=None, subsample=1, verbosity=1)"
            ]
          },
          "metadata": {
            "tags": []
          },
          "execution_count": 619
        }
      ]
    },
    {
      "cell_type": "code",
      "metadata": {
        "colab_type": "code",
        "id": "72h7lxk2X7p8",
        "colab": {}
      },
      "source": [
        "Y_predict_xgb = classifier_xgb.predict(X)"
      ],
      "execution_count": 0,
      "outputs": []
    },
    {
      "cell_type": "markdown",
      "metadata": {
        "id": "s9YaaJa16kbO",
        "colab_type": "text"
      },
      "source": [
        "### 6. Gradient Boosting "
      ]
    },
    {
      "cell_type": "code",
      "metadata": {
        "id": "QpZiur0R6kpS",
        "colab_type": "code",
        "colab": {}
      },
      "source": [
        "#from sklearn.ensemble import GradientBoostingClassifier"
      ],
      "execution_count": 0,
      "outputs": []
    },
    {
      "cell_type": "code",
      "metadata": {
        "id": "2TjMmXEV6kyM",
        "colab_type": "code",
        "colab": {}
      },
      "source": [
        "#classifier_gb = GradientBoostingClassifier()"
      ],
      "execution_count": 0,
      "outputs": []
    },
    {
      "cell_type": "code",
      "metadata": {
        "id": "TvFBcaMF6k9H",
        "colab_type": "code",
        "colab": {}
      },
      "source": [
        "#classifier_gb.fit(X,Y)"
      ],
      "execution_count": 0,
      "outputs": []
    },
    {
      "cell_type": "code",
      "metadata": {
        "colab_type": "code",
        "id": "u0LOJA3FX7g3",
        "colab": {}
      },
      "source": [
        "#Y_predict_gb = classifier_gb.predict(X)"
      ],
      "execution_count": 0,
      "outputs": []
    },
    {
      "cell_type": "markdown",
      "metadata": {
        "id": "FAdbVbob77dC",
        "colab_type": "text"
      },
      "source": [
        "### 7. Decision Tree"
      ]
    },
    {
      "cell_type": "code",
      "metadata": {
        "id": "TuMx_5eY77sC",
        "colab_type": "code",
        "colab": {}
      },
      "source": [
        "#from sklearn.tree import DecisionTreeClassifier"
      ],
      "execution_count": 0,
      "outputs": []
    },
    {
      "cell_type": "code",
      "metadata": {
        "id": "zGh60oWk772L",
        "colab_type": "code",
        "colab": {}
      },
      "source": [
        "#classifier_decisionT = DecisionTreeClassifier(random_state=0)"
      ],
      "execution_count": 0,
      "outputs": []
    },
    {
      "cell_type": "code",
      "metadata": {
        "id": "itQCEK9V78Cq",
        "colab_type": "code",
        "colab": {}
      },
      "source": [
        "#classifier_decisionT.fit(X,Y)"
      ],
      "execution_count": 0,
      "outputs": []
    },
    {
      "cell_type": "code",
      "metadata": {
        "colab_type": "code",
        "id": "xcja-yJrX7Yg",
        "colab": {}
      },
      "source": [
        "#Y_predict_decisionT = classifier_decisionT.predict(X)"
      ],
      "execution_count": 0,
      "outputs": []
    },
    {
      "cell_type": "markdown",
      "metadata": {
        "id": "GTNIgZbO8l-5",
        "colab_type": "text"
      },
      "source": [
        "### 8. Naive Bayes"
      ]
    },
    {
      "cell_type": "code",
      "metadata": {
        "id": "vLz6i89h8mPT",
        "colab_type": "code",
        "colab": {}
      },
      "source": [
        "#from sklearn.naive_bayes import *"
      ],
      "execution_count": 0,
      "outputs": []
    },
    {
      "cell_type": "code",
      "metadata": {
        "id": "FDG8Qu-D8maS",
        "colab_type": "code",
        "colab": {}
      },
      "source": [
        "#classifier_nb_bernoulli = BernoulliNB()\n",
        "#classifier_nb_multinomial = MultinomialNB()\n",
        "#classifier_nb_gaussian = GaussianNB()"
      ],
      "execution_count": 0,
      "outputs": []
    },
    {
      "cell_type": "code",
      "metadata": {
        "id": "yvrXFqQK8mmv",
        "colab_type": "code",
        "colab": {}
      },
      "source": [
        "#classifier_nb_bernoulli.fit(X,Y)"
      ],
      "execution_count": 0,
      "outputs": []
    },
    {
      "cell_type": "code",
      "metadata": {
        "id": "eTaqXl808myo",
        "colab_type": "code",
        "colab": {}
      },
      "source": [
        "#classifier_nb_multinomial.fit(X,Y)"
      ],
      "execution_count": 0,
      "outputs": []
    },
    {
      "cell_type": "code",
      "metadata": {
        "id": "VbV4K_0o9m1U",
        "colab_type": "code",
        "colab": {}
      },
      "source": [
        "#classifier_nb_gaussian.fit(X,Y)"
      ],
      "execution_count": 0,
      "outputs": []
    },
    {
      "cell_type": "code",
      "metadata": {
        "colab_type": "code",
        "id": "EHKRZb_6X7Oi",
        "colab": {}
      },
      "source": [
        "#Y_predict_nb_bernoulli = classifier_nb_bernoulli.predict(X)\n",
        "#Y_predict_nb_multinomial = classifier_nb_multinomial.predict(X)\n",
        "#Y_predict_nb_gaussian = classifier_nb_gaussian.predict(X)"
      ],
      "execution_count": 0,
      "outputs": []
    },
    {
      "cell_type": "markdown",
      "metadata": {
        "id": "VdEnrBhyBDEC",
        "colab_type": "text"
      },
      "source": [
        "### 9. Neural Networks"
      ]
    },
    {
      "cell_type": "code",
      "metadata": {
        "id": "cpSn6fM7BDTZ",
        "colab_type": "code",
        "colab": {}
      },
      "source": [
        "#from sklearn.neural_network import MLPClassifier"
      ],
      "execution_count": 0,
      "outputs": []
    },
    {
      "cell_type": "code",
      "metadata": {
        "id": "KZvd5W77BDdV",
        "colab_type": "code",
        "colab": {}
      },
      "source": [
        "#classifier_mlp = MLPClassifier(hidden_layer_sizes=(100,100,100), max_iter=500, alpha=0.0001,\n",
        " #                    solver='sgd', verbose=10,  random_state=21,tol=0.000000001)"
      ],
      "execution_count": 0,
      "outputs": []
    },
    {
      "cell_type": "code",
      "metadata": {
        "id": "4HHXG9x6BDoA",
        "colab_type": "code",
        "colab": {}
      },
      "source": [
        "#classifier_mlp.fit(X,Y)"
      ],
      "execution_count": 0,
      "outputs": []
    },
    {
      "cell_type": "code",
      "metadata": {
        "colab_type": "code",
        "id": "ww35yj2pX6_z",
        "colab": {}
      },
      "source": [
        "#Y_predict_mlp = classifier_mlp.predict(X)"
      ],
      "execution_count": 0,
      "outputs": []
    },
    {
      "cell_type": "markdown",
      "metadata": {
        "id": "xqHqCln2HNRC",
        "colab_type": "text"
      },
      "source": [
        "### 10. Ada Boost"
      ]
    },
    {
      "cell_type": "code",
      "metadata": {
        "id": "DguXVKPFHNhl",
        "colab_type": "code",
        "colab": {}
      },
      "source": [
        "from sklearn.ensemble import AdaBoostClassifier"
      ],
      "execution_count": 0,
      "outputs": []
    },
    {
      "cell_type": "code",
      "metadata": {
        "id": "49e5IIKHHNrn",
        "colab_type": "code",
        "colab": {}
      },
      "source": [
        "classifier_ada = AdaBoostClassifier(n_estimators=100, random_state=0)"
      ],
      "execution_count": 0,
      "outputs": []
    },
    {
      "cell_type": "code",
      "metadata": {
        "id": "oTd2knD-HN21",
        "colab_type": "code",
        "colab": {
          "base_uri": "https://localhost:8080/",
          "height": 51
        },
        "outputId": "1679193d-43c0-429a-92db-f3d85355d818"
      },
      "source": [
        "classifier_ada.fit(X,Y)"
      ],
      "execution_count": 641,
      "outputs": [
        {
          "output_type": "execute_result",
          "data": {
            "text/plain": [
              "AdaBoostClassifier(algorithm='SAMME.R', base_estimator=None, learning_rate=1.0,\n",
              "                   n_estimators=100, random_state=0)"
            ]
          },
          "metadata": {
            "tags": []
          },
          "execution_count": 641
        }
      ]
    },
    {
      "cell_type": "code",
      "metadata": {
        "id": "_YmHFTP9HODI",
        "colab_type": "code",
        "colab": {}
      },
      "source": [
        "Y_predict_ada = classifier_ada.predict(X)"
      ],
      "execution_count": 0,
      "outputs": []
    },
    {
      "cell_type": "markdown",
      "metadata": {
        "id": "ScmEtNpXHoxU",
        "colab_type": "text"
      },
      "source": [
        "### 11. Quadratic Discriminant Analysis"
      ]
    },
    {
      "cell_type": "code",
      "metadata": {
        "id": "EJWWgnYcHpB-",
        "colab_type": "code",
        "colab": {}
      },
      "source": [
        "#from sklearn.discriminant_analysis import QuadraticDiscriminantAnalysis"
      ],
      "execution_count": 0,
      "outputs": []
    },
    {
      "cell_type": "code",
      "metadata": {
        "id": "w076MCekHpNn",
        "colab_type": "code",
        "colab": {}
      },
      "source": [
        "#classifier_qda = QuadraticDiscriminantAnalysis()"
      ],
      "execution_count": 0,
      "outputs": []
    },
    {
      "cell_type": "code",
      "metadata": {
        "id": "wuviXRRIHpZX",
        "colab_type": "code",
        "colab": {}
      },
      "source": [
        "#classifier_qda.fit(X,Y)"
      ],
      "execution_count": 0,
      "outputs": []
    },
    {
      "cell_type": "code",
      "metadata": {
        "id": "4q3qHsiGHplo",
        "colab_type": "code",
        "colab": {}
      },
      "source": [
        "#Y_predict_qda = classifier_qda.predict(X)"
      ],
      "execution_count": 0,
      "outputs": []
    },
    {
      "cell_type": "markdown",
      "metadata": {
        "id": "GxhW83DFLKtn",
        "colab_type": "text"
      },
      "source": [
        "## Calculating MAE score"
      ]
    },
    {
      "cell_type": "code",
      "metadata": {
        "id": "AgSak5FJLJjv",
        "colab_type": "code",
        "colab": {}
      },
      "source": [
        "#from sklearn.metrics import mean_absolute_error"
      ],
      "execution_count": 0,
      "outputs": []
    },
    {
      "cell_type": "code",
      "metadata": {
        "id": "DaTE23OU0pdw",
        "colab_type": "code",
        "colab": {}
      },
      "source": [
        "#mean_absolute_error(Y_true, Y_predict_logistic)"
      ],
      "execution_count": 0,
      "outputs": []
    },
    {
      "cell_type": "code",
      "metadata": {
        "id": "LjnOrOeG0po8",
        "colab_type": "code",
        "colab": {}
      },
      "source": [
        "#mean_absolute_error(Y_true, Y_predict_knn)"
      ],
      "execution_count": 0,
      "outputs": []
    },
    {
      "cell_type": "code",
      "metadata": {
        "id": "8xrGqwWXLZuv",
        "colab_type": "code",
        "colab": {}
      },
      "source": [
        "#mean_absolute_error(Y_true, Y_predict_svm)"
      ],
      "execution_count": 0,
      "outputs": []
    },
    {
      "cell_type": "code",
      "metadata": {
        "id": "yBvB-I-bLtqJ",
        "colab_type": "code",
        "colab": {
          "base_uri": "https://localhost:8080/",
          "height": 34
        },
        "outputId": "9868c3d6-e303-4c6d-d8eb-c440070079f4"
      },
      "source": [
        "mean_absolute_error(Y_true, Y_predict_rf)"
      ],
      "execution_count": 651,
      "outputs": [
        {
          "output_type": "execute_result",
          "data": {
            "text/plain": [
              "0.18776863563797128"
            ]
          },
          "metadata": {
            "tags": []
          },
          "execution_count": 651
        }
      ]
    },
    {
      "cell_type": "code",
      "metadata": {
        "id": "FKP0csZ37ScG",
        "colab_type": "code",
        "colab": {
          "base_uri": "https://localhost:8080/",
          "height": 34
        },
        "outputId": "0fdc0b82-4e53-4353-9e48-75649d5ab6fe"
      },
      "source": [
        "mean_absolute_error(Y_true, Y_predict_xgb)"
      ],
      "execution_count": 652,
      "outputs": [
        {
          "output_type": "execute_result",
          "data": {
            "text/plain": [
              "0.3859347496827541"
            ]
          },
          "metadata": {
            "tags": []
          },
          "execution_count": 652
        }
      ]
    },
    {
      "cell_type": "code",
      "metadata": {
        "id": "u639xqAw7NMJ",
        "colab_type": "code",
        "colab": {}
      },
      "source": [
        "#mean_absolute_error(Y_true, Y_predict_gb)"
      ],
      "execution_count": 0,
      "outputs": []
    },
    {
      "cell_type": "code",
      "metadata": {
        "id": "asGK7TcM7fou",
        "colab_type": "code",
        "colab": {}
      },
      "source": [
        "#mean_absolute_error(Y_true, Y_predict_decisionT)"
      ],
      "execution_count": 0,
      "outputs": []
    },
    {
      "cell_type": "code",
      "metadata": {
        "id": "-H46CD_w-BI9",
        "colab_type": "code",
        "colab": {}
      },
      "source": [
        "#mean_absolute_error(Y_true, Y_predict_nb_bernoulli)"
      ],
      "execution_count": 0,
      "outputs": []
    },
    {
      "cell_type": "code",
      "metadata": {
        "id": "35q8r8Lq-BVE",
        "colab_type": "code",
        "colab": {}
      },
      "source": [
        "#mean_absolute_error(Y_true, Y_predict_nb_multinomial)"
      ],
      "execution_count": 0,
      "outputs": []
    },
    {
      "cell_type": "code",
      "metadata": {
        "id": "pv0gv1en-BhM",
        "colab_type": "code",
        "colab": {}
      },
      "source": [
        "#mean_absolute_error(Y_true, Y_predict_nb_gaussian)"
      ],
      "execution_count": 0,
      "outputs": []
    },
    {
      "cell_type": "code",
      "metadata": {
        "id": "_DQYV5aGDsef",
        "colab_type": "code",
        "colab": {}
      },
      "source": [
        "#mean_absolute_error(Y_true, Y_predict_mlp)"
      ],
      "execution_count": 0,
      "outputs": []
    },
    {
      "cell_type": "code",
      "metadata": {
        "id": "ScwpNwMBHh1h",
        "colab_type": "code",
        "colab": {
          "base_uri": "https://localhost:8080/",
          "height": 34
        },
        "outputId": "cdae1c50-45c7-4242-a815-283fda848094"
      },
      "source": [
        "mean_absolute_error(Y_true, Y_predict_ada)"
      ],
      "execution_count": 659,
      "outputs": [
        {
          "output_type": "execute_result",
          "data": {
            "text/plain": [
              "0.388186172172418"
            ]
          },
          "metadata": {
            "tags": []
          },
          "execution_count": 659
        }
      ]
    },
    {
      "cell_type": "code",
      "metadata": {
        "id": "q8e0CCvaH8rU",
        "colab_type": "code",
        "colab": {}
      },
      "source": [
        "#mean_absolute_error(Y_true, Y_predict_qda)"
      ],
      "execution_count": 0,
      "outputs": []
    },
    {
      "cell_type": "code",
      "metadata": {
        "id": "QFgVMAXn150I",
        "colab_type": "code",
        "colab": {}
      },
      "source": [
        "# score = 1/(1+mae)\n",
        "# print(score)"
      ],
      "execution_count": 0,
      "outputs": []
    },
    {
      "cell_type": "markdown",
      "metadata": {
        "id": "C-UO7sLTCD6U",
        "colab_type": "text"
      },
      "source": [
        "## Calculating cross-validation score"
      ]
    },
    {
      "cell_type": "code",
      "metadata": {
        "id": "EEGm9vQyCI5y",
        "colab_type": "code",
        "colab": {}
      },
      "source": [
        "#from sklearn.model_selection import cross_val_score"
      ],
      "execution_count": 0,
      "outputs": []
    },
    {
      "cell_type": "code",
      "metadata": {
        "id": "BpKQFFtRCPhr",
        "colab_type": "code",
        "colab": {}
      },
      "source": [
        "#cross_val_score(classifier_logistic, X, Y)"
      ],
      "execution_count": 0,
      "outputs": []
    },
    {
      "cell_type": "code",
      "metadata": {
        "id": "bs2WOF_4CXGG",
        "colab_type": "code",
        "colab": {}
      },
      "source": [
        "#cross_val_score(classifier_knn, X, Y)"
      ],
      "execution_count": 0,
      "outputs": []
    },
    {
      "cell_type": "code",
      "metadata": {
        "id": "VMvNVurMC46S",
        "colab_type": "code",
        "colab": {}
      },
      "source": [
        "#cross_val_score(classifier_svm, X, Y)"
      ],
      "execution_count": 0,
      "outputs": []
    },
    {
      "cell_type": "code",
      "metadata": {
        "id": "dhS6E_2QM1fp",
        "colab_type": "code",
        "colab": {
          "base_uri": "https://localhost:8080/",
          "height": 88
        },
        "outputId": "4c5f2205-d7f2-4d7d-861e-359533878a2a"
      },
      "source": [
        "cross_val_score(classifier_randomforest, X, Y).mean()"
      ],
      "execution_count": 666,
      "outputs": [
        {
          "output_type": "stream",
          "text": [
            "/usr/local/lib/python3.6/dist-packages/sklearn/model_selection/_split.py:1978: FutureWarning: The default value of cv will change from 3 to 5 in version 0.22. Specify it explicitly to silence this warning.\n",
            "  warnings.warn(CV_WARNING, FutureWarning)\n"
          ],
          "name": "stderr"
        },
        {
          "output_type": "execute_result",
          "data": {
            "text/plain": [
              "0.5923699768028666"
            ]
          },
          "metadata": {
            "tags": []
          },
          "execution_count": 666
        }
      ]
    },
    {
      "cell_type": "code",
      "metadata": {
        "id": "quLz5gffM4OV",
        "colab_type": "code",
        "colab": {
          "base_uri": "https://localhost:8080/",
          "height": 88
        },
        "outputId": "56e54a0a-a38a-4d96-964f-03c8992b8547"
      },
      "source": [
        "cross_val_score(classifier_xgb, X, Y).mean()"
      ],
      "execution_count": 667,
      "outputs": [
        {
          "output_type": "stream",
          "text": [
            "/usr/local/lib/python3.6/dist-packages/sklearn/model_selection/_split.py:1978: FutureWarning: The default value of cv will change from 3 to 5 in version 0.22. Specify it explicitly to silence this warning.\n",
            "  warnings.warn(CV_WARNING, FutureWarning)\n"
          ],
          "name": "stderr"
        },
        {
          "output_type": "execute_result",
          "data": {
            "text/plain": [
              "0.6066971506717791"
            ]
          },
          "metadata": {
            "tags": []
          },
          "execution_count": 667
        }
      ]
    },
    {
      "cell_type": "code",
      "metadata": {
        "id": "_Yz3HpukN1R3",
        "colab_type": "code",
        "colab": {}
      },
      "source": [
        "#cross_val_score(classifier_gb, X, Y)"
      ],
      "execution_count": 0,
      "outputs": []
    },
    {
      "cell_type": "code",
      "metadata": {
        "id": "1HGAkMcSN1oG",
        "colab_type": "code",
        "colab": {}
      },
      "source": [
        "#cross_val_score(classifier_decisionT, X, Y)"
      ],
      "execution_count": 0,
      "outputs": []
    },
    {
      "cell_type": "code",
      "metadata": {
        "id": "2Zy1-4Q7N1Ol",
        "colab_type": "code",
        "colab": {}
      },
      "source": [
        "#cross_val_score(classifier_nb_bernoulli, X, Y)"
      ],
      "execution_count": 0,
      "outputs": []
    },
    {
      "cell_type": "code",
      "metadata": {
        "id": "7-2m4tYIN1Lc",
        "colab_type": "code",
        "colab": {}
      },
      "source": [
        "#cross_val_score(classifier_nb_multinomial, X, Y)"
      ],
      "execution_count": 0,
      "outputs": []
    },
    {
      "cell_type": "code",
      "metadata": {
        "id": "S2Egi3zRN1Ii",
        "colab_type": "code",
        "colab": {}
      },
      "source": [
        "#cross_val_score(classifier_nb_gaussian, X, Y)"
      ],
      "execution_count": 0,
      "outputs": []
    },
    {
      "cell_type": "code",
      "metadata": {
        "id": "WB8ftRvxODRp",
        "colab_type": "code",
        "colab": {}
      },
      "source": [
        "#cross_val_score(classifier_mlp, X, Y)"
      ],
      "execution_count": 0,
      "outputs": []
    },
    {
      "cell_type": "code",
      "metadata": {
        "id": "N_otQJRCODdy",
        "colab_type": "code",
        "colab": {
          "base_uri": "https://localhost:8080/",
          "height": 88
        },
        "outputId": "76a3c8cd-4072-4967-da63-25a614ebbc6e"
      },
      "source": [
        "cross_val_score(classifier_ada, X, Y).mean()"
      ],
      "execution_count": 674,
      "outputs": [
        {
          "output_type": "stream",
          "text": [
            "/usr/local/lib/python3.6/dist-packages/sklearn/model_selection/_split.py:1978: FutureWarning: The default value of cv will change from 3 to 5 in version 0.22. Specify it explicitly to silence this warning.\n",
            "  warnings.warn(CV_WARNING, FutureWarning)\n"
          ],
          "name": "stderr"
        },
        {
          "output_type": "execute_result",
          "data": {
            "text/plain": [
              "0.6072702953404062"
            ]
          },
          "metadata": {
            "tags": []
          },
          "execution_count": 674
        }
      ]
    },
    {
      "cell_type": "code",
      "metadata": {
        "id": "CW9Ct2fvOH6_",
        "colab_type": "code",
        "colab": {}
      },
      "source": [
        "#cross_val_score(classifier_qda, X, Y)"
      ],
      "execution_count": 0,
      "outputs": []
    },
    {
      "cell_type": "markdown",
      "metadata": {
        "id": "gosTB7x-cDxr",
        "colab_type": "text"
      },
      "source": [
        "## Predictions"
      ]
    },
    {
      "cell_type": "code",
      "metadata": {
        "id": "9H8mVSqecEOt",
        "colab_type": "code",
        "colab": {}
      },
      "source": [
        "# Y_predict_decisionT_test = classifier_decisionT.predict_proba(X_test)\n",
        "# predict_dt = Y_predict_decisionT_test[:,1]\n",
        "# print(predict_dt)"
      ],
      "execution_count": 0,
      "outputs": []
    },
    {
      "cell_type": "code",
      "metadata": {
        "id": "_GaAaO1BtiaZ",
        "colab_type": "code",
        "colab": {}
      },
      "source": [
        "# plt.hist(predict_dt)"
      ],
      "execution_count": 0,
      "outputs": []
    },
    {
      "cell_type": "code",
      "metadata": {
        "id": "gPKT_-HTcixF",
        "colab_type": "code",
        "colab": {
          "base_uri": "https://localhost:8080/",
          "height": 34
        },
        "outputId": "7685d1f8-c40c-437a-ebe5-50e4c12ff74d"
      },
      "source": [
        "Y_predict_rf_test = classifier_randomforest.predict_proba(X_test)\n",
        "predict_rf = Y_predict_rf_test[:,1]\n",
        "print(predict_rf)"
      ],
      "execution_count": 678,
      "outputs": [
        {
          "output_type": "stream",
          "text": [
            "[0.37295077 0.46376343 0.75965145 ... 0.42857169 0.52425075 0.70919033]\n"
          ],
          "name": "stdout"
        }
      ]
    },
    {
      "cell_type": "code",
      "metadata": {
        "id": "NyfdD3P1tn-Z",
        "colab_type": "code",
        "colab": {
          "base_uri": "https://localhost:8080/",
          "height": 371
        },
        "outputId": "bf271b04-f65f-436c-e3cd-487ae647bb25"
      },
      "source": [
        "plt.hist(predict_rf)"
      ],
      "execution_count": 679,
      "outputs": [
        {
          "output_type": "execute_result",
          "data": {
            "text/plain": [
              "(array([  27.,   70.,  283., 1130., 1937., 1289.,  616.,  713.,  147.,\n",
              "          56.]),\n",
              " array([0.        , 0.08900709, 0.17801419, 0.26702128, 0.35602837,\n",
              "        0.44503547, 0.53404256, 0.62304965, 0.71205675, 0.80106384,\n",
              "        0.89007093]),\n",
              " <a list of 10 Patch objects>)"
            ]
          },
          "metadata": {
            "tags": []
          },
          "execution_count": 679
        },
        {
          "output_type": "display_data",
          "data": {
            "image/png": "[encoded data removed]",
            "text/plain": [
              "<Figure size 432x288 with 1 Axes>"
            ]
          },
          "metadata": {
            "tags": []
          }
        }
      ]
    },
    {
      "cell_type": "code",
      "metadata": {
        "id": "yr-xrqQTckM5",
        "colab_type": "code",
        "colab": {
          "base_uri": "https://localhost:8080/",
          "height": 34
        },
        "outputId": "3ed4efee-576b-4729-bca9-95382122b4a8"
      },
      "source": [
        "Y_predict_xgb_test = classifier_xgb.predict_proba(X_test)\n",
        "predict_xgb = Y_predict_xgb_test[:,1]\n",
        "print(predict_xgb)"
      ],
      "execution_count": 680,
      "outputs": [
        {
          "output_type": "stream",
          "text": [
            "[0.39063123 0.5039306  0.5306204  ... 0.45411533 0.45073882 0.6509716 ]\n"
          ],
          "name": "stdout"
        }
      ]
    },
    {
      "cell_type": "code",
      "metadata": {
        "id": "CpDrGnsvtqWb",
        "colab_type": "code",
        "colab": {
          "base_uri": "https://localhost:8080/",
          "height": 371
        },
        "outputId": "282c2153-2aa8-42a6-b973-1b5e1361a8f4"
      },
      "source": [
        "plt.hist(predict_xgb)"
      ],
      "execution_count": 681,
      "outputs": [
        {
          "output_type": "execute_result",
          "data": {
            "text/plain": [
              "(array([  27.,   15.,   50.,  178.,  828., 2444., 1293.,  222.,  665.,\n",
              "         546.]),\n",
              " array([0.01414344, 0.08413088, 0.15411831, 0.22410575, 0.2940932 ,\n",
              "        0.3640806 , 0.43406805, 0.5040555 , 0.5740429 , 0.6440304 ,\n",
              "        0.7140178 ], dtype=float32),\n",
              " <a list of 10 Patch objects>)"
            ]
          },
          "metadata": {
            "tags": []
          },
          "execution_count": 681
        },
        {
          "output_type": "display_data",
          "data": {
            "image/png": "[encoded data removed]",
            "text/plain": [
              "<Figure size 432x288 with 1 Axes>"
            ]
          },
          "metadata": {
            "tags": []
          }
        }
      ]
    },
    {
      "cell_type": "code",
      "metadata": {
        "id": "dkmvwZf_ci-v",
        "colab_type": "code",
        "colab": {
          "base_uri": "https://localhost:8080/",
          "height": 34
        },
        "outputId": "b6af97b0-0f6c-4f81-f5af-3d3aa702cd1b"
      },
      "source": [
        "Y_predict_ada_test = classifier_ada.predict_proba(X_test)\n",
        "predict_ada = Y_predict_ada_test[:,1]\n",
        "print(predict_ada)"
      ],
      "execution_count": 682,
      "outputs": [
        {
          "output_type": "stream",
          "text": [
            "[0.49915321 0.50139336 0.49967227 ... 0.49984982 0.49966347 0.50128642]\n"
          ],
          "name": "stdout"
        }
      ]
    },
    {
      "cell_type": "code",
      "metadata": {
        "id": "BzDHn0QvtsX2",
        "colab_type": "code",
        "colab": {
          "base_uri": "https://localhost:8080/",
          "height": 371
        },
        "outputId": "10b90eae-4e1b-4143-f3db-a1dfce5192ef"
      },
      "source": [
        "plt.hist(predict_ada)"
      ],
      "execution_count": 683,
      "outputs": [
        {
          "output_type": "execute_result",
          "data": {
            "text/plain": [
              "(array([1.100e+01, 0.000e+00, 1.000e+00, 1.600e+01, 6.238e+03, 0.000e+00,\n",
              "        0.000e+00, 0.000e+00, 0.000e+00, 2.000e+00]),\n",
              " array([0.41587782, 0.43337735, 0.45087689, 0.46837642, 0.48587595,\n",
              "        0.50337548, 0.52087501, 0.53837455, 0.55587408, 0.57337361,\n",
              "        0.59087314]),\n",
              " <a list of 10 Patch objects>)"
            ]
          },
          "metadata": {
            "tags": []
          },
          "execution_count": 683
        },
        {
          "output_type": "display_data",
          "data": {
            "image/png": "[encoded data removed]",
            "text/plain": [
              "<Figure size 432x288 with 1 Axes>"
            ]
          },
          "metadata": {
            "tags": []
          }
        }
      ]
    },
    {
      "cell_type": "markdown",
      "metadata": {
        "id": "mIH1sILgSMtI",
        "colab_type": "text"
      },
      "source": [
        "## Writing predicted outputs to a .csv file"
      ]
    },
    {
      "cell_type": "code",
      "metadata": {
        "id": "MAyLP7zykhZy",
        "colab_type": "code",
        "colab": {}
      },
      "source": [
        "#test[\"shot_id_number\"] = test.index+1"
      ],
      "execution_count": 0,
      "outputs": []
    },
    {
      "cell_type": "code",
      "metadata": {
        "id": "pBg7lq-5kpwl",
        "colab_type": "code",
        "colab": {}
      },
      "source": [
        "#test[\"shot_id_number\"].shape"
      ],
      "execution_count": 0,
      "outputs": []
    },
    {
      "cell_type": "code",
      "metadata": {
        "id": "GHfdEqqhlWwv",
        "colab_type": "code",
        "colab": {}
      },
      "source": [
        "#X_test.shape[0]"
      ],
      "execution_count": 0,
      "outputs": []
    },
    {
      "cell_type": "code",
      "metadata": {
        "id": "v5vgjlrYSM-i",
        "colab_type": "code",
        "colab": {}
      },
      "source": [
        "import csv\n",
        "\n",
        "cs = pd.DataFrame({\"shot_id_number\":test[\"shot_id_number\"], \"is_goal\":predict_rf})\n",
        "#cs.head()\n",
        "cs.to_csv('cheshta_kwatra_032998_prediction_2.csv', index=False)"
      ],
      "execution_count": 0,
      "outputs": []
    },
    {
      "cell_type": "code",
      "metadata": {
        "id": "FmPKw_2ndPnM",
        "colab_type": "code",
        "colab": {}
      },
      "source": [
        "# cs = pd.DataFrame({\"shot_id_number\":test[\"shot_id_number\"], \"is_goal\":predict_rf})\n",
        "# #cs.head()\n",
        "# cs.to_csv('cheshta_kwatra_032998_prediction_2.csv', index=False)"
      ],
      "execution_count": 0,
      "outputs": []
    },
    {
      "cell_type": "code",
      "metadata": {
        "id": "SyTxgyvhdPzn",
        "colab_type": "code",
        "colab": {}
      },
      "source": [
        "# cs = pd.DataFrame({\"shot_id_number\":test[\"shot_id_number\"], \"is_goal\":predict_xgb})\n",
        "# #cs.head()\n",
        "# cs.to_csv('cheshta_kwatra_032998_prediction_3.csv', index=False)"
      ],
      "execution_count": 0,
      "outputs": []
    },
    {
      "cell_type": "code",
      "metadata": {
        "id": "7OaFjblddQAZ",
        "colab_type": "code",
        "colab": {}
      },
      "source": [
        "# cs = pd.DataFrame({\"shot_id_number\":test[\"shot_id_number\"], \"is_goal\":predict_ada})\n",
        "# #cs.head()\n",
        "# cs.to_csv('cheshta_kwatra_032998_prediction_4.csv', index=False)"
      ],
      "execution_count": 0,
      "outputs": []
    },
    {
      "cell_type": "code",
      "metadata": {
        "id": "3S5v-THHSNHy",
        "colab_type": "code",
        "colab": {}
      },
      "source": [
        "# files.download('cheshta_kwatra_032998_prediction_1.csv')\n",
        " files.download('cheshta_kwatra_032998_prediction_2.csv')\n",
        "# files.download('cheshta_kwatra_032998_prediction_3.csv')\n",
        "# files.download('cheshta_kwatra_032998_prediction_4.csv')"
      ],
      "execution_count": 0,
      "outputs": []
    },
    {
      "cell_type": "code",
      "metadata": {
        "id": "YpvjpQSQSNQ9",
        "colab_type": "code",
        "colab": {}
      },
      "source": [
        "\n"
      ],
      "execution_count": 0,
      "outputs": []
    }
  ]
}