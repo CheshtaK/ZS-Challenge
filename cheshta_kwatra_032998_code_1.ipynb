{
  "nbformat": 4,
  "nbformat_minor": 0,
  "metadata": {
    "colab": {
      "name": "cheshta_kwatra_032998_code_1.ipynb",
      "version": "0.3.2",
      "provenance": [],
      "collapsed_sections": []
    },
    "kernelspec": {
      "name": "python3",
      "display_name": "Python 3"
    },
    "accelerator": "GPU"
  },
  "cells": [
    {
      "cell_type": "markdown",
      "metadata": {
        "id": "u_QgPocwA4Pp",
        "colab_type": "text"
      },
      "source": [
        "## Understanding the dataset"
      ]
    },
    {
      "cell_type": "code",
      "metadata": {
        "id": "giQYSztC7QPK",
        "colab_type": "code",
        "colab": {}
      },
      "source": [
        "#from google.colab import files\n",
        "#files.upload()"
      ],
      "execution_count": 0,
      "outputs": []
    },
    {
      "cell_type": "code",
      "metadata": {
        "id": "ejk0ysSp7fkC",
        "colab_type": "code",
        "colab": {}
      },
      "source": [
        "#import pandas as pd\n",
        "#import numpy as np\n",
        "#import matplotlib.pyplot as plt"
      ],
      "execution_count": 0,
      "outputs": []
    },
    {
      "cell_type": "code",
      "metadata": {
        "id": "HWrgrdH38M00",
        "colab_type": "code",
        "colab": {}
      },
      "source": [
        "df = pd.read_csv('data.csv')"
      ],
      "execution_count": 0,
      "outputs": []
    },
    {
      "cell_type": "code",
      "metadata": {
        "id": "kUSNk9qk9YsE",
        "colab_type": "code",
        "colab": {}
      },
      "source": [
        "#df.head(5)"
      ],
      "execution_count": 0,
      "outputs": []
    },
    {
      "cell_type": "code",
      "metadata": {
        "id": "30QvqEbV9aeL",
        "colab_type": "code",
        "outputId": "9d71cae2-db03-4da6-a3ec-12eaa633b641",
        "colab": {
          "base_uri": "https://localhost:8080/",
          "height": 34
        }
      },
      "source": [
        "df.shape"
      ],
      "execution_count": 359,
      "outputs": [
        {
          "output_type": "execute_result",
          "data": {
            "text/plain": [
              "(30697, 28)"
            ]
          },
          "metadata": {
            "tags": []
          },
          "execution_count": 359
        }
      ]
    },
    {
      "cell_type": "code",
      "metadata": {
        "id": "J2gaPBpt97qq",
        "colab_type": "code",
        "colab": {}
      },
      "source": [
        "#df.columns"
      ],
      "execution_count": 0,
      "outputs": []
    },
    {
      "cell_type": "code",
      "metadata": {
        "id": "8aQdxeyQ-A32",
        "colab_type": "code",
        "colab": {}
      },
      "source": [
        "#df.isnull().sum()"
      ],
      "execution_count": 0,
      "outputs": []
    },
    {
      "cell_type": "markdown",
      "metadata": {
        "id": "uXRp9jhrDaWY",
        "colab_type": "text"
      },
      "source": [
        "## Split into train and test data"
      ]
    },
    {
      "cell_type": "code",
      "metadata": {
        "id": "eD-0gm0FDdzI",
        "colab_type": "code",
        "outputId": "dab391cf-f228-4b12-a681-3f744704ff34",
        "colab": {
          "base_uri": "https://localhost:8080/",
          "height": 34
        }
      },
      "source": [
        "test = df[df[\"is_goal\"].isnull()]\n",
        "print(test.shape)"
      ],
      "execution_count": 362,
      "outputs": [
        {
          "output_type": "stream",
          "text": [
            "(6268, 28)\n"
          ],
          "name": "stdout"
        }
      ]
    },
    {
      "cell_type": "code",
      "metadata": {
        "id": "YKVGSh8mFrHC",
        "colab_type": "code",
        "colab": {}
      },
      "source": [
        "#test.isnull().sum()"
      ],
      "execution_count": 0,
      "outputs": []
    },
    {
      "cell_type": "code",
      "metadata": {
        "id": "Yng4DTYkJn0i",
        "colab_type": "code",
        "outputId": "95d69e41-f873-4eca-d50a-03b63253e74e",
        "colab": {
          "base_uri": "https://localhost:8080/",
          "height": 34
        }
      },
      "source": [
        "train = df[df[\"is_goal\"].notnull()]\n",
        "print(train.shape)"
      ],
      "execution_count": 364,
      "outputs": [
        {
          "output_type": "stream",
          "text": [
            "(24429, 28)\n"
          ],
          "name": "stdout"
        }
      ]
    },
    {
      "cell_type": "code",
      "metadata": {
        "id": "xsomkQz7F4aq",
        "colab_type": "code",
        "colab": {}
      },
      "source": [
        "#train.isnull().sum()"
      ],
      "execution_count": 0,
      "outputs": []
    },
    {
      "cell_type": "markdown",
      "metadata": {
        "id": "GMSapmjvKVk8",
        "colab_type": "text"
      },
      "source": [
        "## Handling missing values"
      ]
    },
    {
      "cell_type": "code",
      "metadata": {
        "id": "tM_ZYloQKZxw",
        "colab_type": "code",
        "colab": {}
      },
      "source": [
        "df.fillna(df.mean(), inplace = True)"
      ],
      "execution_count": 0,
      "outputs": []
    },
    {
      "cell_type": "code",
      "metadata": {
        "id": "kPX67IXQOSeI",
        "colab_type": "code",
        "colab": {}
      },
      "source": [
        "#df.isnull().sum()"
      ],
      "execution_count": 0,
      "outputs": []
    },
    {
      "cell_type": "code",
      "metadata": {
        "id": "u6OvAVaUGH6j",
        "colab_type": "code",
        "colab": {
          "base_uri": "https://localhost:8080/",
          "height": 102
        },
        "outputId": "8e987147-2e59-4338-d145-7bd26235613c"
      },
      "source": [
        "train.fillna(train.mean(), inplace = True)"
      ],
      "execution_count": 368,
      "outputs": [
        {
          "output_type": "stream",
          "text": [
            "/usr/local/lib/python3.6/dist-packages/pandas/core/generic.py:6130: SettingWithCopyWarning: \n",
            "A value is trying to be set on a copy of a slice from a DataFrame\n",
            "\n",
            "See the caveats in the documentation: http://pandas.pydata.org/pandas-docs/stable/indexing.html#indexing-view-versus-copy\n",
            "  self._update_inplace(new_data)\n"
          ],
          "name": "stderr"
        }
      ]
    },
    {
      "cell_type": "code",
      "metadata": {
        "id": "zJv8vLc0F_q4",
        "colab_type": "code",
        "colab": {}
      },
      "source": [
        "#train.isnull().sum()"
      ],
      "execution_count": 0,
      "outputs": []
    },
    {
      "cell_type": "code",
      "metadata": {
        "id": "r8LGlNcZGODz",
        "colab_type": "code",
        "colab": {
          "base_uri": "https://localhost:8080/",
          "height": 102
        },
        "outputId": "59324335-675a-4bff-847c-2f8094af1fd4"
      },
      "source": [
        "test.fillna(test.mean(), inplace = True)"
      ],
      "execution_count": 370,
      "outputs": [
        {
          "output_type": "stream",
          "text": [
            "/usr/local/lib/python3.6/dist-packages/pandas/core/generic.py:6130: SettingWithCopyWarning: \n",
            "A value is trying to be set on a copy of a slice from a DataFrame\n",
            "\n",
            "See the caveats in the documentation: http://pandas.pydata.org/pandas-docs/stable/indexing.html#indexing-view-versus-copy\n",
            "  self._update_inplace(new_data)\n"
          ],
          "name": "stderr"
        }
      ]
    },
    {
      "cell_type": "code",
      "metadata": {
        "id": "ytcrsPbaGSGz",
        "colab_type": "code",
        "colab": {}
      },
      "source": [
        "#test.isnull().sum()"
      ],
      "execution_count": 0,
      "outputs": []
    },
    {
      "cell_type": "markdown",
      "metadata": {
        "id": "lXEemaOSZ0Wr",
        "colab_type": "text"
      },
      "source": [
        "## Collecting required data for predictions"
      ]
    },
    {
      "cell_type": "code",
      "metadata": {
        "id": "s3Y9cL3JO6KX",
        "colab_type": "code",
        "colab": {}
      },
      "source": [
        "## Power of shot\n",
        "\n",
        "X1 = train[\"power_of_shot\"].values\n",
        "#print(X1)\n",
        "\n",
        "x1 = test[\"power_of_shot\"].values"
      ],
      "execution_count": 0,
      "outputs": []
    },
    {
      "cell_type": "code",
      "metadata": {
        "id": "kQpl9kGRVd3C",
        "colab_type": "code",
        "colab": {}
      },
      "source": [
        "## Distance of shot\n",
        "\n",
        "X2 = train[\"distance_of_shot\"].values\n",
        "#print(X2)\n",
        "\n",
        "x2 = test[\"distance_of_shot\"].values"
      ],
      "execution_count": 0,
      "outputs": []
    },
    {
      "cell_type": "code",
      "metadata": {
        "id": "VYbE2EpfP3EK",
        "colab_type": "code",
        "colab": {
          "base_uri": "https://localhost:8080/",
          "height": 221
        },
        "outputId": "2a446ca3-8642-458c-cab7-b28b084843a9"
      },
      "source": [
        "## Combining minutes and seconds to get time\n",
        "\n",
        "train[\"remaining_time\"] = train[\"remaining_min\"]*60 + train[\"remaining_sec\"]\n",
        "test[\"remaining_time\"] = test[\"remaining_min\"]*60 + test[\"remaining_sec\"]"
      ],
      "execution_count": 374,
      "outputs": [
        {
          "output_type": "stream",
          "text": [
            "/usr/local/lib/python3.6/dist-packages/ipykernel_launcher.py:2: SettingWithCopyWarning: \n",
            "A value is trying to be set on a copy of a slice from a DataFrame.\n",
            "Try using .loc[row_indexer,col_indexer] = value instead\n",
            "\n",
            "See the caveats in the documentation: http://pandas.pydata.org/pandas-docs/stable/indexing.html#indexing-view-versus-copy\n",
            "  \n",
            "/usr/local/lib/python3.6/dist-packages/ipykernel_launcher.py:3: SettingWithCopyWarning: \n",
            "A value is trying to be set on a copy of a slice from a DataFrame.\n",
            "Try using .loc[row_indexer,col_indexer] = value instead\n",
            "\n",
            "See the caveats in the documentation: http://pandas.pydata.org/pandas-docs/stable/indexing.html#indexing-view-versus-copy\n",
            "  This is separate from the ipykernel package so we can avoid doing imports until\n"
          ],
          "name": "stderr"
        }
      ]
    },
    {
      "cell_type": "code",
      "metadata": {
        "id": "CbRIGuuFUqOB",
        "colab_type": "code",
        "colab": {}
      },
      "source": [
        "## Remaining time\n",
        "\n",
        "X3 = train[\"remaining_time\"].values\n",
        "#print(X3)\n",
        "x3 = test[\"remaining_time\"].values"
      ],
      "execution_count": 0,
      "outputs": []
    },
    {
      "cell_type": "code",
      "metadata": {
        "id": "nWlO-ob0ewsz",
        "colab_type": "code",
        "colab": {}
      },
      "source": [
        "#train[\"area_of_shot\"].unique()"
      ],
      "execution_count": 0,
      "outputs": []
    },
    {
      "cell_type": "code",
      "metadata": {
        "id": "4dL-kz4_ew2x",
        "colab_type": "code",
        "colab": {}
      },
      "source": [
        "#train[\"area_of_shot\"].mode()"
      ],
      "execution_count": 0,
      "outputs": []
    },
    {
      "cell_type": "code",
      "metadata": {
        "id": "j___2AeLguz4",
        "colab_type": "code",
        "colab": {
          "base_uri": "https://localhost:8080/",
          "height": 221
        },
        "outputId": "df49435a-b2da-4fe1-cb3b-e3d347b50562"
      },
      "source": [
        "## Mapping area of shot to integer values\n",
        "\n",
        "area_of_shot_map = {'Left Side(L)':1, 'Left Side Center(LC)':2, 'Right Side Center(RC)':3, 'Center(C)':4, 'Right Side(R)':5, 'Mid Ground(MG)':6, np.nan:4}\n",
        "\n",
        "df[\"area_of_shot\"] = df[\"area_of_shot\"].map(lambda x:area_of_shot_map[x])\n",
        "train[\"area_of_shot\"] = train[\"area_of_shot\"].map(lambda x:area_of_shot_map[x])\n",
        "test[\"area_of_shot\"] = test[\"area_of_shot\"].map(lambda x:area_of_shot_map[x])"
      ],
      "execution_count": 378,
      "outputs": [
        {
          "output_type": "stream",
          "text": [
            "/usr/local/lib/python3.6/dist-packages/ipykernel_launcher.py:5: SettingWithCopyWarning: \n",
            "A value is trying to be set on a copy of a slice from a DataFrame.\n",
            "Try using .loc[row_indexer,col_indexer] = value instead\n",
            "\n",
            "See the caveats in the documentation: http://pandas.pydata.org/pandas-docs/stable/indexing.html#indexing-view-versus-copy\n",
            "  \"\"\"\n",
            "/usr/local/lib/python3.6/dist-packages/ipykernel_launcher.py:6: SettingWithCopyWarning: \n",
            "A value is trying to be set on a copy of a slice from a DataFrame.\n",
            "Try using .loc[row_indexer,col_indexer] = value instead\n",
            "\n",
            "See the caveats in the documentation: http://pandas.pydata.org/pandas-docs/stable/indexing.html#indexing-view-versus-copy\n",
            "  \n"
          ],
          "name": "stderr"
        }
      ]
    },
    {
      "cell_type": "code",
      "metadata": {
        "id": "i_R797jPgu31",
        "colab_type": "code",
        "colab": {}
      },
      "source": [
        "#train.isnull().sum()"
      ],
      "execution_count": 0,
      "outputs": []
    },
    {
      "cell_type": "code",
      "metadata": {
        "id": "uQskZOExgu7D",
        "colab_type": "code",
        "colab": {}
      },
      "source": [
        "## Area of shot\n",
        "\n",
        "X4 = train[\"area_of_shot\"].values\n",
        "#print(X4)\n",
        "\n",
        "x4 = test[\"area_of_shot\"].values"
      ],
      "execution_count": 0,
      "outputs": []
    },
    {
      "cell_type": "code",
      "metadata": {
        "id": "sojouh5Egu94",
        "colab_type": "code",
        "colab": {}
      },
      "source": [
        "#train[\"range_of_shot\"].unique()"
      ],
      "execution_count": 0,
      "outputs": []
    },
    {
      "cell_type": "code",
      "metadata": {
        "id": "6jeY-zQasKJa",
        "colab_type": "code",
        "colab": {}
      },
      "source": [
        "#train[\"range_of_shot\"].mode()"
      ],
      "execution_count": 0,
      "outputs": []
    },
    {
      "cell_type": "code",
      "metadata": {
        "id": "O3BENFLXrgC4",
        "colab_type": "code",
        "colab": {
          "base_uri": "https://localhost:8080/",
          "height": 221
        },
        "outputId": "17574fe2-132b-41b1-aab8-d691d47a15d4"
      },
      "source": [
        "## Mapping range of shot to integer values\n",
        "\n",
        "range_of_shot_map = {'8-16 ft.':1, '16-24 ft.':2, 'Less Than 8 ft.':3, '24+ ft.':4, 'Back Court Shot':5, np.nan:3}\n",
        "\n",
        "df[\"range_of_shot\"] = df[\"range_of_shot\"].map(lambda x:range_of_shot_map[x])\n",
        "train[\"range_of_shot\"] = train[\"range_of_shot\"].map(lambda x:range_of_shot_map[x])\n",
        "test[\"range_of_shot\"] = test[\"range_of_shot\"].map(lambda x:range_of_shot_map[x])"
      ],
      "execution_count": 383,
      "outputs": [
        {
          "output_type": "stream",
          "text": [
            "/usr/local/lib/python3.6/dist-packages/ipykernel_launcher.py:5: SettingWithCopyWarning: \n",
            "A value is trying to be set on a copy of a slice from a DataFrame.\n",
            "Try using .loc[row_indexer,col_indexer] = value instead\n",
            "\n",
            "See the caveats in the documentation: http://pandas.pydata.org/pandas-docs/stable/indexing.html#indexing-view-versus-copy\n",
            "  \"\"\"\n",
            "/usr/local/lib/python3.6/dist-packages/ipykernel_launcher.py:6: SettingWithCopyWarning: \n",
            "A value is trying to be set on a copy of a slice from a DataFrame.\n",
            "Try using .loc[row_indexer,col_indexer] = value instead\n",
            "\n",
            "See the caveats in the documentation: http://pandas.pydata.org/pandas-docs/stable/indexing.html#indexing-view-versus-copy\n",
            "  \n"
          ],
          "name": "stderr"
        }
      ]
    },
    {
      "cell_type": "code",
      "metadata": {
        "id": "j7n2V17drgK0",
        "colab_type": "code",
        "colab": {}
      },
      "source": [
        "## Range of shot\n",
        "\n",
        "X5 = train[\"range_of_shot\"].values\n",
        "#print(X5)\n",
        "\n",
        "x5 = test[\"range_of_shot\"].values"
      ],
      "execution_count": 0,
      "outputs": []
    },
    {
      "cell_type": "code",
      "metadata": {
        "id": "k70Y5D5fs2lU",
        "colab_type": "code",
        "colab": {}
      },
      "source": [
        "#train[\"shot_basics\"].unique()"
      ],
      "execution_count": 0,
      "outputs": []
    },
    {
      "cell_type": "code",
      "metadata": {
        "id": "F75dzYUAs2oh",
        "colab_type": "code",
        "colab": {}
      },
      "source": [
        "#train[\"shot_basics\"].mode()"
      ],
      "execution_count": 0,
      "outputs": []
    },
    {
      "cell_type": "code",
      "metadata": {
        "id": "NfBQcyf7s2vj",
        "colab_type": "code",
        "colab": {
          "base_uri": "https://localhost:8080/",
          "height": 221
        },
        "outputId": "e70c2684-ca2d-4a40-d652-fb694b416da2"
      },
      "source": [
        "## Mapping shot basics to integer values\n",
        "\n",
        "shot_basics_map = {'Mid Range':1, 'Goal Area':2, 'Goal Line':3, 'Penalty Spot':4, 'Right Corner':5, 'Mid Ground Line':6, 'Left Corner':7, np.nan:1}\n",
        "\n",
        "df[\"shot_basics\"] = df[\"shot_basics\"].map(lambda x:shot_basics_map[x])\n",
        "train[\"shot_basics\"] = train[\"shot_basics\"].map(lambda x:shot_basics_map[x])\n",
        "test[\"shot_basics\"] = test[\"shot_basics\"].map(lambda x:shot_basics_map[x])"
      ],
      "execution_count": 387,
      "outputs": [
        {
          "output_type": "stream",
          "text": [
            "/usr/local/lib/python3.6/dist-packages/ipykernel_launcher.py:5: SettingWithCopyWarning: \n",
            "A value is trying to be set on a copy of a slice from a DataFrame.\n",
            "Try using .loc[row_indexer,col_indexer] = value instead\n",
            "\n",
            "See the caveats in the documentation: http://pandas.pydata.org/pandas-docs/stable/indexing.html#indexing-view-versus-copy\n",
            "  \"\"\"\n",
            "/usr/local/lib/python3.6/dist-packages/ipykernel_launcher.py:6: SettingWithCopyWarning: \n",
            "A value is trying to be set on a copy of a slice from a DataFrame.\n",
            "Try using .loc[row_indexer,col_indexer] = value instead\n",
            "\n",
            "See the caveats in the documentation: http://pandas.pydata.org/pandas-docs/stable/indexing.html#indexing-view-versus-copy\n",
            "  \n"
          ],
          "name": "stderr"
        }
      ]
    },
    {
      "cell_type": "code",
      "metadata": {
        "id": "9Xu6mf_Es2r0",
        "colab_type": "code",
        "colab": {}
      },
      "source": [
        "## Shot basics\n",
        "\n",
        "X6 = train[\"shot_basics\"].values\n",
        "#print(X6)\n",
        "\n",
        "x6 = test[\"shot_basics\"].values"
      ],
      "execution_count": 0,
      "outputs": []
    },
    {
      "cell_type": "code",
      "metadata": {
        "id": "1zlxHob3rgYW",
        "colab_type": "code",
        "colab": {}
      },
      "source": [
        "#train.isnull().sum()"
      ],
      "execution_count": 0,
      "outputs": []
    },
    {
      "cell_type": "code",
      "metadata": {
        "id": "dNXUNXdFaA55",
        "colab_type": "code",
        "outputId": "ac288b8a-3ed7-4cf4-f6c2-38a6183a90ee",
        "colab": {
          "base_uri": "https://localhost:8080/",
          "height": 34
        }
      },
      "source": [
        "Y = train[\"is_goal\"].values\n",
        "print(Y)"
      ],
      "execution_count": 390,
      "outputs": [
        {
          "output_type": "stream",
          "text": [
            "[0. 1. 0. ... 1. 0. 0.]\n"
          ],
          "name": "stdout"
        }
      ]
    },
    {
      "cell_type": "code",
      "metadata": {
        "id": "QW3itS7BZpri",
        "colab_type": "code",
        "colab": {}
      },
      "source": [
        "# plt.scatter(X1, X2, c=Y)\n",
        "# plt.show()"
      ],
      "execution_count": 0,
      "outputs": []
    },
    {
      "cell_type": "code",
      "metadata": {
        "id": "4muC7kz5aV2K",
        "colab_type": "code",
        "colab": {}
      },
      "source": [
        "a = np.array(X1)\n",
        "a1 = np.array(x1)\n",
        "#print(a)"
      ],
      "execution_count": 0,
      "outputs": []
    },
    {
      "cell_type": "code",
      "metadata": {
        "id": "R9tQXwQcEq-V",
        "colab_type": "code",
        "colab": {}
      },
      "source": [
        "b = np.array(X2)\n",
        "b1 = np.array(x2)\n",
        "#print(b)"
      ],
      "execution_count": 0,
      "outputs": []
    },
    {
      "cell_type": "code",
      "metadata": {
        "id": "ooljnokhVRy-",
        "colab_type": "code",
        "colab": {}
      },
      "source": [
        "c = np.array(X3)\n",
        "c1 = np.array(x3)\n",
        "#print(c)"
      ],
      "execution_count": 0,
      "outputs": []
    },
    {
      "cell_type": "code",
      "metadata": {
        "id": "rWeQ78I0vjfH",
        "colab_type": "code",
        "colab": {}
      },
      "source": [
        "d = np.array(X4)\n",
        "d1 = np.array(x4)\n",
        "#print(d)"
      ],
      "execution_count": 0,
      "outputs": []
    },
    {
      "cell_type": "code",
      "metadata": {
        "id": "ONmzUZpwvjrE",
        "colab_type": "code",
        "colab": {}
      },
      "source": [
        "e = np.array(X5)\n",
        "e1 = np.array(x5)\n",
        "#print(e)"
      ],
      "execution_count": 0,
      "outputs": []
    },
    {
      "cell_type": "code",
      "metadata": {
        "id": "hYs6M5mzvkIG",
        "colab_type": "code",
        "colab": {}
      },
      "source": [
        "f = np.array(X6)\n",
        "f1 = np.array(x6)\n",
        "#print(f)"
      ],
      "execution_count": 0,
      "outputs": []
    },
    {
      "cell_type": "code",
      "metadata": {
        "id": "qJTpm2BIEuud",
        "colab_type": "code",
        "colab": {}
      },
      "source": [
        "X = np.column_stack((a,b,c,d,e,f))\n",
        "X_test = np.column_stack((a1,b1,c1,d1,e1,f1))\n",
        "#print(X)"
      ],
      "execution_count": 0,
      "outputs": []
    },
    {
      "cell_type": "markdown",
      "metadata": {
        "id": "7isOZBfaJDPb",
        "colab_type": "text"
      },
      "source": [
        "# PREDICTIONS"
      ]
    },
    {
      "cell_type": "code",
      "metadata": {
        "id": "Eb-s2MTD2AsH",
        "colab_type": "code",
        "colab": {}
      },
      "source": [
        "Y_true = Y"
      ],
      "execution_count": 0,
      "outputs": []
    },
    {
      "cell_type": "markdown",
      "metadata": {
        "id": "zauDNugmzrCp",
        "colab_type": "text"
      },
      "source": [
        "### 1. Logistic Regression"
      ]
    },
    {
      "cell_type": "code",
      "metadata": {
        "id": "FRW6vteRzpob",
        "colab_type": "code",
        "colab": {}
      },
      "source": [
        "#from sklearn.linear_model import LogisticRegression"
      ],
      "execution_count": 0,
      "outputs": []
    },
    {
      "cell_type": "code",
      "metadata": {
        "id": "IAZ5VeRfzp1Z",
        "colab_type": "code",
        "colab": {}
      },
      "source": [
        "#classifier_logistic = LogisticRegression(random_state=0, solver='lbfgs', multi_class='multinomial')"
      ],
      "execution_count": 0,
      "outputs": []
    },
    {
      "cell_type": "code",
      "metadata": {
        "id": "bsSskvJozqCS",
        "colab_type": "code",
        "colab": {}
      },
      "source": [
        "#classifier_logistic.fit(X,Y)"
      ],
      "execution_count": 0,
      "outputs": []
    },
    {
      "cell_type": "code",
      "metadata": {
        "colab_type": "code",
        "id": "1cyVga7BX83v",
        "colab": {}
      },
      "source": [
        "#Y_predict_logistic = classifier_logistic.predict(X)"
      ],
      "execution_count": 0,
      "outputs": []
    },
    {
      "cell_type": "markdown",
      "metadata": {
        "id": "RJdC38Qh0xts",
        "colab_type": "text"
      },
      "source": [
        "### 2. KNN"
      ]
    },
    {
      "cell_type": "code",
      "metadata": {
        "id": "2Rc4fN2J0yBV",
        "colab_type": "code",
        "colab": {}
      },
      "source": [
        "#from sklearn.neighbors import KNeighborsClassifier"
      ],
      "execution_count": 0,
      "outputs": []
    },
    {
      "cell_type": "code",
      "metadata": {
        "id": "oFm0Zn1H0yLu",
        "colab_type": "code",
        "colab": {}
      },
      "source": [
        "#classifier_knn = KNeighborsClassifier(n_neighbors=3)"
      ],
      "execution_count": 0,
      "outputs": []
    },
    {
      "cell_type": "code",
      "metadata": {
        "id": "UUcUYQZB0ykO",
        "colab_type": "code",
        "colab": {}
      },
      "source": [
        "#classifier_knn.fit(X,Y)"
      ],
      "execution_count": 0,
      "outputs": []
    },
    {
      "cell_type": "code",
      "metadata": {
        "colab_type": "code",
        "id": "gOTyw1aXX8fO",
        "colab": {}
      },
      "source": [
        "#Y_predict_knn = classifier_knn.predict(X)"
      ],
      "execution_count": 0,
      "outputs": []
    },
    {
      "cell_type": "markdown",
      "metadata": {
        "id": "X7RGByjyJKT7",
        "colab_type": "text"
      },
      "source": [
        "### 3. Support Vector Machine"
      ]
    },
    {
      "cell_type": "code",
      "metadata": {
        "id": "z2pXUFx5E4MA",
        "colab_type": "code",
        "colab": {}
      },
      "source": [
        "#from sklearn.svm import SVC"
      ],
      "execution_count": 0,
      "outputs": []
    },
    {
      "cell_type": "code",
      "metadata": {
        "id": "5mYE-DIyFBav",
        "colab_type": "code",
        "colab": {}
      },
      "source": [
        "#classifier_svm = SVC(gamma = 'auto', probability=True)"
      ],
      "execution_count": 0,
      "outputs": []
    },
    {
      "cell_type": "code",
      "metadata": {
        "id": "dSCGEw6uFHAq",
        "colab_type": "code",
        "colab": {}
      },
      "source": [
        "#classifier_svm.fit(X,Y)"
      ],
      "execution_count": 0,
      "outputs": []
    },
    {
      "cell_type": "code",
      "metadata": {
        "colab_type": "code",
        "id": "uHZm9eC0X8Uc",
        "colab": {}
      },
      "source": [
        "#classifier_svm.score(X, Y)"
      ],
      "execution_count": 0,
      "outputs": []
    },
    {
      "cell_type": "code",
      "metadata": {
        "colab_type": "code",
        "id": "VPTx3uI9X8KH",
        "colab": {}
      },
      "source": [
        "#Y_predict_svm = classifier_svm.predict_proba(X)\n",
        "#Y_predict_svm = classifier_svm.predict(X)\n",
        "#print(Y_predict_svm)"
      ],
      "execution_count": 0,
      "outputs": []
    },
    {
      "cell_type": "markdown",
      "metadata": {
        "id": "l_Zs_d1FJWJV",
        "colab_type": "text"
      },
      "source": [
        "### 4. Random Forest "
      ]
    },
    {
      "cell_type": "code",
      "metadata": {
        "id": "4i5LIZAuIdd1",
        "colab_type": "code",
        "colab": {}
      },
      "source": [
        "from sklearn.ensemble import RandomForestClassifier"
      ],
      "execution_count": 0,
      "outputs": []
    },
    {
      "cell_type": "code",
      "metadata": {
        "id": "ASqyUsnFJgSS",
        "colab_type": "code",
        "colab": {}
      },
      "source": [
        "classifier_randomforest = RandomForestClassifier(n_estimators=100, max_depth=2, random_state=0)"
      ],
      "execution_count": 0,
      "outputs": []
    },
    {
      "cell_type": "code",
      "metadata": {
        "id": "P3Ccd65KJpXL",
        "colab_type": "code",
        "colab": {
          "base_uri": "https://localhost:8080/",
          "height": 136
        },
        "outputId": "2269314b-f13c-41b4-930c-95c801bd8c05"
      },
      "source": [
        "classifier_randomforest.fit(X,Y)"
      ],
      "execution_count": 415,
      "outputs": [
        {
          "output_type": "execute_result",
          "data": {
            "text/plain": [
              "RandomForestClassifier(bootstrap=True, class_weight=None, criterion='gini',\n",
              "                       max_depth=2, max_features='auto', max_leaf_nodes=None,\n",
              "                       min_impurity_decrease=0.0, min_impurity_split=None,\n",
              "                       min_samples_leaf=1, min_samples_split=2,\n",
              "                       min_weight_fraction_leaf=0.0, n_estimators=100,\n",
              "                       n_jobs=None, oob_score=False, random_state=0, verbose=0,\n",
              "                       warm_start=False)"
            ]
          },
          "metadata": {
            "tags": []
          },
          "execution_count": 415
        }
      ]
    },
    {
      "cell_type": "code",
      "metadata": {
        "colab_type": "code",
        "id": "ZmCCSdi5X7-n",
        "colab": {}
      },
      "source": [
        "#classifier_randomforest.score(X,Y)"
      ],
      "execution_count": 0,
      "outputs": []
    },
    {
      "cell_type": "code",
      "metadata": {
        "colab_type": "code",
        "id": "OTf784fWX7y3",
        "colab": {}
      },
      "source": [
        "Y_predict_rf = classifier_randomforest.predict(X)"
      ],
      "execution_count": 0,
      "outputs": []
    },
    {
      "cell_type": "markdown",
      "metadata": {
        "id": "qNs11wF42FQ1",
        "colab_type": "text"
      },
      "source": [
        "### 5. XGBoost"
      ]
    },
    {
      "cell_type": "code",
      "metadata": {
        "id": "5gD-xCFN2Fg6",
        "colab_type": "code",
        "colab": {}
      },
      "source": [
        "import xgboost as xgb"
      ],
      "execution_count": 0,
      "outputs": []
    },
    {
      "cell_type": "code",
      "metadata": {
        "id": "UYqQ-tCG2FtN",
        "colab_type": "code",
        "colab": {}
      },
      "source": [
        "classifier_xgb = xgb.XGBClassifier(objective=\"binary:logistic\", random_state=42)"
      ],
      "execution_count": 0,
      "outputs": []
    },
    {
      "cell_type": "code",
      "metadata": {
        "id": "lXhk-KGOLE4s",
        "colab_type": "code",
        "colab": {
          "base_uri": "https://localhost:8080/",
          "height": 136
        },
        "outputId": "b073b04a-8880-4131-f0a8-dd94f3ae8f56"
      },
      "source": [
        "classifier_xgb.fit(X,Y)"
      ],
      "execution_count": 420,
      "outputs": [
        {
          "output_type": "execute_result",
          "data": {
            "text/plain": [
              "XGBClassifier(base_score=0.5, booster='gbtree', colsample_bylevel=1,\n",
              "              colsample_bynode=1, colsample_bytree=1, gamma=0,\n",
              "              learning_rate=0.1, max_delta_step=0, max_depth=3,\n",
              "              min_child_weight=1, missing=None, n_estimators=100, n_jobs=1,\n",
              "              nthread=None, objective='binary:logistic', random_state=42,\n",
              "              reg_alpha=0, reg_lambda=1, scale_pos_weight=1, seed=None,\n",
              "              silent=None, subsample=1, verbosity=1)"
            ]
          },
          "metadata": {
            "tags": []
          },
          "execution_count": 420
        }
      ]
    },
    {
      "cell_type": "code",
      "metadata": {
        "colab_type": "code",
        "id": "72h7lxk2X7p8",
        "colab": {}
      },
      "source": [
        "Y_predict_xgb = classifier_xgb.predict(X)"
      ],
      "execution_count": 0,
      "outputs": []
    },
    {
      "cell_type": "markdown",
      "metadata": {
        "id": "s9YaaJa16kbO",
        "colab_type": "text"
      },
      "source": [
        "### 6. Gradient Boosting "
      ]
    },
    {
      "cell_type": "code",
      "metadata": {
        "id": "QpZiur0R6kpS",
        "colab_type": "code",
        "colab": {}
      },
      "source": [
        "#from sklearn.ensemble import GradientBoostingClassifier"
      ],
      "execution_count": 0,
      "outputs": []
    },
    {
      "cell_type": "code",
      "metadata": {
        "id": "2TjMmXEV6kyM",
        "colab_type": "code",
        "colab": {}
      },
      "source": [
        "#classifier_gb = GradientBoostingClassifier()"
      ],
      "execution_count": 0,
      "outputs": []
    },
    {
      "cell_type": "code",
      "metadata": {
        "id": "TvFBcaMF6k9H",
        "colab_type": "code",
        "colab": {}
      },
      "source": [
        "#classifier_gb.fit(X,Y)"
      ],
      "execution_count": 0,
      "outputs": []
    },
    {
      "cell_type": "code",
      "metadata": {
        "colab_type": "code",
        "id": "u0LOJA3FX7g3",
        "colab": {}
      },
      "source": [
        "#Y_predict_gb = classifier_gb.predict(X)"
      ],
      "execution_count": 0,
      "outputs": []
    },
    {
      "cell_type": "markdown",
      "metadata": {
        "id": "FAdbVbob77dC",
        "colab_type": "text"
      },
      "source": [
        "### 7. Decision Tree"
      ]
    },
    {
      "cell_type": "code",
      "metadata": {
        "id": "TuMx_5eY77sC",
        "colab_type": "code",
        "colab": {}
      },
      "source": [
        "from sklearn.tree import DecisionTreeClassifier"
      ],
      "execution_count": 0,
      "outputs": []
    },
    {
      "cell_type": "code",
      "metadata": {
        "id": "zGh60oWk772L",
        "colab_type": "code",
        "colab": {}
      },
      "source": [
        "classifier_decisionT = DecisionTreeClassifier(random_state=0)"
      ],
      "execution_count": 0,
      "outputs": []
    },
    {
      "cell_type": "code",
      "metadata": {
        "id": "itQCEK9V78Cq",
        "colab_type": "code",
        "colab": {
          "base_uri": "https://localhost:8080/",
          "height": 119
        },
        "outputId": "6429978a-416f-4c57-e867-6eee43662e3d"
      },
      "source": [
        "classifier_decisionT.fit(X,Y)"
      ],
      "execution_count": 428,
      "outputs": [
        {
          "output_type": "execute_result",
          "data": {
            "text/plain": [
              "DecisionTreeClassifier(class_weight=None, criterion='gini', max_depth=None,\n",
              "                       max_features=None, max_leaf_nodes=None,\n",
              "                       min_impurity_decrease=0.0, min_impurity_split=None,\n",
              "                       min_samples_leaf=1, min_samples_split=2,\n",
              "                       min_weight_fraction_leaf=0.0, presort=False,\n",
              "                       random_state=0, splitter='best')"
            ]
          },
          "metadata": {
            "tags": []
          },
          "execution_count": 428
        }
      ]
    },
    {
      "cell_type": "code",
      "metadata": {
        "colab_type": "code",
        "id": "xcja-yJrX7Yg",
        "colab": {}
      },
      "source": [
        "Y_predict_decisionT = classifier_decisionT.predict(X)"
      ],
      "execution_count": 0,
      "outputs": []
    },
    {
      "cell_type": "markdown",
      "metadata": {
        "id": "GTNIgZbO8l-5",
        "colab_type": "text"
      },
      "source": [
        "### 8. Naive Bayes"
      ]
    },
    {
      "cell_type": "code",
      "metadata": {
        "id": "vLz6i89h8mPT",
        "colab_type": "code",
        "colab": {}
      },
      "source": [
        "#from sklearn.naive_bayes import *"
      ],
      "execution_count": 0,
      "outputs": []
    },
    {
      "cell_type": "code",
      "metadata": {
        "id": "FDG8Qu-D8maS",
        "colab_type": "code",
        "colab": {}
      },
      "source": [
        "#classifier_nb_bernoulli = BernoulliNB()\n",
        "#classifier_nb_multinomial = MultinomialNB()\n",
        "#classifier_nb_gaussian = GaussianNB()"
      ],
      "execution_count": 0,
      "outputs": []
    },
    {
      "cell_type": "code",
      "metadata": {
        "id": "yvrXFqQK8mmv",
        "colab_type": "code",
        "colab": {}
      },
      "source": [
        "#classifier_nb_bernoulli.fit(X,Y)"
      ],
      "execution_count": 0,
      "outputs": []
    },
    {
      "cell_type": "code",
      "metadata": {
        "id": "eTaqXl808myo",
        "colab_type": "code",
        "colab": {}
      },
      "source": [
        "#classifier_nb_multinomial.fit(X,Y)"
      ],
      "execution_count": 0,
      "outputs": []
    },
    {
      "cell_type": "code",
      "metadata": {
        "id": "VbV4K_0o9m1U",
        "colab_type": "code",
        "colab": {}
      },
      "source": [
        "#classifier_nb_gaussian.fit(X,Y)"
      ],
      "execution_count": 0,
      "outputs": []
    },
    {
      "cell_type": "code",
      "metadata": {
        "colab_type": "code",
        "id": "EHKRZb_6X7Oi",
        "colab": {}
      },
      "source": [
        "#Y_predict_nb_bernoulli = classifier_nb_bernoulli.predict(X)\n",
        "#Y_predict_nb_multinomial = classifier_nb_multinomial.predict(X)\n",
        "#Y_predict_nb_gaussian = classifier_nb_gaussian.predict(X)"
      ],
      "execution_count": 0,
      "outputs": []
    },
    {
      "cell_type": "markdown",
      "metadata": {
        "id": "VdEnrBhyBDEC",
        "colab_type": "text"
      },
      "source": [
        "### 9. Neural Networks"
      ]
    },
    {
      "cell_type": "code",
      "metadata": {
        "id": "cpSn6fM7BDTZ",
        "colab_type": "code",
        "colab": {}
      },
      "source": [
        "#from sklearn.neural_network import MLPClassifier"
      ],
      "execution_count": 0,
      "outputs": []
    },
    {
      "cell_type": "code",
      "metadata": {
        "id": "KZvd5W77BDdV",
        "colab_type": "code",
        "colab": {}
      },
      "source": [
        "#classifier_mlp = MLPClassifier(hidden_layer_sizes=(100,100,100), max_iter=500, alpha=0.0001,\n",
        " #                    solver='sgd', verbose=10,  random_state=21,tol=0.000000001)"
      ],
      "execution_count": 0,
      "outputs": []
    },
    {
      "cell_type": "code",
      "metadata": {
        "id": "4HHXG9x6BDoA",
        "colab_type": "code",
        "colab": {}
      },
      "source": [
        "#classifier_mlp.fit(X,Y)"
      ],
      "execution_count": 0,
      "outputs": []
    },
    {
      "cell_type": "code",
      "metadata": {
        "colab_type": "code",
        "id": "ww35yj2pX6_z",
        "colab": {}
      },
      "source": [
        "#Y_predict_mlp = classifier_mlp.predict(X)"
      ],
      "execution_count": 0,
      "outputs": []
    },
    {
      "cell_type": "markdown",
      "metadata": {
        "id": "xqHqCln2HNRC",
        "colab_type": "text"
      },
      "source": [
        "### 10. Ada Boost"
      ]
    },
    {
      "cell_type": "code",
      "metadata": {
        "id": "DguXVKPFHNhl",
        "colab_type": "code",
        "colab": {}
      },
      "source": [
        "from sklearn.ensemble import AdaBoostClassifier"
      ],
      "execution_count": 0,
      "outputs": []
    },
    {
      "cell_type": "code",
      "metadata": {
        "id": "49e5IIKHHNrn",
        "colab_type": "code",
        "colab": {}
      },
      "source": [
        "classifier_ada = AdaBoostClassifier(n_estimators=100, random_state=0)"
      ],
      "execution_count": 0,
      "outputs": []
    },
    {
      "cell_type": "code",
      "metadata": {
        "id": "oTd2knD-HN21",
        "colab_type": "code",
        "colab": {
          "base_uri": "https://localhost:8080/",
          "height": 51
        },
        "outputId": "d4b7bd9b-963c-4c2f-c9da-e21f50fb9199"
      },
      "source": [
        "classifier_ada.fit(X,Y)"
      ],
      "execution_count": 442,
      "outputs": [
        {
          "output_type": "execute_result",
          "data": {
            "text/plain": [
              "AdaBoostClassifier(algorithm='SAMME.R', base_estimator=None, learning_rate=1.0,\n",
              "                   n_estimators=100, random_state=0)"
            ]
          },
          "metadata": {
            "tags": []
          },
          "execution_count": 442
        }
      ]
    },
    {
      "cell_type": "code",
      "metadata": {
        "id": "_YmHFTP9HODI",
        "colab_type": "code",
        "colab": {}
      },
      "source": [
        "Y_predict_ada = classifier_ada.predict(X)"
      ],
      "execution_count": 0,
      "outputs": []
    },
    {
      "cell_type": "markdown",
      "metadata": {
        "id": "ScmEtNpXHoxU",
        "colab_type": "text"
      },
      "source": [
        "### 11. Quadratic Discriminant Analysis"
      ]
    },
    {
      "cell_type": "code",
      "metadata": {
        "id": "EJWWgnYcHpB-",
        "colab_type": "code",
        "colab": {}
      },
      "source": [
        "#from sklearn.discriminant_analysis import QuadraticDiscriminantAnalysis"
      ],
      "execution_count": 0,
      "outputs": []
    },
    {
      "cell_type": "code",
      "metadata": {
        "id": "w076MCekHpNn",
        "colab_type": "code",
        "colab": {}
      },
      "source": [
        "#classifier_qda = QuadraticDiscriminantAnalysis()"
      ],
      "execution_count": 0,
      "outputs": []
    },
    {
      "cell_type": "code",
      "metadata": {
        "id": "wuviXRRIHpZX",
        "colab_type": "code",
        "colab": {}
      },
      "source": [
        "#classifier_qda.fit(X,Y)"
      ],
      "execution_count": 0,
      "outputs": []
    },
    {
      "cell_type": "code",
      "metadata": {
        "id": "4q3qHsiGHplo",
        "colab_type": "code",
        "colab": {}
      },
      "source": [
        "#Y_predict_qda = classifier_qda.predict(X)"
      ],
      "execution_count": 0,
      "outputs": []
    },
    {
      "cell_type": "markdown",
      "metadata": {
        "id": "GxhW83DFLKtn",
        "colab_type": "text"
      },
      "source": [
        "## Calculating MAE score"
      ]
    },
    {
      "cell_type": "code",
      "metadata": {
        "id": "AgSak5FJLJjv",
        "colab_type": "code",
        "colab": {}
      },
      "source": [
        "#from sklearn.metrics import mean_absolute_error"
      ],
      "execution_count": 0,
      "outputs": []
    },
    {
      "cell_type": "code",
      "metadata": {
        "id": "DaTE23OU0pdw",
        "colab_type": "code",
        "colab": {}
      },
      "source": [
        "#mean_absolute_error(Y_true, Y_predict_logistic)"
      ],
      "execution_count": 0,
      "outputs": []
    },
    {
      "cell_type": "code",
      "metadata": {
        "id": "LjnOrOeG0po8",
        "colab_type": "code",
        "colab": {}
      },
      "source": [
        "#mean_absolute_error(Y_true, Y_predict_knn)"
      ],
      "execution_count": 0,
      "outputs": []
    },
    {
      "cell_type": "code",
      "metadata": {
        "id": "8xrGqwWXLZuv",
        "colab_type": "code",
        "colab": {}
      },
      "source": [
        "#mean_absolute_error(Y_true, Y_predict_svm)"
      ],
      "execution_count": 0,
      "outputs": []
    },
    {
      "cell_type": "code",
      "metadata": {
        "id": "yBvB-I-bLtqJ",
        "colab_type": "code",
        "colab": {}
      },
      "source": [
        "#mean_absolute_error(Y_true, Y_predict_rf)"
      ],
      "execution_count": 0,
      "outputs": []
    },
    {
      "cell_type": "code",
      "metadata": {
        "id": "FKP0csZ37ScG",
        "colab_type": "code",
        "colab": {}
      },
      "source": [
        "#mean_absolute_error(Y_true, Y_predict_xgb)"
      ],
      "execution_count": 0,
      "outputs": []
    },
    {
      "cell_type": "code",
      "metadata": {
        "id": "u639xqAw7NMJ",
        "colab_type": "code",
        "colab": {}
      },
      "source": [
        "#mean_absolute_error(Y_true, Y_predict_gb)"
      ],
      "execution_count": 0,
      "outputs": []
    },
    {
      "cell_type": "code",
      "metadata": {
        "id": "asGK7TcM7fou",
        "colab_type": "code",
        "colab": {}
      },
      "source": [
        "#mean_absolute_error(Y_true, Y_predict_decisionT)"
      ],
      "execution_count": 0,
      "outputs": []
    },
    {
      "cell_type": "code",
      "metadata": {
        "id": "-H46CD_w-BI9",
        "colab_type": "code",
        "colab": {}
      },
      "source": [
        "#mean_absolute_error(Y_true, Y_predict_nb_bernoulli)"
      ],
      "execution_count": 0,
      "outputs": []
    },
    {
      "cell_type": "code",
      "metadata": {
        "id": "35q8r8Lq-BVE",
        "colab_type": "code",
        "colab": {}
      },
      "source": [
        "#mean_absolute_error(Y_true, Y_predict_nb_multinomial)"
      ],
      "execution_count": 0,
      "outputs": []
    },
    {
      "cell_type": "code",
      "metadata": {
        "id": "pv0gv1en-BhM",
        "colab_type": "code",
        "colab": {}
      },
      "source": [
        "#mean_absolute_error(Y_true, Y_predict_nb_gaussian)"
      ],
      "execution_count": 0,
      "outputs": []
    },
    {
      "cell_type": "code",
      "metadata": {
        "id": "_DQYV5aGDsef",
        "colab_type": "code",
        "colab": {}
      },
      "source": [
        "#mean_absolute_error(Y_true, Y_predict_mlp)"
      ],
      "execution_count": 0,
      "outputs": []
    },
    {
      "cell_type": "code",
      "metadata": {
        "id": "ScwpNwMBHh1h",
        "colab_type": "code",
        "colab": {}
      },
      "source": [
        "#mean_absolute_error(Y_true, Y_predict_ada)"
      ],
      "execution_count": 0,
      "outputs": []
    },
    {
      "cell_type": "code",
      "metadata": {
        "id": "q8e0CCvaH8rU",
        "colab_type": "code",
        "colab": {}
      },
      "source": [
        "#mean_absolute_error(Y_true, Y_predict_qda)"
      ],
      "execution_count": 0,
      "outputs": []
    },
    {
      "cell_type": "code",
      "metadata": {
        "id": "QFgVMAXn150I",
        "colab_type": "code",
        "colab": {}
      },
      "source": [
        "# score = 1/(1+mae)\n",
        "# print(score)"
      ],
      "execution_count": 0,
      "outputs": []
    },
    {
      "cell_type": "markdown",
      "metadata": {
        "id": "C-UO7sLTCD6U",
        "colab_type": "text"
      },
      "source": [
        "## Calculating cross-validation score"
      ]
    },
    {
      "cell_type": "code",
      "metadata": {
        "id": "EEGm9vQyCI5y",
        "colab_type": "code",
        "colab": {}
      },
      "source": [
        "#from sklearn.model_selection import cross_val_score"
      ],
      "execution_count": 0,
      "outputs": []
    },
    {
      "cell_type": "code",
      "metadata": {
        "id": "BpKQFFtRCPhr",
        "colab_type": "code",
        "colab": {}
      },
      "source": [
        "#cross_val_score(classifier_logistic, X, Y)"
      ],
      "execution_count": 0,
      "outputs": []
    },
    {
      "cell_type": "code",
      "metadata": {
        "id": "bs2WOF_4CXGG",
        "colab_type": "code",
        "colab": {}
      },
      "source": [
        "#cross_val_score(classifier_knn, X, Y)"
      ],
      "execution_count": 0,
      "outputs": []
    },
    {
      "cell_type": "code",
      "metadata": {
        "id": "VMvNVurMC46S",
        "colab_type": "code",
        "colab": {}
      },
      "source": [
        "#cross_val_score(classifier_svm, X, Y)"
      ],
      "execution_count": 0,
      "outputs": []
    },
    {
      "cell_type": "code",
      "metadata": {
        "id": "dhS6E_2QM1fp",
        "colab_type": "code",
        "colab": {}
      },
      "source": [
        "#cross_val_score(classifier_randomforest, X, Y)"
      ],
      "execution_count": 0,
      "outputs": []
    },
    {
      "cell_type": "code",
      "metadata": {
        "id": "quLz5gffM4OV",
        "colab_type": "code",
        "colab": {}
      },
      "source": [
        "#cross_val_score(classifier_xgb, X, Y)"
      ],
      "execution_count": 0,
      "outputs": []
    },
    {
      "cell_type": "code",
      "metadata": {
        "id": "_Yz3HpukN1R3",
        "colab_type": "code",
        "colab": {}
      },
      "source": [
        "#cross_val_score(classifier_gb, X, Y)"
      ],
      "execution_count": 0,
      "outputs": []
    },
    {
      "cell_type": "code",
      "metadata": {
        "id": "1HGAkMcSN1oG",
        "colab_type": "code",
        "colab": {}
      },
      "source": [
        "#cross_val_score(classifier_decisionT, X, Y)"
      ],
      "execution_count": 0,
      "outputs": []
    },
    {
      "cell_type": "code",
      "metadata": {
        "id": "2Zy1-4Q7N1Ol",
        "colab_type": "code",
        "colab": {}
      },
      "source": [
        "#cross_val_score(classifier_nb_bernoulli, X, Y)"
      ],
      "execution_count": 0,
      "outputs": []
    },
    {
      "cell_type": "code",
      "metadata": {
        "id": "7-2m4tYIN1Lc",
        "colab_type": "code",
        "colab": {}
      },
      "source": [
        "#cross_val_score(classifier_nb_multinomial, X, Y)"
      ],
      "execution_count": 0,
      "outputs": []
    },
    {
      "cell_type": "code",
      "metadata": {
        "id": "S2Egi3zRN1Ii",
        "colab_type": "code",
        "colab": {}
      },
      "source": [
        "#cross_val_score(classifier_nb_gaussian, X, Y)"
      ],
      "execution_count": 0,
      "outputs": []
    },
    {
      "cell_type": "code",
      "metadata": {
        "id": "WB8ftRvxODRp",
        "colab_type": "code",
        "colab": {}
      },
      "source": [
        "#cross_val_score(classifier_mlp, X, Y)"
      ],
      "execution_count": 0,
      "outputs": []
    },
    {
      "cell_type": "code",
      "metadata": {
        "id": "N_otQJRCODdy",
        "colab_type": "code",
        "colab": {}
      },
      "source": [
        "#cross_val_score(classifier_ada, X, Y)"
      ],
      "execution_count": 0,
      "outputs": []
    },
    {
      "cell_type": "code",
      "metadata": {
        "id": "CW9Ct2fvOH6_",
        "colab_type": "code",
        "colab": {}
      },
      "source": [
        "#cross_val_score(classifier_qda, X, Y)"
      ],
      "execution_count": 0,
      "outputs": []
    },
    {
      "cell_type": "markdown",
      "metadata": {
        "id": "gosTB7x-cDxr",
        "colab_type": "text"
      },
      "source": [
        "## Predictions"
      ]
    },
    {
      "cell_type": "code",
      "metadata": {
        "id": "9H8mVSqecEOt",
        "colab_type": "code",
        "colab": {
          "base_uri": "https://localhost:8080/",
          "height": 34
        },
        "outputId": "71ed876a-4310-4404-e9a1-43c8174c31ad"
      },
      "source": [
        "Y_predict_decisionT_test = classifier_decisionT.predict_proba(X_test)\n",
        "predict_dt = Y_predict_decisionT_test[:,1]\n",
        "print(predict_dt)"
      ],
      "execution_count": 477,
      "outputs": [
        {
          "output_type": "stream",
          "text": [
            "[0.   0.   0.75 ... 0.   1.   1.  ]\n"
          ],
          "name": "stdout"
        }
      ]
    },
    {
      "cell_type": "code",
      "metadata": {
        "id": "gPKT_-HTcixF",
        "colab_type": "code",
        "colab": {
          "base_uri": "https://localhost:8080/",
          "height": 34
        },
        "outputId": "32be0537-b3ff-4b7d-b251-fd539abaa351"
      },
      "source": [
        "Y_predict_rf_test = classifier_randomforest.predict_proba(X_test)\n",
        "predict_rf = Y_predict_rf_test[:,1]\n",
        "print(predict_rf)"
      ],
      "execution_count": 478,
      "outputs": [
        {
          "output_type": "stream",
          "text": [
            "[0.42296458 0.54884464 0.57114845 ... 0.44565603 0.44565603 0.59509087]\n"
          ],
          "name": "stdout"
        }
      ]
    },
    {
      "cell_type": "code",
      "metadata": {
        "id": "yr-xrqQTckM5",
        "colab_type": "code",
        "colab": {
          "base_uri": "https://localhost:8080/",
          "height": 34
        },
        "outputId": "9e606721-7430-4c6c-895b-16536f68b9fe"
      },
      "source": [
        "Y_predict_xgb_test = classifier_xgb.predict_proba(X_test)\n",
        "predict_xgb = Y_predict_xgb_test[:,1]\n",
        "print(predict_xgb)"
      ],
      "execution_count": 479,
      "outputs": [
        {
          "output_type": "stream",
          "text": [
            "[0.42385846 0.47657758 0.52647483 ... 0.48279202 0.4644741  0.66150135]\n"
          ],
          "name": "stdout"
        }
      ]
    },
    {
      "cell_type": "code",
      "metadata": {
        "id": "dkmvwZf_ci-v",
        "colab_type": "code",
        "colab": {
          "base_uri": "https://localhost:8080/",
          "height": 34
        },
        "outputId": "5c6abf66-f9f9-418b-fec9-80118854f52d"
      },
      "source": [
        "Y_predict_ada_test = classifier_ada.predict_proba(X_test)\n",
        "predict_ada = Y_predict_ada_test[:,1]\n",
        "print(predict_ada)"
      ],
      "execution_count": 480,
      "outputs": [
        {
          "output_type": "stream",
          "text": [
            "[0.49930163 0.50061025 0.49987288 ... 0.49998984 0.49975051 0.50123292]\n"
          ],
          "name": "stdout"
        }
      ]
    },
    {
      "cell_type": "markdown",
      "metadata": {
        "id": "mIH1sILgSMtI",
        "colab_type": "text"
      },
      "source": [
        "## Writing predicted outputs to a .csv file"
      ]
    },
    {
      "cell_type": "code",
      "metadata": {
        "id": "MAyLP7zykhZy",
        "colab_type": "code",
        "colab": {
          "base_uri": "https://localhost:8080/",
          "height": 119
        },
        "outputId": "e6100f16-8744-47a3-bf03-6ad81615737f"
      },
      "source": [
        "test[\"shot_id_number\"] = test.index+1"
      ],
      "execution_count": 489,
      "outputs": [
        {
          "output_type": "stream",
          "text": [
            "/usr/local/lib/python3.6/dist-packages/ipykernel_launcher.py:1: SettingWithCopyWarning: \n",
            "A value is trying to be set on a copy of a slice from a DataFrame.\n",
            "Try using .loc[row_indexer,col_indexer] = value instead\n",
            "\n",
            "See the caveats in the documentation: http://pandas.pydata.org/pandas-docs/stable/indexing.html#indexing-view-versus-copy\n",
            "  \"\"\"Entry point for launching an IPython kernel.\n"
          ],
          "name": "stderr"
        }
      ]
    },
    {
      "cell_type": "code",
      "metadata": {
        "id": "pBg7lq-5kpwl",
        "colab_type": "code",
        "colab": {
          "base_uri": "https://localhost:8080/",
          "height": 34
        },
        "outputId": "cb731c0b-62b0-4289-f394-3443e6e3d926"
      },
      "source": [
        "test[\"shot_id_number\"].shape"
      ],
      "execution_count": 496,
      "outputs": [
        {
          "output_type": "execute_result",
          "data": {
            "text/plain": [
              "(6268,)"
            ]
          },
          "metadata": {
            "tags": []
          },
          "execution_count": 496
        }
      ]
    },
    {
      "cell_type": "code",
      "metadata": {
        "id": "GHfdEqqhlWwv",
        "colab_type": "code",
        "colab": {
          "base_uri": "https://localhost:8080/",
          "height": 34
        },
        "outputId": "07914ceb-eb8d-443e-bd30-06adda68cced"
      },
      "source": [
        "X_test.shape[0]"
      ],
      "execution_count": 497,
      "outputs": [
        {
          "output_type": "execute_result",
          "data": {
            "text/plain": [
              "6268"
            ]
          },
          "metadata": {
            "tags": []
          },
          "execution_count": 497
        }
      ]
    },
    {
      "cell_type": "code",
      "metadata": {
        "id": "v5vgjlrYSM-i",
        "colab_type": "code",
        "colab": {
          "base_uri": "https://localhost:8080/",
          "height": 204
        },
        "outputId": "849cae98-4ed9-4d11-a63e-780ba2ed77e6"
      },
      "source": [
        "import csv\n",
        "\n",
        "cs = pd.DataFrame({\"shot_id_number\":test[\"shot_id_number\"], \"is_goal\":predict_dt})\n",
        "#cs.head()\n",
        "cs.to_csv('cheshta_kwatra_032998_prediction_1.csv', index=False)"
      ],
      "execution_count": 498,
      "outputs": [
        {
          "output_type": "execute_result",
          "data": {
            "text/html": [
              "<div>\n",
              "<style scoped>\n",
              "    .dataframe tbody tr th:only-of-type {\n",
              "        vertical-align: middle;\n",
              "    }\n",
              "\n",
              "    .dataframe tbody tr th {\n",
              "        vertical-align: top;\n",
              "    }\n",
              "\n",
              "    .dataframe thead th {\n",
              "        text-align: right;\n",
              "    }\n",
              "</style>\n",
              "<table border=\"1\" class=\"dataframe\">\n",
              "  <thead>\n",
              "    <tr style=\"text-align: right;\">\n",
              "      <th></th>\n",
              "      <th>shot_id_number</th>\n",
              "      <th>is_goal</th>\n",
              "    </tr>\n",
              "  </thead>\n",
              "  <tbody>\n",
              "    <tr>\n",
              "      <th>0</th>\n",
              "      <td>1</td>\n",
              "      <td>0.00</td>\n",
              "    </tr>\n",
              "    <tr>\n",
              "      <th>7</th>\n",
              "      <td>8</td>\n",
              "      <td>0.00</td>\n",
              "    </tr>\n",
              "    <tr>\n",
              "      <th>16</th>\n",
              "      <td>17</td>\n",
              "      <td>0.75</td>\n",
              "    </tr>\n",
              "    <tr>\n",
              "      <th>19</th>\n",
              "      <td>20</td>\n",
              "      <td>1.00</td>\n",
              "    </tr>\n",
              "    <tr>\n",
              "      <th>21</th>\n",
              "      <td>22</td>\n",
              "      <td>0.00</td>\n",
              "    </tr>\n",
              "  </tbody>\n",
              "</table>\n",
              "</div>"
            ],
            "text/plain": [
              "    shot_id_number  is_goal\n",
              "0                1     0.00\n",
              "7                8     0.00\n",
              "16              17     0.75\n",
              "19              20     1.00\n",
              "21              22     0.00"
            ]
          },
          "metadata": {
            "tags": []
          },
          "execution_count": 498
        }
      ]
    },
    {
      "cell_type": "code",
      "metadata": {
        "id": "FmPKw_2ndPnM",
        "colab_type": "code",
        "colab": {}
      },
      "source": [
        "cs = pd.DataFrame({\"shot_id_number\":test[\"shot_id_number\"], \"is_goal\":predict_rf})\n",
        "#cs.head()\n",
        "cs.to_csv('cheshta_kwatra_032998_prediction_2.csv', index=False)"
      ],
      "execution_count": 0,
      "outputs": []
    },
    {
      "cell_type": "code",
      "metadata": {
        "id": "SyTxgyvhdPzn",
        "colab_type": "code",
        "colab": {}
      },
      "source": [
        "cs = pd.DataFrame({\"shot_id_number\":test[\"shot_id_number\"], \"is_goal\":predict_xgb})\n",
        "#cs.head()\n",
        "cs.to_csv('cheshta_kwatra_032998_prediction_3.csv', index=False)"
      ],
      "execution_count": 0,
      "outputs": []
    },
    {
      "cell_type": "code",
      "metadata": {
        "id": "7OaFjblddQAZ",
        "colab_type": "code",
        "colab": {}
      },
      "source": [
        "cs = pd.DataFrame({\"shot_id_number\":test[\"shot_id_number\"], \"is_goal\":predict_ada})\n",
        "#cs.head()\n",
        "cs.to_csv('cheshta_kwatra_032998_prediction_4.csv', index=False)"
      ],
      "execution_count": 0,
      "outputs": []
    },
    {
      "cell_type": "code",
      "metadata": {
        "id": "3S5v-THHSNHy",
        "colab_type": "code",
        "colab": {}
      },
      "source": [
        "files.download('cheshta_kwatra_032998_prediction_1.csv')\n",
        "files.download('cheshta_kwatra_032998_prediction_2.csv')\n",
        "files.download('cheshta_kwatra_032998_prediction_3.csv')\n",
        "files.download('cheshta_kwatra_032998_prediction_4.csv')"
      ],
      "execution_count": 0,
      "outputs": []
    },
    {
      "cell_type": "code",
      "metadata": {
        "id": "YpvjpQSQSNQ9",
        "colab_type": "code",
        "colab": {}
      },
      "source": [
        "\n"
      ],
      "execution_count": 0,
      "outputs": []
    }
  ]
}