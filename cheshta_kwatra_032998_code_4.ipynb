{
  "nbformat": 4,
  "nbformat_minor": 0,
  "metadata": {
    "colab": {
      "name": "cheshta_kwatra_032998_code_4.ipynb",
      "version": "0.3.2",
      "provenance": [],
      "collapsed_sections": []
    },
    "kernelspec": {
      "name": "python3",
      "display_name": "Python 3"
    },
    "accelerator": "GPU"
  },
  "cells": [
    {
      "cell_type": "markdown",
      "metadata": {
        "id": "u_QgPocwA4Pp",
        "colab_type": "text"
      },
      "source": [
        "## Understanding the dataset"
      ]
    },
    {
      "cell_type": "code",
      "metadata": {
        "id": "giQYSztC7QPK",
        "colab_type": "code",
        "colab": {}
      },
      "source": [
        "#from google.colab import files\n",
        "#files.upload()"
      ],
      "execution_count": 0,
      "outputs": []
    },
    {
      "cell_type": "code",
      "metadata": {
        "id": "ejk0ysSp7fkC",
        "colab_type": "code",
        "colab": {}
      },
      "source": [
        "# import pandas as pd\n",
        "# import numpy as np\n",
        "# import matplotlib.pyplot as plt"
      ],
      "execution_count": 0,
      "outputs": []
    },
    {
      "cell_type": "code",
      "metadata": {
        "id": "HWrgrdH38M00",
        "colab_type": "code",
        "colab": {}
      },
      "source": [
        "df = pd.read_csv('data.csv')"
      ],
      "execution_count": 0,
      "outputs": []
    },
    {
      "cell_type": "code",
      "metadata": {
        "id": "kUSNk9qk9YsE",
        "colab_type": "code",
        "colab": {}
      },
      "source": [
        "#df.head(5)"
      ],
      "execution_count": 0,
      "outputs": []
    },
    {
      "cell_type": "code",
      "metadata": {
        "id": "30QvqEbV9aeL",
        "colab_type": "code",
        "outputId": "a7437c4e-9e22-454a-f29c-b2dc4466a717",
        "colab": {
          "base_uri": "https://localhost:8080/",
          "height": 34
        }
      },
      "source": [
        "df.shape"
      ],
      "execution_count": 220,
      "outputs": [
        {
          "output_type": "execute_result",
          "data": {
            "text/plain": [
              "(30697, 28)"
            ]
          },
          "metadata": {
            "tags": []
          },
          "execution_count": 220
        }
      ]
    },
    {
      "cell_type": "code",
      "metadata": {
        "id": "J2gaPBpt97qq",
        "colab_type": "code",
        "colab": {}
      },
      "source": [
        "#df.columns"
      ],
      "execution_count": 0,
      "outputs": []
    },
    {
      "cell_type": "code",
      "metadata": {
        "id": "8aQdxeyQ-A32",
        "colab_type": "code",
        "colab": {}
      },
      "source": [
        "#df.isnull().sum()"
      ],
      "execution_count": 0,
      "outputs": []
    },
    {
      "cell_type": "markdown",
      "metadata": {
        "id": "uXRp9jhrDaWY",
        "colab_type": "text"
      },
      "source": [
        "## Split into train and test data"
      ]
    },
    {
      "cell_type": "code",
      "metadata": {
        "id": "eD-0gm0FDdzI",
        "colab_type": "code",
        "outputId": "fbef8ae5-d1b4-4ffa-f36f-69c181ffe3c3",
        "colab": {
          "base_uri": "https://localhost:8080/",
          "height": 34
        }
      },
      "source": [
        "test = df[df[\"is_goal\"].isnull()]\n",
        "print(test.shape)"
      ],
      "execution_count": 223,
      "outputs": [
        {
          "output_type": "stream",
          "text": [
            "(6268, 28)\n"
          ],
          "name": "stdout"
        }
      ]
    },
    {
      "cell_type": "code",
      "metadata": {
        "id": "YKVGSh8mFrHC",
        "colab_type": "code",
        "colab": {}
      },
      "source": [
        "#test.isnull().sum()"
      ],
      "execution_count": 0,
      "outputs": []
    },
    {
      "cell_type": "code",
      "metadata": {
        "id": "Yng4DTYkJn0i",
        "colab_type": "code",
        "outputId": "b091a8a6-7fd4-4e40-d047-92ec1e4e2857",
        "colab": {
          "base_uri": "https://localhost:8080/",
          "height": 34
        }
      },
      "source": [
        "train = df[df[\"is_goal\"].notnull()]\n",
        "print(train.shape)"
      ],
      "execution_count": 225,
      "outputs": [
        {
          "output_type": "stream",
          "text": [
            "(24429, 28)\n"
          ],
          "name": "stdout"
        }
      ]
    },
    {
      "cell_type": "code",
      "metadata": {
        "id": "xsomkQz7F4aq",
        "colab_type": "code",
        "colab": {}
      },
      "source": [
        "#train.isnull().sum()"
      ],
      "execution_count": 0,
      "outputs": []
    },
    {
      "cell_type": "markdown",
      "metadata": {
        "id": "GMSapmjvKVk8",
        "colab_type": "text"
      },
      "source": [
        "## Handling missing values"
      ]
    },
    {
      "cell_type": "code",
      "metadata": {
        "id": "tM_ZYloQKZxw",
        "colab_type": "code",
        "colab": {}
      },
      "source": [
        "df.fillna(df.mean(), inplace = True)"
      ],
      "execution_count": 0,
      "outputs": []
    },
    {
      "cell_type": "code",
      "metadata": {
        "id": "kPX67IXQOSeI",
        "colab_type": "code",
        "colab": {}
      },
      "source": [
        "#df.isnull().sum()"
      ],
      "execution_count": 0,
      "outputs": []
    },
    {
      "cell_type": "code",
      "metadata": {
        "id": "u6OvAVaUGH6j",
        "colab_type": "code",
        "colab": {
          "base_uri": "https://localhost:8080/",
          "height": 102
        },
        "outputId": "68995f4d-733e-430e-aded-326e864c4283"
      },
      "source": [
        "train.fillna(train.mean(), inplace = True)"
      ],
      "execution_count": 229,
      "outputs": [
        {
          "output_type": "stream",
          "text": [
            "/usr/local/lib/python3.6/dist-packages/pandas/core/generic.py:6130: SettingWithCopyWarning: \n",
            "A value is trying to be set on a copy of a slice from a DataFrame\n",
            "\n",
            "See the caveats in the documentation: http://pandas.pydata.org/pandas-docs/stable/indexing.html#indexing-view-versus-copy\n",
            "  self._update_inplace(new_data)\n"
          ],
          "name": "stderr"
        }
      ]
    },
    {
      "cell_type": "code",
      "metadata": {
        "id": "zJv8vLc0F_q4",
        "colab_type": "code",
        "colab": {}
      },
      "source": [
        "#train.isnull().sum()"
      ],
      "execution_count": 0,
      "outputs": []
    },
    {
      "cell_type": "code",
      "metadata": {
        "id": "r8LGlNcZGODz",
        "colab_type": "code",
        "colab": {
          "base_uri": "https://localhost:8080/",
          "height": 102
        },
        "outputId": "b1c6a585-6ec7-43de-fb23-f5a723b33a2e"
      },
      "source": [
        "test.fillna(test.mean(), inplace = True)"
      ],
      "execution_count": 231,
      "outputs": [
        {
          "output_type": "stream",
          "text": [
            "/usr/local/lib/python3.6/dist-packages/pandas/core/generic.py:6130: SettingWithCopyWarning: \n",
            "A value is trying to be set on a copy of a slice from a DataFrame\n",
            "\n",
            "See the caveats in the documentation: http://pandas.pydata.org/pandas-docs/stable/indexing.html#indexing-view-versus-copy\n",
            "  self._update_inplace(new_data)\n"
          ],
          "name": "stderr"
        }
      ]
    },
    {
      "cell_type": "code",
      "metadata": {
        "id": "ytcrsPbaGSGz",
        "colab_type": "code",
        "colab": {}
      },
      "source": [
        "#test.isnull().sum()"
      ],
      "execution_count": 0,
      "outputs": []
    },
    {
      "cell_type": "markdown",
      "metadata": {
        "id": "lXEemaOSZ0Wr",
        "colab_type": "text"
      },
      "source": [
        "## Collecting required data for predictions"
      ]
    },
    {
      "cell_type": "code",
      "metadata": {
        "id": "VYbE2EpfP3EK",
        "colab_type": "code",
        "colab": {
          "base_uri": "https://localhost:8080/",
          "height": 425
        },
        "outputId": "15b9d8e3-e4ae-439a-d63d-e0ba5128fb26"
      },
      "source": [
        "## Combining minutes and seconds to get time\n",
        "\n",
        "df[\"remaining_time\"] = df[\"remaining_min\"]*60 + df[\"remaining_sec\"]\n",
        "train[\"remaining_time\"] = train[\"remaining_min\"]*60 + train[\"remaining_sec\"]\n",
        "test[\"remaining_time\"] = test[\"remaining_min\"]*60 + test[\"remaining_sec\"]\n",
        "\n",
        "df[\"remaining_time.1\"] = df[\"remaining_min.1\"]*60 + df[\"remaining_sec.1\"]\n",
        "train[\"remaining_time.1\"] = train[\"remaining_min.1\"]*60 + train[\"remaining_sec.1\"]\n",
        "test[\"remaining_time.1\"] = test[\"remaining_min.1\"]*60 + test[\"remaining_sec.1\"]"
      ],
      "execution_count": 233,
      "outputs": [
        {
          "output_type": "stream",
          "text": [
            "/usr/local/lib/python3.6/dist-packages/ipykernel_launcher.py:3: SettingWithCopyWarning: \n",
            "A value is trying to be set on a copy of a slice from a DataFrame.\n",
            "Try using .loc[row_indexer,col_indexer] = value instead\n",
            "\n",
            "See the caveats in the documentation: http://pandas.pydata.org/pandas-docs/stable/indexing.html#indexing-view-versus-copy\n",
            "  This is separate from the ipykernel package so we can avoid doing imports until\n",
            "/usr/local/lib/python3.6/dist-packages/ipykernel_launcher.py:4: SettingWithCopyWarning: \n",
            "A value is trying to be set on a copy of a slice from a DataFrame.\n",
            "Try using .loc[row_indexer,col_indexer] = value instead\n",
            "\n",
            "See the caveats in the documentation: http://pandas.pydata.org/pandas-docs/stable/indexing.html#indexing-view-versus-copy\n",
            "  after removing the cwd from sys.path.\n",
            "/usr/local/lib/python3.6/dist-packages/ipykernel_launcher.py:7: SettingWithCopyWarning: \n",
            "A value is trying to be set on a copy of a slice from a DataFrame.\n",
            "Try using .loc[row_indexer,col_indexer] = value instead\n",
            "\n",
            "See the caveats in the documentation: http://pandas.pydata.org/pandas-docs/stable/indexing.html#indexing-view-versus-copy\n",
            "  import sys\n",
            "/usr/local/lib/python3.6/dist-packages/ipykernel_launcher.py:8: SettingWithCopyWarning: \n",
            "A value is trying to be set on a copy of a slice from a DataFrame.\n",
            "Try using .loc[row_indexer,col_indexer] = value instead\n",
            "\n",
            "See the caveats in the documentation: http://pandas.pydata.org/pandas-docs/stable/indexing.html#indexing-view-versus-copy\n",
            "  \n"
          ],
          "name": "stderr"
        }
      ]
    },
    {
      "cell_type": "code",
      "metadata": {
        "id": "nWlO-ob0ewsz",
        "colab_type": "code",
        "colab": {}
      },
      "source": [
        "#train[\"area_of_shot\"].unique()"
      ],
      "execution_count": 0,
      "outputs": []
    },
    {
      "cell_type": "code",
      "metadata": {
        "id": "4dL-kz4_ew2x",
        "colab_type": "code",
        "colab": {}
      },
      "source": [
        "#train[\"area_of_shot\"].mode()"
      ],
      "execution_count": 0,
      "outputs": []
    },
    {
      "cell_type": "code",
      "metadata": {
        "id": "j___2AeLguz4",
        "colab_type": "code",
        "colab": {
          "base_uri": "https://localhost:8080/",
          "height": 221
        },
        "outputId": "0c800bc1-bfae-4ae3-f6fb-76be93613b3b"
      },
      "source": [
        "## Mapping area of shot to integer values\n",
        "\n",
        "area_of_shot_map = {'Left Side(L)':1, 'Left Side Center(LC)':2, 'Right Side Center(RC)':3, 'Center(C)':4, 'Right Side(R)':5, 'Mid Ground(MG)':6, np.nan:4}\n",
        "\n",
        "df[\"area_of_shot\"] = df[\"area_of_shot\"].map(lambda x:area_of_shot_map[x])\n",
        "train[\"area_of_shot\"] = train[\"area_of_shot\"].map(lambda x:area_of_shot_map[x])\n",
        "test[\"area_of_shot\"] = test[\"area_of_shot\"].map(lambda x:area_of_shot_map[x])"
      ],
      "execution_count": 236,
      "outputs": [
        {
          "output_type": "stream",
          "text": [
            "/usr/local/lib/python3.6/dist-packages/ipykernel_launcher.py:5: SettingWithCopyWarning: \n",
            "A value is trying to be set on a copy of a slice from a DataFrame.\n",
            "Try using .loc[row_indexer,col_indexer] = value instead\n",
            "\n",
            "See the caveats in the documentation: http://pandas.pydata.org/pandas-docs/stable/indexing.html#indexing-view-versus-copy\n",
            "  \"\"\"\n",
            "/usr/local/lib/python3.6/dist-packages/ipykernel_launcher.py:6: SettingWithCopyWarning: \n",
            "A value is trying to be set on a copy of a slice from a DataFrame.\n",
            "Try using .loc[row_indexer,col_indexer] = value instead\n",
            "\n",
            "See the caveats in the documentation: http://pandas.pydata.org/pandas-docs/stable/indexing.html#indexing-view-versus-copy\n",
            "  \n"
          ],
          "name": "stderr"
        }
      ]
    },
    {
      "cell_type": "code",
      "metadata": {
        "id": "i_R797jPgu31",
        "colab_type": "code",
        "colab": {
          "base_uri": "https://localhost:8080/",
          "height": 544
        },
        "outputId": "dd9325a2-9a62-48b4-decb-3be41ca2b914"
      },
      "source": [
        "train.isnull().sum()"
      ],
      "execution_count": 347,
      "outputs": [
        {
          "output_type": "execute_result",
          "data": {
            "text/plain": [
              "Unnamed: 0                   0\n",
              "match_event_id               0\n",
              "location_x                   0\n",
              "location_y                   0\n",
              "remaining_min                0\n",
              "power_of_shot                0\n",
              "knockout_match               0\n",
              "game_season               4632\n",
              "remaining_sec                0\n",
              "distance_of_shot             0\n",
              "is_goal                      0\n",
              "area_of_shot                 0\n",
              "shot_basics                  0\n",
              "range_of_shot                0\n",
              "team_name                 1212\n",
              "date_of_game              1237\n",
              "home/away                 1214\n",
              "shot_id_number               0\n",
              "lat/lng                   1247\n",
              "type_of_shot             12136\n",
              "type_of_combined_shot    12293\n",
              "match_id                     0\n",
              "team_id                      0\n",
              "remaining_min.1              0\n",
              "power_of_shot.1              0\n",
              "knockout_match.1             0\n",
              "remaining_sec.1              0\n",
              "distance_of_shot.1           0\n",
              "remaining_time               0\n",
              "remaining_time.1             0\n",
              "dtype: int64"
            ]
          },
          "metadata": {
            "tags": []
          },
          "execution_count": 347
        }
      ]
    },
    {
      "cell_type": "code",
      "metadata": {
        "id": "sojouh5Egu94",
        "colab_type": "code",
        "colab": {}
      },
      "source": [
        "#train[\"range_of_shot\"].unique()"
      ],
      "execution_count": 0,
      "outputs": []
    },
    {
      "cell_type": "code",
      "metadata": {
        "id": "6jeY-zQasKJa",
        "colab_type": "code",
        "colab": {}
      },
      "source": [
        "#train[\"range_of_shot\"].mode()"
      ],
      "execution_count": 0,
      "outputs": []
    },
    {
      "cell_type": "code",
      "metadata": {
        "id": "O3BENFLXrgC4",
        "colab_type": "code",
        "colab": {
          "base_uri": "https://localhost:8080/",
          "height": 221
        },
        "outputId": "aa0fdf73-47bd-44eb-eeea-6c28697586ea"
      },
      "source": [
        "## Mapping range of shot to integer values\n",
        "\n",
        "range_of_shot_map = {'8-16 ft.':1, '16-24 ft.':2, 'Less Than 8 ft.':3, '24+ ft.':4, 'Back Court Shot':5, np.nan:3}\n",
        "\n",
        "df[\"range_of_shot\"] = df[\"range_of_shot\"].map(lambda x:range_of_shot_map[x])\n",
        "train[\"range_of_shot\"] = train[\"range_of_shot\"].map(lambda x:range_of_shot_map[x])\n",
        "test[\"range_of_shot\"] = test[\"range_of_shot\"].map(lambda x:range_of_shot_map[x])"
      ],
      "execution_count": 240,
      "outputs": [
        {
          "output_type": "stream",
          "text": [
            "/usr/local/lib/python3.6/dist-packages/ipykernel_launcher.py:5: SettingWithCopyWarning: \n",
            "A value is trying to be set on a copy of a slice from a DataFrame.\n",
            "Try using .loc[row_indexer,col_indexer] = value instead\n",
            "\n",
            "See the caveats in the documentation: http://pandas.pydata.org/pandas-docs/stable/indexing.html#indexing-view-versus-copy\n",
            "  \"\"\"\n",
            "/usr/local/lib/python3.6/dist-packages/ipykernel_launcher.py:6: SettingWithCopyWarning: \n",
            "A value is trying to be set on a copy of a slice from a DataFrame.\n",
            "Try using .loc[row_indexer,col_indexer] = value instead\n",
            "\n",
            "See the caveats in the documentation: http://pandas.pydata.org/pandas-docs/stable/indexing.html#indexing-view-versus-copy\n",
            "  \n"
          ],
          "name": "stderr"
        }
      ]
    },
    {
      "cell_type": "code",
      "metadata": {
        "id": "k70Y5D5fs2lU",
        "colab_type": "code",
        "colab": {}
      },
      "source": [
        "#train[\"shot_basics\"].unique()"
      ],
      "execution_count": 0,
      "outputs": []
    },
    {
      "cell_type": "code",
      "metadata": {
        "id": "F75dzYUAs2oh",
        "colab_type": "code",
        "colab": {}
      },
      "source": [
        "#train[\"shot_basics\"].mode()"
      ],
      "execution_count": 0,
      "outputs": []
    },
    {
      "cell_type": "code",
      "metadata": {
        "id": "NfBQcyf7s2vj",
        "colab_type": "code",
        "colab": {
          "base_uri": "https://localhost:8080/",
          "height": 221
        },
        "outputId": "184526da-5d91-42bd-de86-53391b5a384b"
      },
      "source": [
        "## Mapping shot basics to integer values\n",
        "\n",
        "shot_basics_map = {'Mid Range':1, 'Goal Area':2, 'Goal Line':3, 'Penalty Spot':4, 'Right Corner':5, 'Mid Ground Line':6, 'Left Corner':7, np.nan:1}\n",
        "\n",
        "df[\"shot_basics\"] = df[\"shot_basics\"].map(lambda x:shot_basics_map[x])\n",
        "train[\"shot_basics\"] = train[\"shot_basics\"].map(lambda x:shot_basics_map[x])\n",
        "test[\"shot_basics\"] = test[\"shot_basics\"].map(lambda x:shot_basics_map[x])"
      ],
      "execution_count": 243,
      "outputs": [
        {
          "output_type": "stream",
          "text": [
            "/usr/local/lib/python3.6/dist-packages/ipykernel_launcher.py:5: SettingWithCopyWarning: \n",
            "A value is trying to be set on a copy of a slice from a DataFrame.\n",
            "Try using .loc[row_indexer,col_indexer] = value instead\n",
            "\n",
            "See the caveats in the documentation: http://pandas.pydata.org/pandas-docs/stable/indexing.html#indexing-view-versus-copy\n",
            "  \"\"\"\n",
            "/usr/local/lib/python3.6/dist-packages/ipykernel_launcher.py:6: SettingWithCopyWarning: \n",
            "A value is trying to be set on a copy of a slice from a DataFrame.\n",
            "Try using .loc[row_indexer,col_indexer] = value instead\n",
            "\n",
            "See the caveats in the documentation: http://pandas.pydata.org/pandas-docs/stable/indexing.html#indexing-view-versus-copy\n",
            "  \n"
          ],
          "name": "stderr"
        }
      ]
    },
    {
      "cell_type": "code",
      "metadata": {
        "id": "1zlxHob3rgYW",
        "colab_type": "code",
        "colab": {}
      },
      "source": [
        "#train.isnull().sum()"
      ],
      "execution_count": 0,
      "outputs": []
    },
    {
      "cell_type": "code",
      "metadata": {
        "id": "dNXUNXdFaA55",
        "colab_type": "code",
        "colab": {}
      },
      "source": [
        "Y = train[\"is_goal\"].values\n",
        "#print(Y)"
      ],
      "execution_count": 0,
      "outputs": []
    },
    {
      "cell_type": "code",
      "metadata": {
        "id": "5WOuCiH-5po0",
        "colab_type": "code",
        "colab": {}
      },
      "source": [
        "X = train[[\"power_of_shot\", \"distance_of_shot\", \"remaining_time\", \"area_of_shot\", \"range_of_shot\", \"shot_basics\", \"location_x\", \"location_y\", \"power_of_shot.1\"\n",
        "           , \"remaining_time.1\", \"distance_of_shot.1\"]]\n",
        "#print(X.head())"
      ],
      "execution_count": 0,
      "outputs": []
    },
    {
      "cell_type": "markdown",
      "metadata": {
        "id": "-1A0FTGl7UCz",
        "colab_type": "text"
      },
      "source": [
        "## Feature Selection"
      ]
    },
    {
      "cell_type": "markdown",
      "metadata": {
        "id": "cLa2xBz07Wue",
        "colab_type": "text"
      },
      "source": [
        "### 1. Univariate Selection"
      ]
    },
    {
      "cell_type": "code",
      "metadata": {
        "id": "4o_iM0bj092D",
        "colab_type": "code",
        "colab": {}
      },
      "source": [
        "from sklearn.feature_selection import SelectKBest\n",
        "from sklearn.feature_selection import mutual_info_classif"
      ],
      "execution_count": 0,
      "outputs": []
    },
    {
      "cell_type": "code",
      "metadata": {
        "id": "Bp0zaj3b09-y",
        "colab_type": "code",
        "colab": {}
      },
      "source": [
        "bestfeatures = SelectKBest(score_func=mutual_info_classif, k=10)\n",
        "fit = bestfeatures.fit(X,Y)\n",
        "dfscores = pd.DataFrame(fit.scores_)\n",
        "dfcolumns = pd.DataFrame(X.columns)"
      ],
      "execution_count": 0,
      "outputs": []
    },
    {
      "cell_type": "code",
      "metadata": {
        "id": "9hMY0FW80-M_",
        "colab_type": "code",
        "colab": {
          "base_uri": "https://localhost:8080/",
          "height": 204
        },
        "outputId": "31fd4cb3-ec27-41b1-f0bb-88d59d210f8f"
      },
      "source": [
        "featureScores = pd.concat([dfcolumns,dfscores],axis=1)\n",
        "featureScores.columns = ['Specs','Score']  \n",
        "print(featureScores.nlargest(10,'Score'))  "
      ],
      "execution_count": 249,
      "outputs": [
        {
          "output_type": "stream",
          "text": [
            "                 Specs     Score\n",
            "5          shot_basics  0.025739\n",
            "7           location_y  0.023576\n",
            "1     distance_of_shot  0.021737\n",
            "4        range_of_shot  0.018469\n",
            "10  distance_of_shot.1  0.017124\n",
            "6           location_x  0.015201\n",
            "3         area_of_shot  0.014625\n",
            "9     remaining_time.1  0.007076\n",
            "2       remaining_time  0.004545\n",
            "0        power_of_shot  0.002736\n"
          ],
          "name": "stdout"
        }
      ]
    },
    {
      "cell_type": "markdown",
      "metadata": {
        "id": "VX2eRg1M8zIs",
        "colab_type": "text"
      },
      "source": [
        "### 2. Feature Importance"
      ]
    },
    {
      "cell_type": "code",
      "metadata": {
        "id": "Gzc6QYoY4ARD",
        "colab_type": "code",
        "colab": {}
      },
      "source": [
        "from sklearn.ensemble import ExtraTreesClassifier\n",
        "model = ExtraTreesClassifier()"
      ],
      "execution_count": 0,
      "outputs": []
    },
    {
      "cell_type": "code",
      "metadata": {
        "id": "9jhyfG6H4AjS",
        "colab_type": "code",
        "colab": {
          "base_uri": "https://localhost:8080/",
          "height": 190
        },
        "outputId": "e1195871-1303-4884-8555-2738f8adf983"
      },
      "source": [
        "model.fit(X,Y)"
      ],
      "execution_count": 251,
      "outputs": [
        {
          "output_type": "stream",
          "text": [
            "/usr/local/lib/python3.6/dist-packages/sklearn/ensemble/forest.py:245: FutureWarning: The default value of n_estimators will change from 10 in version 0.20 to 100 in 0.22.\n",
            "  \"10 in version 0.20 to 100 in 0.22.\", FutureWarning)\n"
          ],
          "name": "stderr"
        },
        {
          "output_type": "execute_result",
          "data": {
            "text/plain": [
              "ExtraTreesClassifier(bootstrap=False, class_weight=None, criterion='gini',\n",
              "                     max_depth=None, max_features='auto', max_leaf_nodes=None,\n",
              "                     min_impurity_decrease=0.0, min_impurity_split=None,\n",
              "                     min_samples_leaf=1, min_samples_split=2,\n",
              "                     min_weight_fraction_leaf=0.0, n_estimators=10, n_jobs=None,\n",
              "                     oob_score=False, random_state=None, verbose=0,\n",
              "                     warm_start=False)"
            ]
          },
          "metadata": {
            "tags": []
          },
          "execution_count": 251
        }
      ]
    },
    {
      "cell_type": "code",
      "metadata": {
        "id": "108bOnvW4ANx",
        "colab_type": "code",
        "colab": {
          "base_uri": "https://localhost:8080/",
          "height": 51
        },
        "outputId": "468e8d0f-c996-464f-d528-44bb77eca157"
      },
      "source": [
        "print(model.feature_importances_)"
      ],
      "execution_count": 252,
      "outputs": [
        {
          "output_type": "stream",
          "text": [
            "[0.0584891  0.07486704 0.18210699 0.02325387 0.01803853 0.01639545\n",
            " 0.13160937 0.13094905 0.08536406 0.18106973 0.09785681]\n"
          ],
          "name": "stdout"
        }
      ]
    },
    {
      "cell_type": "code",
      "metadata": {
        "id": "1Fa6moRp4Qrt",
        "colab_type": "code",
        "colab": {
          "base_uri": "https://localhost:8080/",
          "height": 269
        },
        "outputId": "e48101f8-57fd-4302-a91e-608f3c69b6ce"
      },
      "source": [
        "feat_importances = pd.Series(model.feature_importances_, index=X.columns)\n",
        "feat_importances.nlargest(10).plot(kind='barh')\n",
        "plt.show()"
      ],
      "execution_count": 253,
      "outputs": [
        {
          "output_type": "display_data",
          "data": {
            "image/png": "[encoded data removed]",
            "text/plain": [
              "<Figure size 432x288 with 1 Axes>"
            ]
          },
          "metadata": {
            "tags": []
          }
        }
      ]
    },
    {
      "cell_type": "markdown",
      "metadata": {
        "id": "4TgRBLXa9mx_",
        "colab_type": "text"
      },
      "source": [
        "## Final training and testing data"
      ]
    },
    {
      "cell_type": "code",
      "metadata": {
        "id": "04oZ_Qp29nTZ",
        "colab_type": "code",
        "colab": {}
      },
      "source": [
        "X_train = train[[\"remaining_time\", \"remaining_time.1\", \"location_x\", \"location_y\", \"distance_of_shot.1\", \"power_of_shot.1\", \"distance_of_shot\", \"power_of_shot\"]]\n",
        "X_test = test[[\"remaining_time\", \"remaining_time.1\", \"location_x\", \"location_y\", \"distance_of_shot.1\", \"power_of_shot.1\", \"distance_of_shot\", \"power_of_shot\"]]"
      ],
      "execution_count": 0,
      "outputs": []
    },
    {
      "cell_type": "markdown",
      "metadata": {
        "id": "7isOZBfaJDPb",
        "colab_type": "text"
      },
      "source": [
        "# PREDICTIONS"
      ]
    },
    {
      "cell_type": "code",
      "metadata": {
        "id": "Eb-s2MTD2AsH",
        "colab_type": "code",
        "colab": {}
      },
      "source": [
        "Y_true = Y"
      ],
      "execution_count": 0,
      "outputs": []
    },
    {
      "cell_type": "markdown",
      "metadata": {
        "id": "zauDNugmzrCp",
        "colab_type": "text"
      },
      "source": [
        "### 1. Logistic Regression"
      ]
    },
    {
      "cell_type": "code",
      "metadata": {
        "id": "FRW6vteRzpob",
        "colab_type": "code",
        "colab": {}
      },
      "source": [
        "#from sklearn.linear_model import LogisticRegression"
      ],
      "execution_count": 0,
      "outputs": []
    },
    {
      "cell_type": "code",
      "metadata": {
        "id": "IAZ5VeRfzp1Z",
        "colab_type": "code",
        "colab": {}
      },
      "source": [
        "#classifier_logistic = LogisticRegression(random_state=0, solver='lbfgs', multi_class='multinomial')"
      ],
      "execution_count": 0,
      "outputs": []
    },
    {
      "cell_type": "code",
      "metadata": {
        "id": "bsSskvJozqCS",
        "colab_type": "code",
        "colab": {}
      },
      "source": [
        "#classifier_logistic.fit(X,Y)"
      ],
      "execution_count": 0,
      "outputs": []
    },
    {
      "cell_type": "code",
      "metadata": {
        "colab_type": "code",
        "id": "1cyVga7BX83v",
        "colab": {}
      },
      "source": [
        "#Y_predict_logistic = classifier_logistic.predict(X)"
      ],
      "execution_count": 0,
      "outputs": []
    },
    {
      "cell_type": "markdown",
      "metadata": {
        "id": "RJdC38Qh0xts",
        "colab_type": "text"
      },
      "source": [
        "### 2. KNN"
      ]
    },
    {
      "cell_type": "code",
      "metadata": {
        "id": "2Rc4fN2J0yBV",
        "colab_type": "code",
        "colab": {}
      },
      "source": [
        "#from sklearn.neighbors import KNeighborsClassifier"
      ],
      "execution_count": 0,
      "outputs": []
    },
    {
      "cell_type": "code",
      "metadata": {
        "id": "oFm0Zn1H0yLu",
        "colab_type": "code",
        "colab": {}
      },
      "source": [
        "#classifier_knn = KNeighborsClassifier(n_neighbors=3)"
      ],
      "execution_count": 0,
      "outputs": []
    },
    {
      "cell_type": "code",
      "metadata": {
        "id": "UUcUYQZB0ykO",
        "colab_type": "code",
        "colab": {}
      },
      "source": [
        "#classifier_knn.fit(X,Y)"
      ],
      "execution_count": 0,
      "outputs": []
    },
    {
      "cell_type": "code",
      "metadata": {
        "colab_type": "code",
        "id": "gOTyw1aXX8fO",
        "colab": {}
      },
      "source": [
        "#Y_predict_knn = classifier_knn.predict(X)"
      ],
      "execution_count": 0,
      "outputs": []
    },
    {
      "cell_type": "markdown",
      "metadata": {
        "id": "X7RGByjyJKT7",
        "colab_type": "text"
      },
      "source": [
        "### 3. Support Vector Machine"
      ]
    },
    {
      "cell_type": "code",
      "metadata": {
        "id": "z2pXUFx5E4MA",
        "colab_type": "code",
        "colab": {}
      },
      "source": [
        "#from sklearn.svm import SVC"
      ],
      "execution_count": 0,
      "outputs": []
    },
    {
      "cell_type": "code",
      "metadata": {
        "id": "5mYE-DIyFBav",
        "colab_type": "code",
        "colab": {}
      },
      "source": [
        "#classifier_svm = SVC(gamma = 'auto', probability=True)"
      ],
      "execution_count": 0,
      "outputs": []
    },
    {
      "cell_type": "code",
      "metadata": {
        "id": "dSCGEw6uFHAq",
        "colab_type": "code",
        "colab": {}
      },
      "source": [
        "#classifier_svm.fit(X,Y)"
      ],
      "execution_count": 0,
      "outputs": []
    },
    {
      "cell_type": "code",
      "metadata": {
        "colab_type": "code",
        "id": "uHZm9eC0X8Uc",
        "colab": {}
      },
      "source": [
        "#classifier_svm.score(X, Y)"
      ],
      "execution_count": 0,
      "outputs": []
    },
    {
      "cell_type": "code",
      "metadata": {
        "colab_type": "code",
        "id": "VPTx3uI9X8KH",
        "colab": {}
      },
      "source": [
        "#Y_predict_svm = classifier_svm.predict_proba(X)\n",
        "#Y_predict_svm = classifier_svm.predict(X)\n",
        "#print(Y_predict_svm)"
      ],
      "execution_count": 0,
      "outputs": []
    },
    {
      "cell_type": "markdown",
      "metadata": {
        "id": "l_Zs_d1FJWJV",
        "colab_type": "text"
      },
      "source": [
        "### 4. Random Forest "
      ]
    },
    {
      "cell_type": "code",
      "metadata": {
        "id": "4i5LIZAuIdd1",
        "colab_type": "code",
        "colab": {}
      },
      "source": [
        "from sklearn.ensemble import RandomForestClassifier"
      ],
      "execution_count": 0,
      "outputs": []
    },
    {
      "cell_type": "code",
      "metadata": {
        "id": "ASqyUsnFJgSS",
        "colab_type": "code",
        "colab": {}
      },
      "source": [
        "classifier_randomforest = RandomForestClassifier(n_estimators=5, max_depth=16, random_state=0)"
      ],
      "execution_count": 0,
      "outputs": []
    },
    {
      "cell_type": "code",
      "metadata": {
        "id": "P3Ccd65KJpXL",
        "colab_type": "code",
        "colab": {
          "base_uri": "https://localhost:8080/",
          "height": 136
        },
        "outputId": "682ce755-f4ea-4c7a-f7ce-3e1b444ffd4e"
      },
      "source": [
        "classifier_randomforest.fit(X_train,Y)"
      ],
      "execution_count": 271,
      "outputs": [
        {
          "output_type": "execute_result",
          "data": {
            "text/plain": [
              "RandomForestClassifier(bootstrap=True, class_weight=None, criterion='gini',\n",
              "                       max_depth=16, max_features='auto', max_leaf_nodes=None,\n",
              "                       min_impurity_decrease=0.0, min_impurity_split=None,\n",
              "                       min_samples_leaf=1, min_samples_split=2,\n",
              "                       min_weight_fraction_leaf=0.0, n_estimators=5,\n",
              "                       n_jobs=None, oob_score=False, random_state=0, verbose=0,\n",
              "                       warm_start=False)"
            ]
          },
          "metadata": {
            "tags": []
          },
          "execution_count": 271
        }
      ]
    },
    {
      "cell_type": "code",
      "metadata": {
        "colab_type": "code",
        "id": "ZmCCSdi5X7-n",
        "colab": {}
      },
      "source": [
        "#classifier_randomforest.score(X,Y)"
      ],
      "execution_count": 0,
      "outputs": []
    },
    {
      "cell_type": "code",
      "metadata": {
        "colab_type": "code",
        "id": "OTf784fWX7y3",
        "colab": {}
      },
      "source": [
        "Y_predict_rf = classifier_randomforest.predict(X_train)"
      ],
      "execution_count": 0,
      "outputs": []
    },
    {
      "cell_type": "markdown",
      "metadata": {
        "id": "qNs11wF42FQ1",
        "colab_type": "text"
      },
      "source": [
        "### 5. XGBoost"
      ]
    },
    {
      "cell_type": "code",
      "metadata": {
        "id": "5gD-xCFN2Fg6",
        "colab_type": "code",
        "colab": {}
      },
      "source": [
        "import xgboost as xgb"
      ],
      "execution_count": 0,
      "outputs": []
    },
    {
      "cell_type": "code",
      "metadata": {
        "id": "UYqQ-tCG2FtN",
        "colab_type": "code",
        "colab": {}
      },
      "source": [
        "classifier_xgb = xgb.XGBClassifier(objective=\"binary:logistic\", random_state=42)"
      ],
      "execution_count": 0,
      "outputs": []
    },
    {
      "cell_type": "code",
      "metadata": {
        "id": "lXhk-KGOLE4s",
        "colab_type": "code",
        "colab": {
          "base_uri": "https://localhost:8080/",
          "height": 136
        },
        "outputId": "357d6ab4-8a14-4645-a1e1-ab626e6fa4e5"
      },
      "source": [
        "classifier_xgb.fit(X_train,Y)"
      ],
      "execution_count": 276,
      "outputs": [
        {
          "output_type": "execute_result",
          "data": {
            "text/plain": [
              "XGBClassifier(base_score=0.5, booster='gbtree', colsample_bylevel=1,\n",
              "              colsample_bynode=1, colsample_bytree=1, gamma=0,\n",
              "              learning_rate=0.1, max_delta_step=0, max_depth=3,\n",
              "              min_child_weight=1, missing=None, n_estimators=100, n_jobs=1,\n",
              "              nthread=None, objective='binary:logistic', random_state=42,\n",
              "              reg_alpha=0, reg_lambda=1, scale_pos_weight=1, seed=None,\n",
              "              silent=None, subsample=1, verbosity=1)"
            ]
          },
          "metadata": {
            "tags": []
          },
          "execution_count": 276
        }
      ]
    },
    {
      "cell_type": "code",
      "metadata": {
        "id": "XhQ91TI1vlav",
        "colab_type": "code",
        "colab": {}
      },
      "source": [
        "#classifier_xgb.feature_importances_"
      ],
      "execution_count": 0,
      "outputs": []
    },
    {
      "cell_type": "code",
      "metadata": {
        "colab_type": "code",
        "id": "72h7lxk2X7p8",
        "colab": {}
      },
      "source": [
        "Y_predict_xgb = classifier_xgb.predict(X_train)"
      ],
      "execution_count": 0,
      "outputs": []
    },
    {
      "cell_type": "markdown",
      "metadata": {
        "id": "s9YaaJa16kbO",
        "colab_type": "text"
      },
      "source": [
        "### 6. Gradient Boosting "
      ]
    },
    {
      "cell_type": "code",
      "metadata": {
        "id": "QpZiur0R6kpS",
        "colab_type": "code",
        "colab": {}
      },
      "source": [
        "#from sklearn.ensemble import GradientBoostingClassifier"
      ],
      "execution_count": 0,
      "outputs": []
    },
    {
      "cell_type": "code",
      "metadata": {
        "id": "2TjMmXEV6kyM",
        "colab_type": "code",
        "colab": {}
      },
      "source": [
        "#classifier_gb = GradientBoostingClassifier()"
      ],
      "execution_count": 0,
      "outputs": []
    },
    {
      "cell_type": "code",
      "metadata": {
        "id": "TvFBcaMF6k9H",
        "colab_type": "code",
        "colab": {}
      },
      "source": [
        "#classifier_gb.fit(X,Y)"
      ],
      "execution_count": 0,
      "outputs": []
    },
    {
      "cell_type": "code",
      "metadata": {
        "colab_type": "code",
        "id": "u0LOJA3FX7g3",
        "colab": {}
      },
      "source": [
        "#Y_predict_gb = classifier_gb.predict(X)"
      ],
      "execution_count": 0,
      "outputs": []
    },
    {
      "cell_type": "markdown",
      "metadata": {
        "id": "FAdbVbob77dC",
        "colab_type": "text"
      },
      "source": [
        "### 7. Decision Tree"
      ]
    },
    {
      "cell_type": "code",
      "metadata": {
        "id": "TuMx_5eY77sC",
        "colab_type": "code",
        "colab": {}
      },
      "source": [
        "#from sklearn.tree import DecisionTreeClassifier"
      ],
      "execution_count": 0,
      "outputs": []
    },
    {
      "cell_type": "code",
      "metadata": {
        "id": "zGh60oWk772L",
        "colab_type": "code",
        "colab": {}
      },
      "source": [
        "#classifier_decisionT = DecisionTreeClassifier(random_state=0)"
      ],
      "execution_count": 0,
      "outputs": []
    },
    {
      "cell_type": "code",
      "metadata": {
        "id": "itQCEK9V78Cq",
        "colab_type": "code",
        "colab": {}
      },
      "source": [
        "#classifier_decisionT.fit(X,Y)"
      ],
      "execution_count": 0,
      "outputs": []
    },
    {
      "cell_type": "code",
      "metadata": {
        "colab_type": "code",
        "id": "xcja-yJrX7Yg",
        "colab": {}
      },
      "source": [
        "#Y_predict_decisionT = classifier_decisionT.predict(X)"
      ],
      "execution_count": 0,
      "outputs": []
    },
    {
      "cell_type": "markdown",
      "metadata": {
        "id": "GTNIgZbO8l-5",
        "colab_type": "text"
      },
      "source": [
        "### 8. Naive Bayes"
      ]
    },
    {
      "cell_type": "code",
      "metadata": {
        "id": "vLz6i89h8mPT",
        "colab_type": "code",
        "colab": {}
      },
      "source": [
        "#from sklearn.naive_bayes import *"
      ],
      "execution_count": 0,
      "outputs": []
    },
    {
      "cell_type": "code",
      "metadata": {
        "id": "FDG8Qu-D8maS",
        "colab_type": "code",
        "colab": {}
      },
      "source": [
        "#classifier_nb_bernoulli = BernoulliNB()\n",
        "#classifier_nb_multinomial = MultinomialNB()\n",
        "#classifier_nb_gaussian = GaussianNB()"
      ],
      "execution_count": 0,
      "outputs": []
    },
    {
      "cell_type": "code",
      "metadata": {
        "id": "yvrXFqQK8mmv",
        "colab_type": "code",
        "colab": {}
      },
      "source": [
        "#classifier_nb_bernoulli.fit(X,Y)"
      ],
      "execution_count": 0,
      "outputs": []
    },
    {
      "cell_type": "code",
      "metadata": {
        "id": "eTaqXl808myo",
        "colab_type": "code",
        "colab": {}
      },
      "source": [
        "#classifier_nb_multinomial.fit(X,Y)"
      ],
      "execution_count": 0,
      "outputs": []
    },
    {
      "cell_type": "code",
      "metadata": {
        "id": "VbV4K_0o9m1U",
        "colab_type": "code",
        "colab": {}
      },
      "source": [
        "#classifier_nb_gaussian.fit(X,Y)"
      ],
      "execution_count": 0,
      "outputs": []
    },
    {
      "cell_type": "code",
      "metadata": {
        "colab_type": "code",
        "id": "EHKRZb_6X7Oi",
        "colab": {}
      },
      "source": [
        "#Y_predict_nb_bernoulli = classifier_nb_bernoulli.predict(X)\n",
        "#Y_predict_nb_multinomial = classifier_nb_multinomial.predict(X)\n",
        "#Y_predict_nb_gaussian = classifier_nb_gaussian.predict(X)"
      ],
      "execution_count": 0,
      "outputs": []
    },
    {
      "cell_type": "markdown",
      "metadata": {
        "id": "VdEnrBhyBDEC",
        "colab_type": "text"
      },
      "source": [
        "### 9. Neural Networks"
      ]
    },
    {
      "cell_type": "code",
      "metadata": {
        "id": "cpSn6fM7BDTZ",
        "colab_type": "code",
        "colab": {}
      },
      "source": [
        "#from sklearn.neural_network import MLPClassifier"
      ],
      "execution_count": 0,
      "outputs": []
    },
    {
      "cell_type": "code",
      "metadata": {
        "id": "KZvd5W77BDdV",
        "colab_type": "code",
        "colab": {}
      },
      "source": [
        "#classifier_mlp = MLPClassifier(hidden_layer_sizes=(100,100,100), max_iter=500, alpha=0.0001,\n",
        " #                    solver='sgd', verbose=10,  random_state=21,tol=0.000000001)"
      ],
      "execution_count": 0,
      "outputs": []
    },
    {
      "cell_type": "code",
      "metadata": {
        "id": "4HHXG9x6BDoA",
        "colab_type": "code",
        "colab": {}
      },
      "source": [
        "#classifier_mlp.fit(X,Y)"
      ],
      "execution_count": 0,
      "outputs": []
    },
    {
      "cell_type": "code",
      "metadata": {
        "colab_type": "code",
        "id": "ww35yj2pX6_z",
        "colab": {}
      },
      "source": [
        "#Y_predict_mlp = classifier_mlp.predict(X)"
      ],
      "execution_count": 0,
      "outputs": []
    },
    {
      "cell_type": "markdown",
      "metadata": {
        "id": "xqHqCln2HNRC",
        "colab_type": "text"
      },
      "source": [
        "### 10. Ada Boost"
      ]
    },
    {
      "cell_type": "code",
      "metadata": {
        "id": "DguXVKPFHNhl",
        "colab_type": "code",
        "colab": {}
      },
      "source": [
        "#from sklearn.ensemble import AdaBoostClassifier"
      ],
      "execution_count": 0,
      "outputs": []
    },
    {
      "cell_type": "code",
      "metadata": {
        "id": "49e5IIKHHNrn",
        "colab_type": "code",
        "colab": {}
      },
      "source": [
        "#classifier_ada = AdaBoostClassifier(n_estimators=100, random_state=0)"
      ],
      "execution_count": 0,
      "outputs": []
    },
    {
      "cell_type": "code",
      "metadata": {
        "id": "oTd2knD-HN21",
        "colab_type": "code",
        "colab": {}
      },
      "source": [
        "#classifier_ada.fit(X,Y)"
      ],
      "execution_count": 0,
      "outputs": []
    },
    {
      "cell_type": "code",
      "metadata": {
        "id": "_YmHFTP9HODI",
        "colab_type": "code",
        "colab": {}
      },
      "source": [
        "#Y_predict_ada = classifier_ada.predict(X)"
      ],
      "execution_count": 0,
      "outputs": []
    },
    {
      "cell_type": "markdown",
      "metadata": {
        "id": "ScmEtNpXHoxU",
        "colab_type": "text"
      },
      "source": [
        "### 11. Quadratic Discriminant Analysis"
      ]
    },
    {
      "cell_type": "code",
      "metadata": {
        "id": "EJWWgnYcHpB-",
        "colab_type": "code",
        "colab": {}
      },
      "source": [
        "#from sklearn.discriminant_analysis import QuadraticDiscriminantAnalysis"
      ],
      "execution_count": 0,
      "outputs": []
    },
    {
      "cell_type": "code",
      "metadata": {
        "id": "w076MCekHpNn",
        "colab_type": "code",
        "colab": {}
      },
      "source": [
        "#classifier_qda = QuadraticDiscriminantAnalysis()"
      ],
      "execution_count": 0,
      "outputs": []
    },
    {
      "cell_type": "code",
      "metadata": {
        "id": "wuviXRRIHpZX",
        "colab_type": "code",
        "colab": {}
      },
      "source": [
        "#classifier_qda.fit(X,Y)"
      ],
      "execution_count": 0,
      "outputs": []
    },
    {
      "cell_type": "code",
      "metadata": {
        "id": "4q3qHsiGHplo",
        "colab_type": "code",
        "colab": {}
      },
      "source": [
        "#Y_predict_qda = classifier_qda.predict(X)"
      ],
      "execution_count": 0,
      "outputs": []
    },
    {
      "cell_type": "markdown",
      "metadata": {
        "id": "GxhW83DFLKtn",
        "colab_type": "text"
      },
      "source": [
        "## Calculating MAE score"
      ]
    },
    {
      "cell_type": "code",
      "metadata": {
        "id": "AgSak5FJLJjv",
        "colab_type": "code",
        "colab": {}
      },
      "source": [
        "from sklearn.metrics import mean_absolute_error"
      ],
      "execution_count": 0,
      "outputs": []
    },
    {
      "cell_type": "code",
      "metadata": {
        "id": "DaTE23OU0pdw",
        "colab_type": "code",
        "colab": {}
      },
      "source": [
        "#mean_absolute_error(Y_true, Y_predict_logistic)"
      ],
      "execution_count": 0,
      "outputs": []
    },
    {
      "cell_type": "code",
      "metadata": {
        "id": "LjnOrOeG0po8",
        "colab_type": "code",
        "colab": {}
      },
      "source": [
        "#mean_absolute_error(Y_true, Y_predict_knn)"
      ],
      "execution_count": 0,
      "outputs": []
    },
    {
      "cell_type": "code",
      "metadata": {
        "id": "8xrGqwWXLZuv",
        "colab_type": "code",
        "colab": {}
      },
      "source": [
        "#mean_absolute_error(Y_true, Y_predict_svm)"
      ],
      "execution_count": 0,
      "outputs": []
    },
    {
      "cell_type": "code",
      "metadata": {
        "id": "yBvB-I-bLtqJ",
        "colab_type": "code",
        "colab": {
          "base_uri": "https://localhost:8080/",
          "height": 34
        },
        "outputId": "336c9a9f-6681-406d-acba-53638f27b960"
      },
      "source": [
        "mean_absolute_error(Y_true, Y_predict_rf)"
      ],
      "execution_count": 309,
      "outputs": [
        {
          "output_type": "execute_result",
          "data": {
            "text/plain": [
              "0.25240492856850466"
            ]
          },
          "metadata": {
            "tags": []
          },
          "execution_count": 309
        }
      ]
    },
    {
      "cell_type": "code",
      "metadata": {
        "id": "FKP0csZ37ScG",
        "colab_type": "code",
        "colab": {
          "base_uri": "https://localhost:8080/",
          "height": 34
        },
        "outputId": "0ccf19bb-b422-4f98-a05a-a3a272ede026"
      },
      "source": [
        "mean_absolute_error(Y_true, Y_predict_xgb)"
      ],
      "execution_count": 310,
      "outputs": [
        {
          "output_type": "execute_result",
          "data": {
            "text/plain": [
              "0.3846657660976708"
            ]
          },
          "metadata": {
            "tags": []
          },
          "execution_count": 310
        }
      ]
    },
    {
      "cell_type": "code",
      "metadata": {
        "id": "u639xqAw7NMJ",
        "colab_type": "code",
        "colab": {}
      },
      "source": [
        "#mean_absolute_error(Y_true, Y_predict_gb)"
      ],
      "execution_count": 0,
      "outputs": []
    },
    {
      "cell_type": "code",
      "metadata": {
        "id": "asGK7TcM7fou",
        "colab_type": "code",
        "colab": {}
      },
      "source": [
        "#mean_absolute_error(Y_true, Y_predict_decisionT)"
      ],
      "execution_count": 0,
      "outputs": []
    },
    {
      "cell_type": "code",
      "metadata": {
        "id": "-H46CD_w-BI9",
        "colab_type": "code",
        "colab": {}
      },
      "source": [
        "#mean_absolute_error(Y_true, Y_predict_nb_bernoulli)"
      ],
      "execution_count": 0,
      "outputs": []
    },
    {
      "cell_type": "code",
      "metadata": {
        "id": "35q8r8Lq-BVE",
        "colab_type": "code",
        "colab": {}
      },
      "source": [
        "#mean_absolute_error(Y_true, Y_predict_nb_multinomial)"
      ],
      "execution_count": 0,
      "outputs": []
    },
    {
      "cell_type": "code",
      "metadata": {
        "id": "pv0gv1en-BhM",
        "colab_type": "code",
        "colab": {}
      },
      "source": [
        "#mean_absolute_error(Y_true, Y_predict_nb_gaussian)"
      ],
      "execution_count": 0,
      "outputs": []
    },
    {
      "cell_type": "code",
      "metadata": {
        "id": "_DQYV5aGDsef",
        "colab_type": "code",
        "colab": {}
      },
      "source": [
        "#mean_absolute_error(Y_true, Y_predict_mlp)"
      ],
      "execution_count": 0,
      "outputs": []
    },
    {
      "cell_type": "code",
      "metadata": {
        "id": "ScwpNwMBHh1h",
        "colab_type": "code",
        "colab": {}
      },
      "source": [
        "#mean_absolute_error(Y_true, Y_predict_ada)"
      ],
      "execution_count": 0,
      "outputs": []
    },
    {
      "cell_type": "code",
      "metadata": {
        "id": "q8e0CCvaH8rU",
        "colab_type": "code",
        "colab": {}
      },
      "source": [
        "#mean_absolute_error(Y_true, Y_predict_qda)"
      ],
      "execution_count": 0,
      "outputs": []
    },
    {
      "cell_type": "code",
      "metadata": {
        "id": "QFgVMAXn150I",
        "colab_type": "code",
        "colab": {}
      },
      "source": [
        "# score = 1/(1+mae)\n",
        "# print(score)"
      ],
      "execution_count": 0,
      "outputs": []
    },
    {
      "cell_type": "markdown",
      "metadata": {
        "id": "C-UO7sLTCD6U",
        "colab_type": "text"
      },
      "source": [
        "## Calculating cross-validation score"
      ]
    },
    {
      "cell_type": "code",
      "metadata": {
        "id": "EEGm9vQyCI5y",
        "colab_type": "code",
        "colab": {}
      },
      "source": [
        "from sklearn.model_selection import cross_val_score"
      ],
      "execution_count": 0,
      "outputs": []
    },
    {
      "cell_type": "code",
      "metadata": {
        "id": "BpKQFFtRCPhr",
        "colab_type": "code",
        "colab": {}
      },
      "source": [
        "#cross_val_score(classifier_logistic, X, Y)"
      ],
      "execution_count": 0,
      "outputs": []
    },
    {
      "cell_type": "code",
      "metadata": {
        "id": "bs2WOF_4CXGG",
        "colab_type": "code",
        "colab": {}
      },
      "source": [
        "#cross_val_score(classifier_knn, X, Y)"
      ],
      "execution_count": 0,
      "outputs": []
    },
    {
      "cell_type": "code",
      "metadata": {
        "id": "VMvNVurMC46S",
        "colab_type": "code",
        "colab": {}
      },
      "source": [
        "#cross_val_score(classifier_svm, X, Y)"
      ],
      "execution_count": 0,
      "outputs": []
    },
    {
      "cell_type": "code",
      "metadata": {
        "id": "dhS6E_2QM1fp",
        "colab_type": "code",
        "colab": {
          "base_uri": "https://localhost:8080/",
          "height": 88
        },
        "outputId": "7fd4ee23-6b89-4c7b-9263-ae4af432c392"
      },
      "source": [
        "cross_val_score(classifier_randomforest, X_train, Y).mean()"
      ],
      "execution_count": 324,
      "outputs": [
        {
          "output_type": "stream",
          "text": [
            "/usr/local/lib/python3.6/dist-packages/sklearn/model_selection/_split.py:1978: FutureWarning: The default value of cv will change from 3 to 5 in version 0.22. Specify it explicitly to silence this warning.\n",
            "  warnings.warn(CV_WARNING, FutureWarning)\n"
          ],
          "name": "stderr"
        },
        {
          "output_type": "execute_result",
          "data": {
            "text/plain": [
              "0.5743992803115414"
            ]
          },
          "metadata": {
            "tags": []
          },
          "execution_count": 324
        }
      ]
    },
    {
      "cell_type": "code",
      "metadata": {
        "id": "quLz5gffM4OV",
        "colab_type": "code",
        "colab": {
          "base_uri": "https://localhost:8080/",
          "height": 88
        },
        "outputId": "c513ec0d-d258-420f-a472-3ed38bb5f6d8"
      },
      "source": [
        "cross_val_score(classifier_xgb, X_train, Y).mean()"
      ],
      "execution_count": 325,
      "outputs": [
        {
          "output_type": "stream",
          "text": [
            "/usr/local/lib/python3.6/dist-packages/sklearn/model_selection/_split.py:1978: FutureWarning: The default value of cv will change from 3 to 5 in version 0.22. Specify it explicitly to silence this warning.\n",
            "  warnings.warn(CV_WARNING, FutureWarning)\n"
          ],
          "name": "stderr"
        },
        {
          "output_type": "execute_result",
          "data": {
            "text/plain": [
              "0.6083345840382477"
            ]
          },
          "metadata": {
            "tags": []
          },
          "execution_count": 325
        }
      ]
    },
    {
      "cell_type": "code",
      "metadata": {
        "id": "_Yz3HpukN1R3",
        "colab_type": "code",
        "colab": {}
      },
      "source": [
        "#cross_val_score(classifier_gb, X, Y)"
      ],
      "execution_count": 0,
      "outputs": []
    },
    {
      "cell_type": "code",
      "metadata": {
        "id": "1HGAkMcSN1oG",
        "colab_type": "code",
        "colab": {}
      },
      "source": [
        "#cross_val_score(classifier_decisionT, X, Y)"
      ],
      "execution_count": 0,
      "outputs": []
    },
    {
      "cell_type": "code",
      "metadata": {
        "id": "2Zy1-4Q7N1Ol",
        "colab_type": "code",
        "colab": {}
      },
      "source": [
        "#cross_val_score(classifier_nb_bernoulli, X, Y)"
      ],
      "execution_count": 0,
      "outputs": []
    },
    {
      "cell_type": "code",
      "metadata": {
        "id": "7-2m4tYIN1Lc",
        "colab_type": "code",
        "colab": {}
      },
      "source": [
        "#cross_val_score(classifier_nb_multinomial, X, Y)"
      ],
      "execution_count": 0,
      "outputs": []
    },
    {
      "cell_type": "code",
      "metadata": {
        "id": "S2Egi3zRN1Ii",
        "colab_type": "code",
        "colab": {}
      },
      "source": [
        "#cross_val_score(classifier_nb_gaussian, X, Y)"
      ],
      "execution_count": 0,
      "outputs": []
    },
    {
      "cell_type": "code",
      "metadata": {
        "id": "WB8ftRvxODRp",
        "colab_type": "code",
        "colab": {}
      },
      "source": [
        "#cross_val_score(classifier_mlp, X, Y)"
      ],
      "execution_count": 0,
      "outputs": []
    },
    {
      "cell_type": "code",
      "metadata": {
        "id": "N_otQJRCODdy",
        "colab_type": "code",
        "colab": {}
      },
      "source": [
        "#cross_val_score(classifier_ada, X, Y).mean()"
      ],
      "execution_count": 0,
      "outputs": []
    },
    {
      "cell_type": "code",
      "metadata": {
        "id": "CW9Ct2fvOH6_",
        "colab_type": "code",
        "colab": {}
      },
      "source": [
        "#cross_val_score(classifier_qda, X, Y)"
      ],
      "execution_count": 0,
      "outputs": []
    },
    {
      "cell_type": "markdown",
      "metadata": {
        "id": "gosTB7x-cDxr",
        "colab_type": "text"
      },
      "source": [
        "## Predictions"
      ]
    },
    {
      "cell_type": "code",
      "metadata": {
        "id": "9H8mVSqecEOt",
        "colab_type": "code",
        "colab": {}
      },
      "source": [
        "# Y_predict_decisionT_test = classifier_decisionT.predict_proba(X_test)\n",
        "# predict_dt = Y_predict_decisionT_test[:,1]\n",
        "# print(predict_dt)"
      ],
      "execution_count": 0,
      "outputs": []
    },
    {
      "cell_type": "code",
      "metadata": {
        "id": "_GaAaO1BtiaZ",
        "colab_type": "code",
        "colab": {}
      },
      "source": [
        "# plt.hist(predict_dt)"
      ],
      "execution_count": 0,
      "outputs": []
    },
    {
      "cell_type": "code",
      "metadata": {
        "id": "gPKT_-HTcixF",
        "colab_type": "code",
        "colab": {
          "base_uri": "https://localhost:8080/",
          "height": 34
        },
        "outputId": "53d9d054-8d88-4d52-80f7-1dc9285adfa6"
      },
      "source": [
        "Y_predict_rf_test = classifier_randomforest.predict_proba(X_test)\n",
        "predict_rf = Y_predict_rf_test[:,1]\n",
        "print(predict_rf)"
      ],
      "execution_count": 336,
      "outputs": [
        {
          "output_type": "stream",
          "text": [
            "[0.414693   0.48236801 0.76748768 ... 0.43948218 0.46459534 0.63812577]\n"
          ],
          "name": "stdout"
        }
      ]
    },
    {
      "cell_type": "code",
      "metadata": {
        "id": "NyfdD3P1tn-Z",
        "colab_type": "code",
        "colab": {
          "base_uri": "https://localhost:8080/",
          "height": 337
        },
        "outputId": "2d78da15-1d10-45fa-bfcf-26cff4373bee"
      },
      "source": [
        "plt.hist(predict_rf)"
      ],
      "execution_count": 337,
      "outputs": [
        {
          "output_type": "execute_result",
          "data": {
            "text/plain": [
              "(array([  93.,  247.,  701., 1372., 1634.,  966.,  779.,  327.,  121.,\n",
              "          28.]),\n",
              " array([0. , 0.1, 0.2, 0.3, 0.4, 0.5, 0.6, 0.7, 0.8, 0.9, 1. ]),\n",
              " <a list of 10 Patch objects>)"
            ]
          },
          "metadata": {
            "tags": []
          },
          "execution_count": 337
        },
        {
          "output_type": "display_data",
          "data": {
            "image/png": "[encoded data removed]",
            "text/plain": [
              "<Figure size 432x288 with 1 Axes>"
            ]
          },
          "metadata": {
            "tags": []
          }
        }
      ]
    },
    {
      "cell_type": "code",
      "metadata": {
        "id": "yr-xrqQTckM5",
        "colab_type": "code",
        "colab": {
          "base_uri": "https://localhost:8080/",
          "height": 34
        },
        "outputId": "abb8b669-9119-4884-858f-e1c997c0cf83"
      },
      "source": [
        "Y_predict_xgb_test = classifier_xgb.predict_proba(X_test)\n",
        "predict_xgb = Y_predict_xgb_test[:,1]\n",
        "print(predict_xgb)"
      ],
      "execution_count": 338,
      "outputs": [
        {
          "output_type": "stream",
          "text": [
            "[0.40351892 0.52464515 0.5507851  ... 0.45527315 0.4464496  0.64934754]\n"
          ],
          "name": "stdout"
        }
      ]
    },
    {
      "cell_type": "code",
      "metadata": {
        "id": "CpDrGnsvtqWb",
        "colab_type": "code",
        "colab": {
          "base_uri": "https://localhost:8080/",
          "height": 371
        },
        "outputId": "59cd6d56-ce35-4472-c928-c5bd0df0d0a0"
      },
      "source": [
        "plt.hist(predict_xgb)"
      ],
      "execution_count": 339,
      "outputs": [
        {
          "output_type": "execute_result",
          "data": {
            "text/plain": [
              "(array([  28.,   13.,   66.,  189.,  974., 2529., 1090.,  188.,  893.,\n",
              "         298.]),\n",
              " array([0.01429315, 0.08575769, 0.15722223, 0.22868676, 0.3001513 ,\n",
              "        0.37161583, 0.44308037, 0.5145449 , 0.58600944, 0.657474  ,\n",
              "        0.7289385 ], dtype=float32),\n",
              " <a list of 10 Patch objects>)"
            ]
          },
          "metadata": {
            "tags": []
          },
          "execution_count": 339
        },
        {
          "output_type": "display_data",
          "data": {
            "image/png": "[encoded data removed]",
            "text/plain": [
              "<Figure size 432x288 with 1 Axes>"
            ]
          },
          "metadata": {
            "tags": []
          }
        }
      ]
    },
    {
      "cell_type": "code",
      "metadata": {
        "id": "dkmvwZf_ci-v",
        "colab_type": "code",
        "colab": {}
      },
      "source": [
        "# Y_predict_ada_test = classifier_ada.predict_proba(X_test)\n",
        "# predict_ada = Y_predict_ada_test[:,1]\n",
        "# print(predict_ada)"
      ],
      "execution_count": 0,
      "outputs": []
    },
    {
      "cell_type": "code",
      "metadata": {
        "id": "BzDHn0QvtsX2",
        "colab_type": "code",
        "colab": {}
      },
      "source": [
        "# plt.hist(predict_ada)"
      ],
      "execution_count": 0,
      "outputs": []
    },
    {
      "cell_type": "markdown",
      "metadata": {
        "id": "mIH1sILgSMtI",
        "colab_type": "text"
      },
      "source": [
        "## Writing predicted outputs to a .csv file"
      ]
    },
    {
      "cell_type": "code",
      "metadata": {
        "id": "MAyLP7zykhZy",
        "colab_type": "code",
        "colab": {}
      },
      "source": [
        "#test[\"shot_id_number\"] = test.index+1"
      ],
      "execution_count": 0,
      "outputs": []
    },
    {
      "cell_type": "code",
      "metadata": {
        "id": "pBg7lq-5kpwl",
        "colab_type": "code",
        "colab": {}
      },
      "source": [
        "#test[\"shot_id_number\"].shape"
      ],
      "execution_count": 0,
      "outputs": []
    },
    {
      "cell_type": "code",
      "metadata": {
        "id": "GHfdEqqhlWwv",
        "colab_type": "code",
        "colab": {}
      },
      "source": [
        "#X_test.shape[0]"
      ],
      "execution_count": 0,
      "outputs": []
    },
    {
      "cell_type": "code",
      "metadata": {
        "id": "v5vgjlrYSM-i",
        "colab_type": "code",
        "colab": {}
      },
      "source": [
        "import csv\n",
        "\n",
        "cs = pd.DataFrame({\"shot_id_number\":test[\"shot_id_number\"], \"is_goal\":predict_rf})\n",
        "#cs.head()\n",
        "cs.to_csv('cheshta_kwatra_032998_prediction_4.csv', index=False)"
      ],
      "execution_count": 0,
      "outputs": []
    },
    {
      "cell_type": "code",
      "metadata": {
        "id": "3S5v-THHSNHy",
        "colab_type": "code",
        "colab": {}
      },
      "source": [
        "files.download('cheshta_kwatra_032998_prediction_4.csv')"
      ],
      "execution_count": 0,
      "outputs": []
    },
    {
      "cell_type": "code",
      "metadata": {
        "id": "YpvjpQSQSNQ9",
        "colab_type": "code",
        "colab": {}
      },
      "source": [
        "\n"
      ],
      "execution_count": 0,
      "outputs": []
    }
  ]
}