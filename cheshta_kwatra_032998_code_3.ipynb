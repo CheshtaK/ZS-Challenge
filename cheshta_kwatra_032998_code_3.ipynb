{
  "nbformat": 4,
  "nbformat_minor": 0,
  "metadata": {
    "colab": {
      "name": "cheshta_kwatra_032998_code_3.ipynb",
      "version": "0.3.2",
      "provenance": [],
      "collapsed_sections": []
    },
    "kernelspec": {
      "name": "python3",
      "display_name": "Python 3"
    },
    "accelerator": "GPU"
  },
  "cells": [
    {
      "cell_type": "markdown",
      "metadata": {
        "id": "u_QgPocwA4Pp",
        "colab_type": "text"
      },
      "source": [
        "## Understanding the dataset"
      ]
    },
    {
      "cell_type": "code",
      "metadata": {
        "id": "giQYSztC7QPK",
        "colab_type": "code",
        "outputId": "f968ac40-92ce-4280-a147-00d768c3af96",
        "colab": {
          "resources": {
            "http://localhost:8080/nbextensions/google.colab/files.js": {
              "data": "Ly8gQ29weXJpZ2h0IDIwMTcgR29vZ2xlIExMQwovLwovLyBMaWNlbnNlZCB1bmRlciB0aGUgQXBhY2hlIExpY2Vuc2UsIFZlcnNpb24gMi4wICh0aGUgIkxpY2Vuc2UiKTsKLy8geW91IG1heSBub3QgdXNlIHRoaXMgZmlsZSBleGNlcHQgaW4gY29tcGxpYW5jZSB3aXRoIHRoZSBMaWNlbnNlLgovLyBZb3UgbWF5IG9idGFpbiBhIGNvcHkgb2YgdGhlIExpY2Vuc2UgYXQKLy8KLy8gICAgICBodHRwOi8vd3d3LmFwYWNoZS5vcmcvbGljZW5zZXMvTElDRU5TRS0yLjAKLy8KLy8gVW5sZXNzIHJlcXVpcmVkIGJ5IGFwcGxpY2FibGUgbGF3IG9yIGFncmVlZCB0byBpbiB3cml0aW5nLCBzb2Z0d2FyZQovLyBkaXN0cmlidXRlZCB1bmRlciB0aGUgTGljZW5zZSBpcyBkaXN0cmlidXRlZCBvbiBhbiAiQVMgSVMiIEJBU0lTLAovLyBXSVRIT1VUIFdBUlJBTlRJRVMgT1IgQ09ORElUSU9OUyBPRiBBTlkgS0lORCwgZWl0aGVyIGV4cHJlc3Mgb3IgaW1wbGllZC4KLy8gU2VlIHRoZSBMaWNlbnNlIGZvciB0aGUgc3BlY2lmaWMgbGFuZ3VhZ2UgZ292ZXJuaW5nIHBlcm1pc3Npb25zIGFuZAovLyBsaW1pdGF0aW9ucyB1bmRlciB0aGUgTGljZW5zZS4KCi8qKgogKiBAZmlsZW92ZXJ2aWV3IEhlbHBlcnMgZm9yIGdvb2dsZS5jb2xhYiBQeXRob24gbW9kdWxlLgogKi8KKGZ1bmN0aW9uKHNjb3BlKSB7CmZ1bmN0aW9uIHNwYW4odGV4dCwgc3R5bGVBdHRyaWJ1dGVzID0ge30pIHsKICBjb25zdCBlbGVtZW50ID0gZG9jdW1lbnQuY3JlYXRlRWxlbWVudCgnc3BhbicpOwogIGVsZW1lbnQudGV4dENvbnRlbnQgPSB0ZXh0OwogIGZvciAoY29uc3Qga2V5IG9mIE9iamVjdC5rZXlzKHN0eWxlQXR0cmlidXRlcykpIHsKICAgIGVsZW1lbnQuc3R5bGVba2V5XSA9IHN0eWxlQXR0cmlidXRlc1trZXldOwogIH0KICByZXR1cm4gZWxlbWVudDsKfQoKLy8gTWF4IG51bWJlciBvZiBieXRlcyB3aGljaCB3aWxsIGJlIHVwbG9hZGVkIGF0IGEgdGltZS4KY29uc3QgTUFYX1BBWUxPQURfU0laRSA9IDEwMCAqIDEwMjQ7Ci8vIE1heCBhbW91bnQgb2YgdGltZSB0byBibG9jayB3YWl0aW5nIGZvciB0aGUgdXNlci4KY29uc3QgRklMRV9DSEFOR0VfVElNRU9VVF9NUyA9IDMwICogMTAwMDsKCmZ1bmN0aW9uIF91cGxvYWRGaWxlcyhpbnB1dElkLCBvdXRwdXRJZCkgewogIGNvbnN0IHN0ZXBzID0gdXBsb2FkRmlsZXNTdGVwKGlucHV0SWQsIG91dHB1dElkKTsKICBjb25zdCBvdXRwdXRFbGVtZW50ID0gZG9jdW1lbnQuZ2V0RWxlbWVudEJ5SWQob3V0cHV0SWQpOwogIC8vIENhY2hlIHN0ZXBzIG9uIHRoZSBvdXRwdXRFbGVtZW50IHRvIG1ha2UgaXQgYXZhaWxhYmxlIGZvciB0aGUgbmV4dCBjYWxsCiAgLy8gdG8gdXBsb2FkRmlsZXNDb250aW51ZSBmcm9tIFB5dGhvbi4KICBvdXRwdXRFbGVtZW50LnN0ZXBzID0gc3RlcHM7CgogIHJldHVybiBfdXBsb2FkRmlsZXNDb250aW51ZShvdXRwdXRJZCk7Cn0KCi8vIFRoaXMgaXMgcm91Z2hseSBhbiBhc3luYyBnZW5lcmF0b3IgKG5vdCBzdXBwb3J0ZWQgaW4gdGhlIGJyb3dzZXIgeWV0KSwKLy8gd2hlcmUgdGhlcmUgYXJlIG11bHRpcGxlIGFzeW5jaHJvbm91cyBzdGVwcyBhbmQgdGhlIFB5dGhvbiBzaWRlIGlzIGdvaW5nCi8vIHRvIHBvbGwgZm9yIGNvbXBsZXRpb24gb2YgZWFjaCBzdGVwLgovLyBUaGlzIHVzZXMgYSBQcm9taXNlIHRvIGJsb2NrIHRoZSBweXRob24gc2lkZSBvbiBjb21wbGV0aW9uIG9mIGVhY2ggc3RlcCwKLy8gdGhlbiBwYXNzZXMgdGhlIHJlc3VsdCBvZiB0aGUgcHJldmlvdXMgc3RlcCBhcyB0aGUgaW5wdXQgdG8gdGhlIG5leHQgc3RlcC4KZnVuY3Rpb24gX3VwbG9hZEZpbGVzQ29udGludWUob3V0cHV0SWQpIHsKICBjb25zdCBvdXRwdXRFbGVtZW50ID0gZG9jdW1lbnQuZ2V0RWxlbWVudEJ5SWQob3V0cHV0SWQpOwogIGNvbnN0IHN0ZXBzID0gb3V0cHV0RWxlbWVudC5zdGVwczsKCiAgY29uc3QgbmV4dCA9IHN0ZXBzLm5leHQob3V0cHV0RWxlbWVudC5sYXN0UHJvbWlzZVZhbHVlKTsKICByZXR1cm4gUHJvbWlzZS5yZXNvbHZlKG5leHQudmFsdWUucHJvbWlzZSkudGhlbigodmFsdWUpID0+IHsKICAgIC8vIENhY2hlIHRoZSBsYXN0IHByb21pc2UgdmFsdWUgdG8gbWFrZSBpdCBhdmFpbGFibGUgdG8gdGhlIG5leHQKICAgIC8vIHN0ZXAgb2YgdGhlIGdlbmVyYXRvci4KICAgIG91dHB1dEVsZW1lbnQubGFzdFByb21pc2VWYWx1ZSA9IHZhbHVlOwogICAgcmV0dXJuIG5leHQudmFsdWUucmVzcG9uc2U7CiAgfSk7Cn0KCi8qKgogKiBHZW5lcmF0b3IgZnVuY3Rpb24gd2hpY2ggaXMgY2FsbGVkIGJldHdlZW4gZWFjaCBhc3luYyBzdGVwIG9mIHRoZSB1cGxvYWQKICogcHJvY2Vzcy4KICogQHBhcmFtIHtzdHJpbmd9IGlucHV0SWQgRWxlbWVudCBJRCBvZiB0aGUgaW5wdXQgZmlsZSBwaWNrZXIgZWxlbWVudC4KICogQHBhcmFtIHtzdHJpbmd9IG91dHB1dElkIEVsZW1lbnQgSUQgb2YgdGhlIG91dHB1dCBkaXNwbGF5LgogKiBAcmV0dXJuIHshSXRlcmFibGU8IU9iamVjdD59IEl0ZXJhYmxlIG9mIG5leHQgc3RlcHMuCiAqLwpmdW5jdGlvbiogdXBsb2FkRmlsZXNTdGVwKGlucHV0SWQsIG91dHB1dElkKSB7CiAgY29uc3QgaW5wdXRFbGVtZW50ID0gZG9jdW1lbnQuZ2V0RWxlbWVudEJ5SWQoaW5wdXRJZCk7CiAgaW5wdXRFbGVtZW50LmRpc2FibGVkID0gZmFsc2U7CgogIGNvbnN0IG91dHB1dEVsZW1lbnQgPSBkb2N1bWVudC5nZXRFbGVtZW50QnlJZChvdXRwdXRJZCk7CiAgb3V0cHV0RWxlbWVudC5pbm5lckhUTUwgPSAnJzsKCiAgY29uc3QgcGlja2VkUHJvbWlzZSA9IG5ldyBQcm9taXNlKChyZXNvbHZlKSA9PiB7CiAgICBpbnB1dEVsZW1lbnQuYWRkRXZlbnRMaXN0ZW5lcignY2hhbmdlJywgKGUpID0+IHsKICAgICAgcmVzb2x2ZShlLnRhcmdldC5maWxlcyk7CiAgICB9KTsKICB9KTsKCiAgY29uc3QgY2FuY2VsID0gZG9jdW1lbnQuY3JlYXRlRWxlbWVudCgnYnV0dG9uJyk7CiAgaW5wdXRFbGVtZW50LnBhcmVudEVsZW1lbnQuYXBwZW5kQ2hpbGQoY2FuY2VsKTsKICBjYW5jZWwudGV4dENvbnRlbnQgPSAnQ2FuY2VsIHVwbG9hZCc7CiAgY29uc3QgY2FuY2VsUHJvbWlzZSA9IG5ldyBQcm9taXNlKChyZXNvbHZlKSA9PiB7CiAgICBjYW5jZWwub25jbGljayA9ICgpID0+IHsKICAgICAgcmVzb2x2ZShudWxsKTsKICAgIH07CiAgfSk7CgogIC8vIENhbmNlbCB1cGxvYWQgaWYgdXNlciBoYXNuJ3QgcGlja2VkIGFueXRoaW5nIGluIHRpbWVvdXQuCiAgY29uc3QgdGltZW91dFByb21pc2UgPSBuZXcgUHJvbWlzZSgocmVzb2x2ZSkgPT4gewogICAgc2V0VGltZW91dCgoKSA9PiB7CiAgICAgIHJlc29sdmUobnVsbCk7CiAgICB9LCBGSUxFX0NIQU5HRV9USU1FT1VUX01TKTsKICB9KTsKCiAgLy8gV2FpdCBmb3IgdGhlIHVzZXIgdG8gcGljayB0aGUgZmlsZXMuCiAgY29uc3QgZmlsZXMgPSB5aWVsZCB7CiAgICBwcm9taXNlOiBQcm9taXNlLnJhY2UoW3BpY2tlZFByb21pc2UsIHRpbWVvdXRQcm9taXNlLCBjYW5jZWxQcm9taXNlXSksCiAgICByZXNwb25zZTogewogICAgICBhY3Rpb246ICdzdGFydGluZycsCiAgICB9CiAgfTsKCiAgaWYgKCFmaWxlcykgewogICAgcmV0dXJuIHsKICAgICAgcmVzcG9uc2U6IHsKICAgICAgICBhY3Rpb246ICdjb21wbGV0ZScsCiAgICAgIH0KICAgIH07CiAgfQoKICBjYW5jZWwucmVtb3ZlKCk7CgogIC8vIERpc2FibGUgdGhlIGlucHV0IGVsZW1lbnQgc2luY2UgZnVydGhlciBwaWNrcyBhcmUgbm90IGFsbG93ZWQuCiAgaW5wdXRFbGVtZW50LmRpc2FibGVkID0gdHJ1ZTsKCiAgZm9yIChjb25zdCBmaWxlIG9mIGZpbGVzKSB7CiAgICBjb25zdCBsaSA9IGRvY3VtZW50LmNyZWF0ZUVsZW1lbnQoJ2xpJyk7CiAgICBsaS5hcHBlbmQoc3BhbihmaWxlLm5hbWUsIHtmb250V2VpZ2h0OiAnYm9sZCd9KSk7CiAgICBsaS5hcHBlbmQoc3BhbigKICAgICAgICBgKCR7ZmlsZS50eXBlIHx8ICduL2EnfSkgLSAke2ZpbGUuc2l6ZX0gYnl0ZXMsIGAgKwogICAgICAgIGBsYXN0IG1vZGlmaWVkOiAkewogICAgICAgICAgICBmaWxlLmxhc3RNb2RpZmllZERhdGUgPyBmaWxlLmxhc3RNb2RpZmllZERhdGUudG9Mb2NhbGVEYXRlU3RyaW5nKCkgOgogICAgICAgICAgICAgICAgICAgICAgICAgICAgICAgICAgICAnbi9hJ30gLSBgKSk7CiAgICBjb25zdCBwZXJjZW50ID0gc3BhbignMCUgZG9uZScpOwogICAgbGkuYXBwZW5kQ2hpbGQocGVyY2VudCk7CgogICAgb3V0cHV0RWxlbWVudC5hcHBlbmRDaGlsZChsaSk7CgogICAgY29uc3QgZmlsZURhdGFQcm9taXNlID0gbmV3IFByb21pc2UoKHJlc29sdmUpID0+IHsKICAgICAgY29uc3QgcmVhZGVyID0gbmV3IEZpbGVSZWFkZXIoKTsKICAgICAgcmVhZGVyLm9ubG9hZCA9IChlKSA9PiB7CiAgICAgICAgcmVzb2x2ZShlLnRhcmdldC5yZXN1bHQpOwogICAgICB9OwogICAgICByZWFkZXIucmVhZEFzQXJyYXlCdWZmZXIoZmlsZSk7CiAgICB9KTsKICAgIC8vIFdhaXQgZm9yIHRoZSBkYXRhIHRvIGJlIHJlYWR5LgogICAgbGV0IGZpbGVEYXRhID0geWllbGQgewogICAgICBwcm9taXNlOiBmaWxlRGF0YVByb21pc2UsCiAgICAgIHJlc3BvbnNlOiB7CiAgICAgICAgYWN0aW9uOiAnY29udGludWUnLAogICAgICB9CiAgICB9OwoKICAgIC8vIFVzZSBhIGNodW5rZWQgc2VuZGluZyB0byBhdm9pZCBtZXNzYWdlIHNpemUgbGltaXRzLiBTZWUgYi82MjExNTY2MC4KICAgIGxldCBwb3NpdGlvbiA9IDA7CiAgICB3aGlsZSAocG9zaXRpb24gPCBmaWxlRGF0YS5ieXRlTGVuZ3RoKSB7CiAgICAgIGNvbnN0IGxlbmd0aCA9IE1hdGgubWluKGZpbGVEYXRhLmJ5dGVMZW5ndGggLSBwb3NpdGlvbiwgTUFYX1BBWUxPQURfU0laRSk7CiAgICAgIGNvbnN0IGNodW5rID0gbmV3IFVpbnQ4QXJyYXkoZmlsZURhdGEsIHBvc2l0aW9uLCBsZW5ndGgpOwogICAgICBwb3NpdGlvbiArPSBsZW5ndGg7CgogICAgICBjb25zdCBiYXNlNjQgPSBidG9hKFN0cmluZy5mcm9tQ2hhckNvZGUuYXBwbHkobnVsbCwgY2h1bmspKTsKICAgICAgeWllbGQgewogICAgICAgIHJlc3BvbnNlOiB7CiAgICAgICAgICBhY3Rpb246ICdhcHBlbmQnLAogICAgICAgICAgZmlsZTogZmlsZS5uYW1lLAogICAgICAgICAgZGF0YTogYmFzZTY0LAogICAgICAgIH0sCiAgICAgIH07CiAgICAgIHBlcmNlbnQudGV4dENvbnRlbnQgPQogICAgICAgICAgYCR7TWF0aC5yb3VuZCgocG9zaXRpb24gLyBmaWxlRGF0YS5ieXRlTGVuZ3RoKSAqIDEwMCl9JSBkb25lYDsKICAgIH0KICB9CgogIC8vIEFsbCBkb25lLgogIHlpZWxkIHsKICAgIHJlc3BvbnNlOiB7CiAgICAgIGFjdGlvbjogJ2NvbXBsZXRlJywKICAgIH0KICB9Owp9CgpzY29wZS5nb29nbGUgPSBzY29wZS5nb29nbGUgfHwge307CnNjb3BlLmdvb2dsZS5jb2xhYiA9IHNjb3BlLmdvb2dsZS5jb2xhYiB8fCB7fTsKc2NvcGUuZ29vZ2xlLmNvbGFiLl9maWxlcyA9IHsKICBfdXBsb2FkRmlsZXMsCiAgX3VwbG9hZEZpbGVzQ29udGludWUsCn07Cn0pKHNlbGYpOwo=",
              "ok": true,
              "headers": [
                [
                  "content-type",
                  "application/javascript"
                ]
              ],
              "status": 200,
              "status_text": ""
            }
          },
          "base_uri": "https://localhost:8080/",
          "height": 346
        }
      },
      "source": [
        "from google.colab import files\n",
        "files.upload()"
      ],
      "execution_count": 5,
      "outputs": [
        {
          "output_type": "display_data",
          "data": {
            "text/html": [
              "\n",
              "     <input type=\"file\" id=\"files-b648a57f-8f42-45af-8cba-3dbf1d98165f\" name=\"files[]\" multiple disabled />\n",
              "     <output id=\"result-b648a57f-8f42-45af-8cba-3dbf1d98165f\">\n",
              "      Upload widget is only available when the cell has been executed in the\n",
              "      current browser session. Please rerun this cell to enable.\n",
              "      </output>\n",
              "      <script src=\"/nbextensions/google.colab/files.js\"></script> "
            ],
            "text/plain": [
              "<IPython.core.display.HTML object>"
            ]
          },
          "metadata": {
            "tags": []
          }
        },
        {
          "output_type": "error",
          "ename": "KeyboardInterrupt",
          "evalue": "ignored",
          "traceback": [
            "\u001b[0;31m---------------------------------------------------------------------------\u001b[0m",
            "\u001b[0;31mKeyboardInterrupt\u001b[0m                         Traceback (most recent call last)",
            "\u001b[0;32m<ipython-input-5-5c2e8a8d365b>\u001b[0m in \u001b[0;36m<module>\u001b[0;34m()\u001b[0m\n\u001b[1;32m      1\u001b[0m \u001b[0;32mfrom\u001b[0m \u001b[0mgoogle\u001b[0m\u001b[0;34m.\u001b[0m\u001b[0mcolab\u001b[0m \u001b[0;32mimport\u001b[0m \u001b[0mfiles\u001b[0m\u001b[0;34m\u001b[0m\u001b[0;34m\u001b[0m\u001b[0m\n\u001b[0;32m----> 2\u001b[0;31m \u001b[0mfiles\u001b[0m\u001b[0;34m.\u001b[0m\u001b[0mupload\u001b[0m\u001b[0;34m(\u001b[0m\u001b[0;34m)\u001b[0m\u001b[0;34m\u001b[0m\u001b[0;34m\u001b[0m\u001b[0m\n\u001b[0m",
            "\u001b[0;32m/usr/local/lib/python3.6/dist-packages/google/colab/files.py\u001b[0m in \u001b[0;36mupload\u001b[0;34m()\u001b[0m\n\u001b[1;32m     62\u001b[0m   result = _output.eval_js(\n\u001b[1;32m     63\u001b[0m       'google.colab._files._uploadFiles(\"{input_id}\", \"{output_id}\")'.format(\n\u001b[0;32m---> 64\u001b[0;31m           input_id=input_id, output_id=output_id))\n\u001b[0m\u001b[1;32m     65\u001b[0m   \u001b[0mfiles\u001b[0m \u001b[0;34m=\u001b[0m \u001b[0m_collections\u001b[0m\u001b[0;34m.\u001b[0m\u001b[0mdefaultdict\u001b[0m\u001b[0;34m(\u001b[0m\u001b[0m_six\u001b[0m\u001b[0;34m.\u001b[0m\u001b[0mbinary_type\u001b[0m\u001b[0;34m)\u001b[0m\u001b[0;34m\u001b[0m\u001b[0;34m\u001b[0m\u001b[0m\n\u001b[1;32m     66\u001b[0m   \u001b[0;31m# Mapping from original filename to filename as saved locally.\u001b[0m\u001b[0;34m\u001b[0m\u001b[0;34m\u001b[0m\u001b[0;34m\u001b[0m\u001b[0m\n",
            "\u001b[0;32m/usr/local/lib/python3.6/dist-packages/google/colab/output/_js.py\u001b[0m in \u001b[0;36meval_js\u001b[0;34m(script, ignore_result)\u001b[0m\n\u001b[1;32m     37\u001b[0m   \u001b[0;32mif\u001b[0m \u001b[0mignore_result\u001b[0m\u001b[0;34m:\u001b[0m\u001b[0;34m\u001b[0m\u001b[0;34m\u001b[0m\u001b[0m\n\u001b[1;32m     38\u001b[0m     \u001b[0;32mreturn\u001b[0m\u001b[0;34m\u001b[0m\u001b[0;34m\u001b[0m\u001b[0m\n\u001b[0;32m---> 39\u001b[0;31m   \u001b[0;32mreturn\u001b[0m \u001b[0m_message\u001b[0m\u001b[0;34m.\u001b[0m\u001b[0mread_reply_from_input\u001b[0m\u001b[0;34m(\u001b[0m\u001b[0mrequest_id\u001b[0m\u001b[0;34m)\u001b[0m\u001b[0;34m\u001b[0m\u001b[0;34m\u001b[0m\u001b[0m\n\u001b[0m\u001b[1;32m     40\u001b[0m \u001b[0;34m\u001b[0m\u001b[0m\n\u001b[1;32m     41\u001b[0m \u001b[0;34m\u001b[0m\u001b[0m\n",
            "\u001b[0;32m/usr/local/lib/python3.6/dist-packages/google/colab/_message.py\u001b[0m in \u001b[0;36mread_reply_from_input\u001b[0;34m(message_id, timeout_sec)\u001b[0m\n\u001b[1;32m     99\u001b[0m     \u001b[0mreply\u001b[0m \u001b[0;34m=\u001b[0m \u001b[0m_read_next_input_message\u001b[0m\u001b[0;34m(\u001b[0m\u001b[0;34m)\u001b[0m\u001b[0;34m\u001b[0m\u001b[0;34m\u001b[0m\u001b[0m\n\u001b[1;32m    100\u001b[0m     \u001b[0;32mif\u001b[0m \u001b[0mreply\u001b[0m \u001b[0;34m==\u001b[0m \u001b[0m_NOT_READY\u001b[0m \u001b[0;32mor\u001b[0m \u001b[0;32mnot\u001b[0m \u001b[0misinstance\u001b[0m\u001b[0;34m(\u001b[0m\u001b[0mreply\u001b[0m\u001b[0;34m,\u001b[0m \u001b[0mdict\u001b[0m\u001b[0;34m)\u001b[0m\u001b[0;34m:\u001b[0m\u001b[0;34m\u001b[0m\u001b[0;34m\u001b[0m\u001b[0m\n\u001b[0;32m--> 101\u001b[0;31m       \u001b[0mtime\u001b[0m\u001b[0;34m.\u001b[0m\u001b[0msleep\u001b[0m\u001b[0;34m(\u001b[0m\u001b[0;36m0.025\u001b[0m\u001b[0;34m)\u001b[0m\u001b[0;34m\u001b[0m\u001b[0;34m\u001b[0m\u001b[0m\n\u001b[0m\u001b[1;32m    102\u001b[0m       \u001b[0;32mcontinue\u001b[0m\u001b[0;34m\u001b[0m\u001b[0;34m\u001b[0m\u001b[0m\n\u001b[1;32m    103\u001b[0m     if (reply.get('type') == 'colab_reply' and\n",
            "\u001b[0;31mKeyboardInterrupt\u001b[0m: "
          ]
        }
      ]
    },
    {
      "cell_type": "code",
      "metadata": {
        "id": "ejk0ysSp7fkC",
        "colab_type": "code",
        "colab": {}
      },
      "source": [
        "import pandas as pd\n",
        "import numpy as np\n",
        "import matplotlib.pyplot as plt"
      ],
      "execution_count": 0,
      "outputs": []
    },
    {
      "cell_type": "code",
      "metadata": {
        "id": "HWrgrdH38M00",
        "colab_type": "code",
        "colab": {}
      },
      "source": [
        "df = pd.read_csv('data.csv')"
      ],
      "execution_count": 0,
      "outputs": []
    },
    {
      "cell_type": "code",
      "metadata": {
        "id": "kUSNk9qk9YsE",
        "colab_type": "code",
        "colab": {}
      },
      "source": [
        "#df.head(5)"
      ],
      "execution_count": 0,
      "outputs": []
    },
    {
      "cell_type": "code",
      "metadata": {
        "id": "30QvqEbV9aeL",
        "colab_type": "code",
        "outputId": "666a02e5-9223-4013-e5bc-af4aaf2e862a",
        "colab": {
          "base_uri": "https://localhost:8080/",
          "height": 34
        }
      },
      "source": [
        "df.shape"
      ],
      "execution_count": 8,
      "outputs": [
        {
          "output_type": "execute_result",
          "data": {
            "text/plain": [
              "(30697, 28)"
            ]
          },
          "metadata": {
            "tags": []
          },
          "execution_count": 8
        }
      ]
    },
    {
      "cell_type": "code",
      "metadata": {
        "id": "J2gaPBpt97qq",
        "colab_type": "code",
        "colab": {}
      },
      "source": [
        "#df.columns"
      ],
      "execution_count": 0,
      "outputs": []
    },
    {
      "cell_type": "code",
      "metadata": {
        "id": "8aQdxeyQ-A32",
        "colab_type": "code",
        "colab": {}
      },
      "source": [
        "#df.isnull().sum()"
      ],
      "execution_count": 0,
      "outputs": []
    },
    {
      "cell_type": "markdown",
      "metadata": {
        "id": "uXRp9jhrDaWY",
        "colab_type": "text"
      },
      "source": [
        "## Split into train and test data"
      ]
    },
    {
      "cell_type": "code",
      "metadata": {
        "id": "eD-0gm0FDdzI",
        "colab_type": "code",
        "outputId": "0adece1c-c702-459b-c601-84f62efcb75d",
        "colab": {
          "base_uri": "https://localhost:8080/",
          "height": 34
        }
      },
      "source": [
        "test = df[df[\"is_goal\"].isnull()]\n",
        "print(test.shape)"
      ],
      "execution_count": 11,
      "outputs": [
        {
          "output_type": "stream",
          "text": [
            "(6268, 28)\n"
          ],
          "name": "stdout"
        }
      ]
    },
    {
      "cell_type": "code",
      "metadata": {
        "id": "YKVGSh8mFrHC",
        "colab_type": "code",
        "colab": {}
      },
      "source": [
        "#test.isnull().sum()"
      ],
      "execution_count": 0,
      "outputs": []
    },
    {
      "cell_type": "code",
      "metadata": {
        "id": "Yng4DTYkJn0i",
        "colab_type": "code",
        "outputId": "a73cd24d-64b1-4c70-cd9b-81c6caf62af8",
        "colab": {
          "base_uri": "https://localhost:8080/",
          "height": 34
        }
      },
      "source": [
        "train = df[df[\"is_goal\"].notnull()]\n",
        "print(train.shape)"
      ],
      "execution_count": 13,
      "outputs": [
        {
          "output_type": "stream",
          "text": [
            "(24429, 28)\n"
          ],
          "name": "stdout"
        }
      ]
    },
    {
      "cell_type": "code",
      "metadata": {
        "id": "xsomkQz7F4aq",
        "colab_type": "code",
        "colab": {}
      },
      "source": [
        "#train.isnull().sum()"
      ],
      "execution_count": 0,
      "outputs": []
    },
    {
      "cell_type": "markdown",
      "metadata": {
        "id": "GMSapmjvKVk8",
        "colab_type": "text"
      },
      "source": [
        "## Handling missing values"
      ]
    },
    {
      "cell_type": "code",
      "metadata": {
        "id": "tM_ZYloQKZxw",
        "colab_type": "code",
        "colab": {}
      },
      "source": [
        "df.fillna(df.mean(), inplace = True)"
      ],
      "execution_count": 0,
      "outputs": []
    },
    {
      "cell_type": "code",
      "metadata": {
        "id": "kPX67IXQOSeI",
        "colab_type": "code",
        "colab": {}
      },
      "source": [
        "#df.isnull().sum()"
      ],
      "execution_count": 0,
      "outputs": []
    },
    {
      "cell_type": "code",
      "metadata": {
        "id": "u6OvAVaUGH6j",
        "colab_type": "code",
        "colab": {
          "base_uri": "https://localhost:8080/",
          "height": 102
        },
        "outputId": "15068de3-a21a-4c2d-ee44-ce9d6d2eadd2"
      },
      "source": [
        "train.fillna(train.mean(), inplace = True)"
      ],
      "execution_count": 17,
      "outputs": [
        {
          "output_type": "stream",
          "text": [
            "/usr/local/lib/python3.6/dist-packages/pandas/core/generic.py:6130: SettingWithCopyWarning: \n",
            "A value is trying to be set on a copy of a slice from a DataFrame\n",
            "\n",
            "See the caveats in the documentation: http://pandas.pydata.org/pandas-docs/stable/indexing.html#indexing-view-versus-copy\n",
            "  self._update_inplace(new_data)\n"
          ],
          "name": "stderr"
        }
      ]
    },
    {
      "cell_type": "code",
      "metadata": {
        "id": "zJv8vLc0F_q4",
        "colab_type": "code",
        "colab": {}
      },
      "source": [
        "#train.isnull().sum()"
      ],
      "execution_count": 0,
      "outputs": []
    },
    {
      "cell_type": "code",
      "metadata": {
        "id": "r8LGlNcZGODz",
        "colab_type": "code",
        "colab": {
          "base_uri": "https://localhost:8080/",
          "height": 102
        },
        "outputId": "ab8ee236-ceed-49f5-d04b-a1926d96d6aa"
      },
      "source": [
        "test.fillna(test.mean(), inplace = True)"
      ],
      "execution_count": 19,
      "outputs": [
        {
          "output_type": "stream",
          "text": [
            "/usr/local/lib/python3.6/dist-packages/pandas/core/generic.py:6130: SettingWithCopyWarning: \n",
            "A value is trying to be set on a copy of a slice from a DataFrame\n",
            "\n",
            "See the caveats in the documentation: http://pandas.pydata.org/pandas-docs/stable/indexing.html#indexing-view-versus-copy\n",
            "  self._update_inplace(new_data)\n"
          ],
          "name": "stderr"
        }
      ]
    },
    {
      "cell_type": "code",
      "metadata": {
        "id": "ytcrsPbaGSGz",
        "colab_type": "code",
        "colab": {}
      },
      "source": [
        "#test.isnull().sum()"
      ],
      "execution_count": 0,
      "outputs": []
    },
    {
      "cell_type": "markdown",
      "metadata": {
        "id": "lXEemaOSZ0Wr",
        "colab_type": "text"
      },
      "source": [
        "## Collecting required data for predictions"
      ]
    },
    {
      "cell_type": "code",
      "metadata": {
        "id": "s3Y9cL3JO6KX",
        "colab_type": "code",
        "colab": {}
      },
      "source": [
        "## Power of shot\n",
        "\n",
        "X1 = train[\"power_of_shot\"].values\n",
        "#print(X1)\n",
        "\n",
        "x1 = test[\"power_of_shot\"].values"
      ],
      "execution_count": 0,
      "outputs": []
    },
    {
      "cell_type": "code",
      "metadata": {
        "id": "kQpl9kGRVd3C",
        "colab_type": "code",
        "colab": {}
      },
      "source": [
        "## Distance of shot\n",
        "\n",
        "X2 = train[\"distance_of_shot\"].values\n",
        "#print(X2)\n",
        "\n",
        "x2 = test[\"distance_of_shot\"].values"
      ],
      "execution_count": 0,
      "outputs": []
    },
    {
      "cell_type": "code",
      "metadata": {
        "id": "VYbE2EpfP3EK",
        "colab_type": "code",
        "colab": {
          "base_uri": "https://localhost:8080/",
          "height": 221
        },
        "outputId": "9d11e7a2-3ee8-474b-9a46-91029ed83496"
      },
      "source": [
        "## Combining minutes and seconds to get time\n",
        "\n",
        "train[\"remaining_time\"] = train[\"remaining_min\"]*60 + train[\"remaining_sec\"]\n",
        "test[\"remaining_time\"] = test[\"remaining_min\"]*60 + test[\"remaining_sec\"]"
      ],
      "execution_count": 23,
      "outputs": [
        {
          "output_type": "stream",
          "text": [
            "/usr/local/lib/python3.6/dist-packages/ipykernel_launcher.py:2: SettingWithCopyWarning: \n",
            "A value is trying to be set on a copy of a slice from a DataFrame.\n",
            "Try using .loc[row_indexer,col_indexer] = value instead\n",
            "\n",
            "See the caveats in the documentation: http://pandas.pydata.org/pandas-docs/stable/indexing.html#indexing-view-versus-copy\n",
            "  \n",
            "/usr/local/lib/python3.6/dist-packages/ipykernel_launcher.py:3: SettingWithCopyWarning: \n",
            "A value is trying to be set on a copy of a slice from a DataFrame.\n",
            "Try using .loc[row_indexer,col_indexer] = value instead\n",
            "\n",
            "See the caveats in the documentation: http://pandas.pydata.org/pandas-docs/stable/indexing.html#indexing-view-versus-copy\n",
            "  This is separate from the ipykernel package so we can avoid doing imports until\n"
          ],
          "name": "stderr"
        }
      ]
    },
    {
      "cell_type": "code",
      "metadata": {
        "id": "CbRIGuuFUqOB",
        "colab_type": "code",
        "colab": {}
      },
      "source": [
        "## Remaining time\n",
        "\n",
        "X3 = train[\"remaining_time\"].values\n",
        "#print(X3)\n",
        "x3 = test[\"remaining_time\"].values"
      ],
      "execution_count": 0,
      "outputs": []
    },
    {
      "cell_type": "code",
      "metadata": {
        "id": "nWlO-ob0ewsz",
        "colab_type": "code",
        "colab": {}
      },
      "source": [
        "#train[\"area_of_shot\"].unique()"
      ],
      "execution_count": 0,
      "outputs": []
    },
    {
      "cell_type": "code",
      "metadata": {
        "id": "4dL-kz4_ew2x",
        "colab_type": "code",
        "colab": {}
      },
      "source": [
        "#train[\"area_of_shot\"].mode()"
      ],
      "execution_count": 0,
      "outputs": []
    },
    {
      "cell_type": "code",
      "metadata": {
        "id": "j___2AeLguz4",
        "colab_type": "code",
        "colab": {
          "base_uri": "https://localhost:8080/",
          "height": 221
        },
        "outputId": "755b2698-018e-4fe5-e21d-c70990131ca9"
      },
      "source": [
        "## Mapping area of shot to integer values\n",
        "\n",
        "area_of_shot_map = {'Left Side(L)':1, 'Left Side Center(LC)':2, 'Right Side Center(RC)':3, 'Center(C)':4, 'Right Side(R)':5, 'Mid Ground(MG)':6, np.nan:4}\n",
        "\n",
        "df[\"area_of_shot\"] = df[\"area_of_shot\"].map(lambda x:area_of_shot_map[x])\n",
        "train[\"area_of_shot\"] = train[\"area_of_shot\"].map(lambda x:area_of_shot_map[x])\n",
        "test[\"area_of_shot\"] = test[\"area_of_shot\"].map(lambda x:area_of_shot_map[x])"
      ],
      "execution_count": 27,
      "outputs": [
        {
          "output_type": "stream",
          "text": [
            "/usr/local/lib/python3.6/dist-packages/ipykernel_launcher.py:5: SettingWithCopyWarning: \n",
            "A value is trying to be set on a copy of a slice from a DataFrame.\n",
            "Try using .loc[row_indexer,col_indexer] = value instead\n",
            "\n",
            "See the caveats in the documentation: http://pandas.pydata.org/pandas-docs/stable/indexing.html#indexing-view-versus-copy\n",
            "  \"\"\"\n",
            "/usr/local/lib/python3.6/dist-packages/ipykernel_launcher.py:6: SettingWithCopyWarning: \n",
            "A value is trying to be set on a copy of a slice from a DataFrame.\n",
            "Try using .loc[row_indexer,col_indexer] = value instead\n",
            "\n",
            "See the caveats in the documentation: http://pandas.pydata.org/pandas-docs/stable/indexing.html#indexing-view-versus-copy\n",
            "  \n"
          ],
          "name": "stderr"
        }
      ]
    },
    {
      "cell_type": "code",
      "metadata": {
        "id": "i_R797jPgu31",
        "colab_type": "code",
        "colab": {}
      },
      "source": [
        "#train.isnull().sum()"
      ],
      "execution_count": 0,
      "outputs": []
    },
    {
      "cell_type": "code",
      "metadata": {
        "id": "uQskZOExgu7D",
        "colab_type": "code",
        "colab": {}
      },
      "source": [
        "## Area of shot\n",
        "\n",
        "X4 = train[\"area_of_shot\"].values\n",
        "#print(X4)\n",
        "\n",
        "x4 = test[\"area_of_shot\"].values"
      ],
      "execution_count": 0,
      "outputs": []
    },
    {
      "cell_type": "code",
      "metadata": {
        "id": "sojouh5Egu94",
        "colab_type": "code",
        "colab": {}
      },
      "source": [
        "#train[\"range_of_shot\"].unique()"
      ],
      "execution_count": 0,
      "outputs": []
    },
    {
      "cell_type": "code",
      "metadata": {
        "id": "6jeY-zQasKJa",
        "colab_type": "code",
        "colab": {}
      },
      "source": [
        "#train[\"range_of_shot\"].mode()"
      ],
      "execution_count": 0,
      "outputs": []
    },
    {
      "cell_type": "code",
      "metadata": {
        "id": "O3BENFLXrgC4",
        "colab_type": "code",
        "colab": {
          "base_uri": "https://localhost:8080/",
          "height": 221
        },
        "outputId": "75119126-6caa-4cc3-f563-1d951b65d384"
      },
      "source": [
        "## Mapping range of shot to integer values\n",
        "\n",
        "range_of_shot_map = {'8-16 ft.':1, '16-24 ft.':2, 'Less Than 8 ft.':3, '24+ ft.':4, 'Back Court Shot':5, np.nan:3}\n",
        "\n",
        "df[\"range_of_shot\"] = df[\"range_of_shot\"].map(lambda x:range_of_shot_map[x])\n",
        "train[\"range_of_shot\"] = train[\"range_of_shot\"].map(lambda x:range_of_shot_map[x])\n",
        "test[\"range_of_shot\"] = test[\"range_of_shot\"].map(lambda x:range_of_shot_map[x])"
      ],
      "execution_count": 32,
      "outputs": [
        {
          "output_type": "stream",
          "text": [
            "/usr/local/lib/python3.6/dist-packages/ipykernel_launcher.py:5: SettingWithCopyWarning: \n",
            "A value is trying to be set on a copy of a slice from a DataFrame.\n",
            "Try using .loc[row_indexer,col_indexer] = value instead\n",
            "\n",
            "See the caveats in the documentation: http://pandas.pydata.org/pandas-docs/stable/indexing.html#indexing-view-versus-copy\n",
            "  \"\"\"\n",
            "/usr/local/lib/python3.6/dist-packages/ipykernel_launcher.py:6: SettingWithCopyWarning: \n",
            "A value is trying to be set on a copy of a slice from a DataFrame.\n",
            "Try using .loc[row_indexer,col_indexer] = value instead\n",
            "\n",
            "See the caveats in the documentation: http://pandas.pydata.org/pandas-docs/stable/indexing.html#indexing-view-versus-copy\n",
            "  \n"
          ],
          "name": "stderr"
        }
      ]
    },
    {
      "cell_type": "code",
      "metadata": {
        "id": "j7n2V17drgK0",
        "colab_type": "code",
        "colab": {}
      },
      "source": [
        "## Range of shot\n",
        "\n",
        "X5 = train[\"range_of_shot\"].values\n",
        "#print(X5)\n",
        "\n",
        "x5 = test[\"range_of_shot\"].values"
      ],
      "execution_count": 0,
      "outputs": []
    },
    {
      "cell_type": "code",
      "metadata": {
        "id": "k70Y5D5fs2lU",
        "colab_type": "code",
        "colab": {}
      },
      "source": [
        "#train[\"shot_basics\"].unique()"
      ],
      "execution_count": 0,
      "outputs": []
    },
    {
      "cell_type": "code",
      "metadata": {
        "id": "F75dzYUAs2oh",
        "colab_type": "code",
        "colab": {}
      },
      "source": [
        "#train[\"shot_basics\"].mode()"
      ],
      "execution_count": 0,
      "outputs": []
    },
    {
      "cell_type": "code",
      "metadata": {
        "id": "NfBQcyf7s2vj",
        "colab_type": "code",
        "colab": {
          "base_uri": "https://localhost:8080/",
          "height": 221
        },
        "outputId": "b59740ba-283b-431a-b1e5-e0da5442f1af"
      },
      "source": [
        "## Mapping shot basics to integer values\n",
        "\n",
        "shot_basics_map = {'Mid Range':1, 'Goal Area':2, 'Goal Line':3, 'Penalty Spot':4, 'Right Corner':5, 'Mid Ground Line':6, 'Left Corner':7, np.nan:1}\n",
        "\n",
        "df[\"shot_basics\"] = df[\"shot_basics\"].map(lambda x:shot_basics_map[x])\n",
        "train[\"shot_basics\"] = train[\"shot_basics\"].map(lambda x:shot_basics_map[x])\n",
        "test[\"shot_basics\"] = test[\"shot_basics\"].map(lambda x:shot_basics_map[x])"
      ],
      "execution_count": 36,
      "outputs": [
        {
          "output_type": "stream",
          "text": [
            "/usr/local/lib/python3.6/dist-packages/ipykernel_launcher.py:5: SettingWithCopyWarning: \n",
            "A value is trying to be set on a copy of a slice from a DataFrame.\n",
            "Try using .loc[row_indexer,col_indexer] = value instead\n",
            "\n",
            "See the caveats in the documentation: http://pandas.pydata.org/pandas-docs/stable/indexing.html#indexing-view-versus-copy\n",
            "  \"\"\"\n",
            "/usr/local/lib/python3.6/dist-packages/ipykernel_launcher.py:6: SettingWithCopyWarning: \n",
            "A value is trying to be set on a copy of a slice from a DataFrame.\n",
            "Try using .loc[row_indexer,col_indexer] = value instead\n",
            "\n",
            "See the caveats in the documentation: http://pandas.pydata.org/pandas-docs/stable/indexing.html#indexing-view-versus-copy\n",
            "  \n"
          ],
          "name": "stderr"
        }
      ]
    },
    {
      "cell_type": "code",
      "metadata": {
        "id": "9Xu6mf_Es2r0",
        "colab_type": "code",
        "colab": {}
      },
      "source": [
        "## Shot basics\n",
        "\n",
        "X6 = train[\"shot_basics\"].values\n",
        "#print(X6)\n",
        "\n",
        "x6 = test[\"shot_basics\"].values"
      ],
      "execution_count": 0,
      "outputs": []
    },
    {
      "cell_type": "code",
      "metadata": {
        "id": "zEGsSJpqxiVL",
        "colab_type": "code",
        "colab": {}
      },
      "source": [
        "X7 = train[\"location_x\"].values\n",
        "x7 = test[\"location_x\"].values"
      ],
      "execution_count": 0,
      "outputs": []
    },
    {
      "cell_type": "code",
      "metadata": {
        "id": "xOtF0JLgxr2Z",
        "colab_type": "code",
        "colab": {}
      },
      "source": [
        "X8 = train[\"location_y\"].values\n",
        "x8 = test[\"location_y\"].values"
      ],
      "execution_count": 0,
      "outputs": []
    },
    {
      "cell_type": "code",
      "metadata": {
        "id": "1zlxHob3rgYW",
        "colab_type": "code",
        "colab": {}
      },
      "source": [
        "#train.isnull().sum()"
      ],
      "execution_count": 0,
      "outputs": []
    },
    {
      "cell_type": "code",
      "metadata": {
        "id": "dNXUNXdFaA55",
        "colab_type": "code",
        "outputId": "14b8c097-7b2f-4074-a28d-822a8f498711",
        "colab": {
          "base_uri": "https://localhost:8080/",
          "height": 34
        }
      },
      "source": [
        "Y = train[\"is_goal\"].values\n",
        "print(Y)"
      ],
      "execution_count": 41,
      "outputs": [
        {
          "output_type": "stream",
          "text": [
            "[0. 1. 0. ... 1. 0. 0.]\n"
          ],
          "name": "stdout"
        }
      ]
    },
    {
      "cell_type": "code",
      "metadata": {
        "id": "QW3itS7BZpri",
        "colab_type": "code",
        "colab": {}
      },
      "source": [
        "# plt.scatter(X1, X2, c=Y)\n",
        "# plt.show()"
      ],
      "execution_count": 0,
      "outputs": []
    },
    {
      "cell_type": "code",
      "metadata": {
        "id": "4muC7kz5aV2K",
        "colab_type": "code",
        "colab": {}
      },
      "source": [
        "a = np.array(X1)\n",
        "a1 = np.array(x1)\n",
        "#print(a)"
      ],
      "execution_count": 0,
      "outputs": []
    },
    {
      "cell_type": "code",
      "metadata": {
        "id": "R9tQXwQcEq-V",
        "colab_type": "code",
        "colab": {}
      },
      "source": [
        "b = np.array(X2)\n",
        "b1 = np.array(x2)\n",
        "#print(b)"
      ],
      "execution_count": 0,
      "outputs": []
    },
    {
      "cell_type": "code",
      "metadata": {
        "id": "ooljnokhVRy-",
        "colab_type": "code",
        "colab": {}
      },
      "source": [
        "c = np.array(X3)\n",
        "c1 = np.array(x3)\n",
        "#print(c)"
      ],
      "execution_count": 0,
      "outputs": []
    },
    {
      "cell_type": "code",
      "metadata": {
        "id": "rWeQ78I0vjfH",
        "colab_type": "code",
        "colab": {}
      },
      "source": [
        "d = np.array(X4)\n",
        "d1 = np.array(x4)\n",
        "#print(d)"
      ],
      "execution_count": 0,
      "outputs": []
    },
    {
      "cell_type": "code",
      "metadata": {
        "id": "ONmzUZpwvjrE",
        "colab_type": "code",
        "colab": {}
      },
      "source": [
        "e = np.array(X5)\n",
        "e1 = np.array(x5)\n",
        "#print(e)"
      ],
      "execution_count": 0,
      "outputs": []
    },
    {
      "cell_type": "code",
      "metadata": {
        "id": "hYs6M5mzvkIG",
        "colab_type": "code",
        "colab": {
          "base_uri": "https://localhost:8080/",
          "height": 34
        },
        "outputId": "bae5d6a5-5f4c-426f-9025-49e0905217eb"
      },
      "source": [
        "f = np.array(X6)\n",
        "f1 = np.array(x6)\n",
        "print(f1.shape)\n",
        "#print(f)"
      ],
      "execution_count": 48,
      "outputs": [
        {
          "output_type": "stream",
          "text": [
            "(6268,)\n"
          ],
          "name": "stdout"
        }
      ]
    },
    {
      "cell_type": "code",
      "metadata": {
        "id": "76UPp47pxzRo",
        "colab_type": "code",
        "colab": {
          "base_uri": "https://localhost:8080/",
          "height": 34
        },
        "outputId": "c1794edf-ab3a-4ead-e19a-d992026068f0"
      },
      "source": [
        "g = np.array(X7)\n",
        "g1 = np.array(x7)\n",
        "print(g1.shape)"
      ],
      "execution_count": 49,
      "outputs": [
        {
          "output_type": "stream",
          "text": [
            "(6268,)\n"
          ],
          "name": "stdout"
        }
      ]
    },
    {
      "cell_type": "code",
      "metadata": {
        "id": "U6Vsn4MVxzcQ",
        "colab_type": "code",
        "colab": {
          "base_uri": "https://localhost:8080/",
          "height": 34
        },
        "outputId": "86a21909-40e4-431d-c958-89d59ed02263"
      },
      "source": [
        "h = np.array(X8)\n",
        "h1 = np.array(x8)\n",
        "print(h1.shape)"
      ],
      "execution_count": 50,
      "outputs": [
        {
          "output_type": "stream",
          "text": [
            "(6268,)\n"
          ],
          "name": "stdout"
        }
      ]
    },
    {
      "cell_type": "code",
      "metadata": {
        "id": "qJTpm2BIEuud",
        "colab_type": "code",
        "colab": {}
      },
      "source": [
        "X = np.column_stack((a,b,c,d,e,f,g,h))\n",
        "X_test = np.column_stack((a1,b1,c1,d1,e1,f1,g1,h1))\n",
        "#print(X)"
      ],
      "execution_count": 0,
      "outputs": []
    },
    {
      "cell_type": "markdown",
      "metadata": {
        "id": "7isOZBfaJDPb",
        "colab_type": "text"
      },
      "source": [
        "# PREDICTIONS"
      ]
    },
    {
      "cell_type": "code",
      "metadata": {
        "id": "Eb-s2MTD2AsH",
        "colab_type": "code",
        "colab": {}
      },
      "source": [
        "Y_true = Y"
      ],
      "execution_count": 0,
      "outputs": []
    },
    {
      "cell_type": "markdown",
      "metadata": {
        "id": "zauDNugmzrCp",
        "colab_type": "text"
      },
      "source": [
        "### 1. Logistic Regression"
      ]
    },
    {
      "cell_type": "code",
      "metadata": {
        "id": "FRW6vteRzpob",
        "colab_type": "code",
        "colab": {}
      },
      "source": [
        "#from sklearn.linear_model import LogisticRegression"
      ],
      "execution_count": 0,
      "outputs": []
    },
    {
      "cell_type": "code",
      "metadata": {
        "id": "IAZ5VeRfzp1Z",
        "colab_type": "code",
        "colab": {}
      },
      "source": [
        "#classifier_logistic = LogisticRegression(random_state=0, solver='lbfgs', multi_class='multinomial')"
      ],
      "execution_count": 0,
      "outputs": []
    },
    {
      "cell_type": "code",
      "metadata": {
        "id": "bsSskvJozqCS",
        "colab_type": "code",
        "colab": {}
      },
      "source": [
        "#classifier_logistic.fit(X,Y)"
      ],
      "execution_count": 0,
      "outputs": []
    },
    {
      "cell_type": "code",
      "metadata": {
        "colab_type": "code",
        "id": "1cyVga7BX83v",
        "colab": {}
      },
      "source": [
        "#Y_predict_logistic = classifier_logistic.predict(X)"
      ],
      "execution_count": 0,
      "outputs": []
    },
    {
      "cell_type": "markdown",
      "metadata": {
        "id": "RJdC38Qh0xts",
        "colab_type": "text"
      },
      "source": [
        "### 2. KNN"
      ]
    },
    {
      "cell_type": "code",
      "metadata": {
        "id": "2Rc4fN2J0yBV",
        "colab_type": "code",
        "colab": {}
      },
      "source": [
        "#from sklearn.neighbors import KNeighborsClassifier"
      ],
      "execution_count": 0,
      "outputs": []
    },
    {
      "cell_type": "code",
      "metadata": {
        "id": "oFm0Zn1H0yLu",
        "colab_type": "code",
        "colab": {}
      },
      "source": [
        "#classifier_knn = KNeighborsClassifier(n_neighbors=3)"
      ],
      "execution_count": 0,
      "outputs": []
    },
    {
      "cell_type": "code",
      "metadata": {
        "id": "UUcUYQZB0ykO",
        "colab_type": "code",
        "colab": {}
      },
      "source": [
        "#classifier_knn.fit(X,Y)"
      ],
      "execution_count": 0,
      "outputs": []
    },
    {
      "cell_type": "code",
      "metadata": {
        "colab_type": "code",
        "id": "gOTyw1aXX8fO",
        "colab": {}
      },
      "source": [
        "#Y_predict_knn = classifier_knn.predict(X)"
      ],
      "execution_count": 0,
      "outputs": []
    },
    {
      "cell_type": "markdown",
      "metadata": {
        "id": "X7RGByjyJKT7",
        "colab_type": "text"
      },
      "source": [
        "### 3. Support Vector Machine"
      ]
    },
    {
      "cell_type": "code",
      "metadata": {
        "id": "z2pXUFx5E4MA",
        "colab_type": "code",
        "colab": {}
      },
      "source": [
        "#from sklearn.svm import SVC"
      ],
      "execution_count": 0,
      "outputs": []
    },
    {
      "cell_type": "code",
      "metadata": {
        "id": "5mYE-DIyFBav",
        "colab_type": "code",
        "colab": {}
      },
      "source": [
        "#classifier_svm = SVC(gamma = 'auto', probability=True)"
      ],
      "execution_count": 0,
      "outputs": []
    },
    {
      "cell_type": "code",
      "metadata": {
        "id": "dSCGEw6uFHAq",
        "colab_type": "code",
        "colab": {}
      },
      "source": [
        "#classifier_svm.fit(X,Y)"
      ],
      "execution_count": 0,
      "outputs": []
    },
    {
      "cell_type": "code",
      "metadata": {
        "colab_type": "code",
        "id": "uHZm9eC0X8Uc",
        "colab": {}
      },
      "source": [
        "#classifier_svm.score(X, Y)"
      ],
      "execution_count": 0,
      "outputs": []
    },
    {
      "cell_type": "code",
      "metadata": {
        "colab_type": "code",
        "id": "VPTx3uI9X8KH",
        "colab": {}
      },
      "source": [
        "#Y_predict_svm = classifier_svm.predict_proba(X)\n",
        "#Y_predict_svm = classifier_svm.predict(X)\n",
        "#print(Y_predict_svm)"
      ],
      "execution_count": 0,
      "outputs": []
    },
    {
      "cell_type": "markdown",
      "metadata": {
        "id": "l_Zs_d1FJWJV",
        "colab_type": "text"
      },
      "source": [
        "### 4. Random Forest "
      ]
    },
    {
      "cell_type": "code",
      "metadata": {
        "id": "4i5LIZAuIdd1",
        "colab_type": "code",
        "colab": {}
      },
      "source": [
        "#from sklearn.ensemble import RandomForestClassifier"
      ],
      "execution_count": 0,
      "outputs": []
    },
    {
      "cell_type": "code",
      "metadata": {
        "id": "ASqyUsnFJgSS",
        "colab_type": "code",
        "colab": {}
      },
      "source": [
        "#classifier_randomforest = RandomForestClassifier(n_estimators=100, max_depth=16, random_state=0)"
      ],
      "execution_count": 0,
      "outputs": []
    },
    {
      "cell_type": "code",
      "metadata": {
        "id": "P3Ccd65KJpXL",
        "colab_type": "code",
        "colab": {}
      },
      "source": [
        "#classifier_randomforest.fit(X,Y)"
      ],
      "execution_count": 0,
      "outputs": []
    },
    {
      "cell_type": "code",
      "metadata": {
        "colab_type": "code",
        "id": "ZmCCSdi5X7-n",
        "colab": {}
      },
      "source": [
        "#classifier_randomforest.score(X,Y)"
      ],
      "execution_count": 0,
      "outputs": []
    },
    {
      "cell_type": "code",
      "metadata": {
        "colab_type": "code",
        "id": "OTf784fWX7y3",
        "colab": {}
      },
      "source": [
        "#Y_predict_rf = classifier_randomforest.predict(X)"
      ],
      "execution_count": 0,
      "outputs": []
    },
    {
      "cell_type": "markdown",
      "metadata": {
        "id": "qNs11wF42FQ1",
        "colab_type": "text"
      },
      "source": [
        "### 5. XGBoost"
      ]
    },
    {
      "cell_type": "code",
      "metadata": {
        "id": "5gD-xCFN2Fg6",
        "colab_type": "code",
        "colab": {}
      },
      "source": [
        "import xgboost as xgb"
      ],
      "execution_count": 0,
      "outputs": []
    },
    {
      "cell_type": "code",
      "metadata": {
        "id": "UYqQ-tCG2FtN",
        "colab_type": "code",
        "colab": {}
      },
      "source": [
        "classifier_xgb = xgb.XGBClassifier(objective=\"binary:logistic\", random_state=42, learning_rate=0.1)"
      ],
      "execution_count": 0,
      "outputs": []
    },
    {
      "cell_type": "code",
      "metadata": {
        "id": "lXhk-KGOLE4s",
        "colab_type": "code",
        "colab": {
          "base_uri": "https://localhost:8080/",
          "height": 136
        },
        "outputId": "d2ff2eec-5e42-48fc-da0b-fae2b4c4c604"
      },
      "source": [
        "classifier_xgb.fit(X,Y)"
      ],
      "execution_count": 73,
      "outputs": [
        {
          "output_type": "execute_result",
          "data": {
            "text/plain": [
              "XGBClassifier(base_score=0.5, booster='gbtree', colsample_bylevel=1,\n",
              "              colsample_bynode=1, colsample_bytree=1, gamma=0,\n",
              "              learning_rate=0.1, max_delta_step=0, max_depth=3,\n",
              "              min_child_weight=1, missing=None, n_estimators=100, n_jobs=1,\n",
              "              nthread=None, objective='binary:logistic', random_state=42,\n",
              "              reg_alpha=0, reg_lambda=1, scale_pos_weight=1, seed=None,\n",
              "              silent=None, subsample=1, verbosity=1)"
            ]
          },
          "metadata": {
            "tags": []
          },
          "execution_count": 73
        }
      ]
    },
    {
      "cell_type": "code",
      "metadata": {
        "colab_type": "code",
        "id": "72h7lxk2X7p8",
        "colab": {}
      },
      "source": [
        "Y_predict_xgb = classifier_xgb.predict(X)"
      ],
      "execution_count": 0,
      "outputs": []
    },
    {
      "cell_type": "markdown",
      "metadata": {
        "id": "s9YaaJa16kbO",
        "colab_type": "text"
      },
      "source": [
        "### 6. Gradient Boosting "
      ]
    },
    {
      "cell_type": "code",
      "metadata": {
        "id": "QpZiur0R6kpS",
        "colab_type": "code",
        "colab": {}
      },
      "source": [
        "#from sklearn.ensemble import GradientBoostingClassifier"
      ],
      "execution_count": 0,
      "outputs": []
    },
    {
      "cell_type": "code",
      "metadata": {
        "id": "2TjMmXEV6kyM",
        "colab_type": "code",
        "colab": {}
      },
      "source": [
        "#classifier_gb = GradientBoostingClassifier()"
      ],
      "execution_count": 0,
      "outputs": []
    },
    {
      "cell_type": "code",
      "metadata": {
        "id": "TvFBcaMF6k9H",
        "colab_type": "code",
        "colab": {}
      },
      "source": [
        "#classifier_gb.fit(X,Y)"
      ],
      "execution_count": 0,
      "outputs": []
    },
    {
      "cell_type": "code",
      "metadata": {
        "colab_type": "code",
        "id": "u0LOJA3FX7g3",
        "colab": {}
      },
      "source": [
        "#Y_predict_gb = classifier_gb.predict(X)"
      ],
      "execution_count": 0,
      "outputs": []
    },
    {
      "cell_type": "markdown",
      "metadata": {
        "id": "FAdbVbob77dC",
        "colab_type": "text"
      },
      "source": [
        "### 7. Decision Tree"
      ]
    },
    {
      "cell_type": "code",
      "metadata": {
        "id": "TuMx_5eY77sC",
        "colab_type": "code",
        "colab": {}
      },
      "source": [
        "#from sklearn.tree import DecisionTreeClassifier"
      ],
      "execution_count": 0,
      "outputs": []
    },
    {
      "cell_type": "code",
      "metadata": {
        "id": "zGh60oWk772L",
        "colab_type": "code",
        "colab": {}
      },
      "source": [
        "#classifier_decisionT = DecisionTreeClassifier(random_state=0)"
      ],
      "execution_count": 0,
      "outputs": []
    },
    {
      "cell_type": "code",
      "metadata": {
        "id": "itQCEK9V78Cq",
        "colab_type": "code",
        "colab": {}
      },
      "source": [
        "#classifier_decisionT.fit(X,Y)"
      ],
      "execution_count": 0,
      "outputs": []
    },
    {
      "cell_type": "code",
      "metadata": {
        "colab_type": "code",
        "id": "xcja-yJrX7Yg",
        "colab": {}
      },
      "source": [
        "#Y_predict_decisionT = classifier_decisionT.predict(X)"
      ],
      "execution_count": 0,
      "outputs": []
    },
    {
      "cell_type": "markdown",
      "metadata": {
        "id": "GTNIgZbO8l-5",
        "colab_type": "text"
      },
      "source": [
        "### 8. Naive Bayes"
      ]
    },
    {
      "cell_type": "code",
      "metadata": {
        "id": "vLz6i89h8mPT",
        "colab_type": "code",
        "colab": {}
      },
      "source": [
        "#from sklearn.naive_bayes import *"
      ],
      "execution_count": 0,
      "outputs": []
    },
    {
      "cell_type": "code",
      "metadata": {
        "id": "FDG8Qu-D8maS",
        "colab_type": "code",
        "colab": {}
      },
      "source": [
        "#classifier_nb_bernoulli = BernoulliNB()\n",
        "#classifier_nb_multinomial = MultinomialNB()\n",
        "#classifier_nb_gaussian = GaussianNB()"
      ],
      "execution_count": 0,
      "outputs": []
    },
    {
      "cell_type": "code",
      "metadata": {
        "id": "yvrXFqQK8mmv",
        "colab_type": "code",
        "colab": {}
      },
      "source": [
        "#classifier_nb_bernoulli.fit(X,Y)"
      ],
      "execution_count": 0,
      "outputs": []
    },
    {
      "cell_type": "code",
      "metadata": {
        "id": "eTaqXl808myo",
        "colab_type": "code",
        "colab": {}
      },
      "source": [
        "#classifier_nb_multinomial.fit(X,Y)"
      ],
      "execution_count": 0,
      "outputs": []
    },
    {
      "cell_type": "code",
      "metadata": {
        "id": "VbV4K_0o9m1U",
        "colab_type": "code",
        "colab": {}
      },
      "source": [
        "#classifier_nb_gaussian.fit(X,Y)"
      ],
      "execution_count": 0,
      "outputs": []
    },
    {
      "cell_type": "code",
      "metadata": {
        "colab_type": "code",
        "id": "EHKRZb_6X7Oi",
        "colab": {}
      },
      "source": [
        "#Y_predict_nb_bernoulli = classifier_nb_bernoulli.predict(X)\n",
        "#Y_predict_nb_multinomial = classifier_nb_multinomial.predict(X)\n",
        "#Y_predict_nb_gaussian = classifier_nb_gaussian.predict(X)"
      ],
      "execution_count": 0,
      "outputs": []
    },
    {
      "cell_type": "markdown",
      "metadata": {
        "id": "VdEnrBhyBDEC",
        "colab_type": "text"
      },
      "source": [
        "### 9. Neural Networks"
      ]
    },
    {
      "cell_type": "code",
      "metadata": {
        "id": "cpSn6fM7BDTZ",
        "colab_type": "code",
        "colab": {}
      },
      "source": [
        "#from sklearn.neural_network import MLPClassifier"
      ],
      "execution_count": 0,
      "outputs": []
    },
    {
      "cell_type": "code",
      "metadata": {
        "id": "KZvd5W77BDdV",
        "colab_type": "code",
        "colab": {}
      },
      "source": [
        "#classifier_mlp = MLPClassifier(hidden_layer_sizes=(100,100,100), max_iter=500, alpha=0.0001,\n",
        " #                    solver='sgd', verbose=10,  random_state=21,tol=0.000000001)"
      ],
      "execution_count": 0,
      "outputs": []
    },
    {
      "cell_type": "code",
      "metadata": {
        "id": "4HHXG9x6BDoA",
        "colab_type": "code",
        "colab": {}
      },
      "source": [
        "#classifier_mlp.fit(X,Y)"
      ],
      "execution_count": 0,
      "outputs": []
    },
    {
      "cell_type": "code",
      "metadata": {
        "colab_type": "code",
        "id": "ww35yj2pX6_z",
        "colab": {}
      },
      "source": [
        "#Y_predict_mlp = classifier_mlp.predict(X)"
      ],
      "execution_count": 0,
      "outputs": []
    },
    {
      "cell_type": "markdown",
      "metadata": {
        "id": "xqHqCln2HNRC",
        "colab_type": "text"
      },
      "source": [
        "### 10. Ada Boost"
      ]
    },
    {
      "cell_type": "code",
      "metadata": {
        "id": "DguXVKPFHNhl",
        "colab_type": "code",
        "colab": {}
      },
      "source": [
        "#from sklearn.ensemble import AdaBoostClassifier"
      ],
      "execution_count": 0,
      "outputs": []
    },
    {
      "cell_type": "code",
      "metadata": {
        "id": "49e5IIKHHNrn",
        "colab_type": "code",
        "colab": {}
      },
      "source": [
        "#classifier_ada = AdaBoostClassifier(n_estimators=100, random_state=0)"
      ],
      "execution_count": 0,
      "outputs": []
    },
    {
      "cell_type": "code",
      "metadata": {
        "id": "oTd2knD-HN21",
        "colab_type": "code",
        "colab": {}
      },
      "source": [
        "#classifier_ada.fit(X,Y)"
      ],
      "execution_count": 0,
      "outputs": []
    },
    {
      "cell_type": "code",
      "metadata": {
        "id": "_YmHFTP9HODI",
        "colab_type": "code",
        "colab": {}
      },
      "source": [
        "#Y_predict_ada = classifier_ada.predict(X)"
      ],
      "execution_count": 0,
      "outputs": []
    },
    {
      "cell_type": "markdown",
      "metadata": {
        "id": "ScmEtNpXHoxU",
        "colab_type": "text"
      },
      "source": [
        "### 11. Quadratic Discriminant Analysis"
      ]
    },
    {
      "cell_type": "code",
      "metadata": {
        "id": "EJWWgnYcHpB-",
        "colab_type": "code",
        "colab": {}
      },
      "source": [
        "#from sklearn.discriminant_analysis import QuadraticDiscriminantAnalysis"
      ],
      "execution_count": 0,
      "outputs": []
    },
    {
      "cell_type": "code",
      "metadata": {
        "id": "w076MCekHpNn",
        "colab_type": "code",
        "colab": {}
      },
      "source": [
        "#classifier_qda = QuadraticDiscriminantAnalysis()"
      ],
      "execution_count": 0,
      "outputs": []
    },
    {
      "cell_type": "code",
      "metadata": {
        "id": "wuviXRRIHpZX",
        "colab_type": "code",
        "colab": {}
      },
      "source": [
        "#classifier_qda.fit(X,Y)"
      ],
      "execution_count": 0,
      "outputs": []
    },
    {
      "cell_type": "code",
      "metadata": {
        "id": "4q3qHsiGHplo",
        "colab_type": "code",
        "colab": {}
      },
      "source": [
        "#Y_predict_qda = classifier_qda.predict(X)"
      ],
      "execution_count": 0,
      "outputs": []
    },
    {
      "cell_type": "markdown",
      "metadata": {
        "id": "GxhW83DFLKtn",
        "colab_type": "text"
      },
      "source": [
        "## Calculating MAE score"
      ]
    },
    {
      "cell_type": "code",
      "metadata": {
        "id": "AgSak5FJLJjv",
        "colab_type": "code",
        "colab": {}
      },
      "source": [
        "from sklearn.metrics import mean_absolute_error"
      ],
      "execution_count": 0,
      "outputs": []
    },
    {
      "cell_type": "code",
      "metadata": {
        "id": "DaTE23OU0pdw",
        "colab_type": "code",
        "colab": {}
      },
      "source": [
        "#mean_absolute_error(Y_true, Y_predict_logistic)"
      ],
      "execution_count": 0,
      "outputs": []
    },
    {
      "cell_type": "code",
      "metadata": {
        "id": "LjnOrOeG0po8",
        "colab_type": "code",
        "colab": {}
      },
      "source": [
        "#mean_absolute_error(Y_true, Y_predict_knn)"
      ],
      "execution_count": 0,
      "outputs": []
    },
    {
      "cell_type": "code",
      "metadata": {
        "id": "8xrGqwWXLZuv",
        "colab_type": "code",
        "colab": {}
      },
      "source": [
        "#mean_absolute_error(Y_true, Y_predict_svm)"
      ],
      "execution_count": 0,
      "outputs": []
    },
    {
      "cell_type": "code",
      "metadata": {
        "id": "yBvB-I-bLtqJ",
        "colab_type": "code",
        "colab": {}
      },
      "source": [
        "#mean_absolute_error(Y_true, Y_predict_rf)"
      ],
      "execution_count": 0,
      "outputs": []
    },
    {
      "cell_type": "code",
      "metadata": {
        "id": "FKP0csZ37ScG",
        "colab_type": "code",
        "colab": {
          "base_uri": "https://localhost:8080/",
          "height": 34
        },
        "outputId": "8ed31d28-3a37-4ecc-d3b7-8d88ee569dc8"
      },
      "source": [
        "mean_absolute_error(Y_true, Y_predict_xgb)"
      ],
      "execution_count": 138,
      "outputs": [
        {
          "output_type": "execute_result",
          "data": {
            "text/plain": [
              "0.3859347496827541"
            ]
          },
          "metadata": {
            "tags": []
          },
          "execution_count": 138
        }
      ]
    },
    {
      "cell_type": "code",
      "metadata": {
        "id": "u639xqAw7NMJ",
        "colab_type": "code",
        "colab": {}
      },
      "source": [
        "#mean_absolute_error(Y_true, Y_predict_gb)"
      ],
      "execution_count": 0,
      "outputs": []
    },
    {
      "cell_type": "code",
      "metadata": {
        "id": "asGK7TcM7fou",
        "colab_type": "code",
        "colab": {}
      },
      "source": [
        "#mean_absolute_error(Y_true, Y_predict_decisionT)"
      ],
      "execution_count": 0,
      "outputs": []
    },
    {
      "cell_type": "code",
      "metadata": {
        "id": "-H46CD_w-BI9",
        "colab_type": "code",
        "colab": {}
      },
      "source": [
        "#mean_absolute_error(Y_true, Y_predict_nb_bernoulli)"
      ],
      "execution_count": 0,
      "outputs": []
    },
    {
      "cell_type": "code",
      "metadata": {
        "id": "35q8r8Lq-BVE",
        "colab_type": "code",
        "colab": {}
      },
      "source": [
        "#mean_absolute_error(Y_true, Y_predict_nb_multinomial)"
      ],
      "execution_count": 0,
      "outputs": []
    },
    {
      "cell_type": "code",
      "metadata": {
        "id": "pv0gv1en-BhM",
        "colab_type": "code",
        "colab": {}
      },
      "source": [
        "#mean_absolute_error(Y_true, Y_predict_nb_gaussian)"
      ],
      "execution_count": 0,
      "outputs": []
    },
    {
      "cell_type": "code",
      "metadata": {
        "id": "_DQYV5aGDsef",
        "colab_type": "code",
        "colab": {}
      },
      "source": [
        "#mean_absolute_error(Y_true, Y_predict_mlp)"
      ],
      "execution_count": 0,
      "outputs": []
    },
    {
      "cell_type": "code",
      "metadata": {
        "id": "ScwpNwMBHh1h",
        "colab_type": "code",
        "colab": {}
      },
      "source": [
        "#mean_absolute_error(Y_true, Y_predict_ada)"
      ],
      "execution_count": 0,
      "outputs": []
    },
    {
      "cell_type": "code",
      "metadata": {
        "id": "q8e0CCvaH8rU",
        "colab_type": "code",
        "colab": {}
      },
      "source": [
        "#mean_absolute_error(Y_true, Y_predict_qda)"
      ],
      "execution_count": 0,
      "outputs": []
    },
    {
      "cell_type": "code",
      "metadata": {
        "id": "QFgVMAXn150I",
        "colab_type": "code",
        "colab": {}
      },
      "source": [
        "# score = 1/(1+mae)\n",
        "# print(score)"
      ],
      "execution_count": 0,
      "outputs": []
    },
    {
      "cell_type": "markdown",
      "metadata": {
        "id": "C-UO7sLTCD6U",
        "colab_type": "text"
      },
      "source": [
        "## Calculating cross-validation score"
      ]
    },
    {
      "cell_type": "code",
      "metadata": {
        "id": "EEGm9vQyCI5y",
        "colab_type": "code",
        "colab": {}
      },
      "source": [
        "from sklearn.model_selection import cross_val_score"
      ],
      "execution_count": 0,
      "outputs": []
    },
    {
      "cell_type": "code",
      "metadata": {
        "id": "BpKQFFtRCPhr",
        "colab_type": "code",
        "colab": {}
      },
      "source": [
        "#cross_val_score(classifier_logistic, X, Y)"
      ],
      "execution_count": 0,
      "outputs": []
    },
    {
      "cell_type": "code",
      "metadata": {
        "id": "bs2WOF_4CXGG",
        "colab_type": "code",
        "colab": {}
      },
      "source": [
        "#cross_val_score(classifier_knn, X, Y)"
      ],
      "execution_count": 0,
      "outputs": []
    },
    {
      "cell_type": "code",
      "metadata": {
        "id": "VMvNVurMC46S",
        "colab_type": "code",
        "colab": {}
      },
      "source": [
        "#cross_val_score(classifier_svm, X, Y)"
      ],
      "execution_count": 0,
      "outputs": []
    },
    {
      "cell_type": "code",
      "metadata": {
        "id": "dhS6E_2QM1fp",
        "colab_type": "code",
        "colab": {}
      },
      "source": [
        "#cross_val_score(classifier_randomforest, X, Y).mean()"
      ],
      "execution_count": 0,
      "outputs": []
    },
    {
      "cell_type": "code",
      "metadata": {
        "id": "quLz5gffM4OV",
        "colab_type": "code",
        "colab": {
          "base_uri": "https://localhost:8080/",
          "height": 88
        },
        "outputId": "3e61c6b3-28b1-4592-f9ba-d497c1c75c45"
      },
      "source": [
        "cross_val_score(classifier_xgb, X, Y).mean()"
      ],
      "execution_count": 113,
      "outputs": [
        {
          "output_type": "stream",
          "text": [
            "/usr/local/lib/python3.6/dist-packages/sklearn/model_selection/_split.py:1978: FutureWarning: The default value of cv will change from 3 to 5 in version 0.22. Specify it explicitly to silence this warning.\n",
            "  warnings.warn(CV_WARNING, FutureWarning)\n"
          ],
          "name": "stderr"
        },
        {
          "output_type": "execute_result",
          "data": {
            "text/plain": [
              "0.6066971506717791"
            ]
          },
          "metadata": {
            "tags": []
          },
          "execution_count": 113
        }
      ]
    },
    {
      "cell_type": "code",
      "metadata": {
        "id": "_Yz3HpukN1R3",
        "colab_type": "code",
        "colab": {}
      },
      "source": [
        "#cross_val_score(classifier_gb, X, Y)"
      ],
      "execution_count": 0,
      "outputs": []
    },
    {
      "cell_type": "code",
      "metadata": {
        "id": "1HGAkMcSN1oG",
        "colab_type": "code",
        "colab": {}
      },
      "source": [
        "#cross_val_score(classifier_decisionT, X, Y)"
      ],
      "execution_count": 0,
      "outputs": []
    },
    {
      "cell_type": "code",
      "metadata": {
        "id": "2Zy1-4Q7N1Ol",
        "colab_type": "code",
        "colab": {}
      },
      "source": [
        "#cross_val_score(classifier_nb_bernoulli, X, Y)"
      ],
      "execution_count": 0,
      "outputs": []
    },
    {
      "cell_type": "code",
      "metadata": {
        "id": "7-2m4tYIN1Lc",
        "colab_type": "code",
        "colab": {}
      },
      "source": [
        "#cross_val_score(classifier_nb_multinomial, X, Y)"
      ],
      "execution_count": 0,
      "outputs": []
    },
    {
      "cell_type": "code",
      "metadata": {
        "id": "S2Egi3zRN1Ii",
        "colab_type": "code",
        "colab": {}
      },
      "source": [
        "#cross_val_score(classifier_nb_gaussian, X, Y)"
      ],
      "execution_count": 0,
      "outputs": []
    },
    {
      "cell_type": "code",
      "metadata": {
        "id": "WB8ftRvxODRp",
        "colab_type": "code",
        "colab": {}
      },
      "source": [
        "#cross_val_score(classifier_mlp, X, Y)"
      ],
      "execution_count": 0,
      "outputs": []
    },
    {
      "cell_type": "code",
      "metadata": {
        "id": "N_otQJRCODdy",
        "colab_type": "code",
        "colab": {}
      },
      "source": [
        "#cross_val_score(classifier_ada, X, Y).mean()"
      ],
      "execution_count": 0,
      "outputs": []
    },
    {
      "cell_type": "code",
      "metadata": {
        "id": "CW9Ct2fvOH6_",
        "colab_type": "code",
        "colab": {}
      },
      "source": [
        "#cross_val_score(classifier_qda, X, Y)"
      ],
      "execution_count": 0,
      "outputs": []
    },
    {
      "cell_type": "markdown",
      "metadata": {
        "id": "gosTB7x-cDxr",
        "colab_type": "text"
      },
      "source": [
        "## Predictions"
      ]
    },
    {
      "cell_type": "code",
      "metadata": {
        "id": "9H8mVSqecEOt",
        "colab_type": "code",
        "colab": {}
      },
      "source": [
        "# Y_predict_decisionT_test = classifier_decisionT.predict_proba(X_test)\n",
        "# predict_dt = Y_predict_decisionT_test[:,1]\n",
        "# print(predict_dt)"
      ],
      "execution_count": 0,
      "outputs": []
    },
    {
      "cell_type": "code",
      "metadata": {
        "id": "_GaAaO1BtiaZ",
        "colab_type": "code",
        "colab": {}
      },
      "source": [
        "# plt.hist(predict_dt)"
      ],
      "execution_count": 0,
      "outputs": []
    },
    {
      "cell_type": "code",
      "metadata": {
        "id": "gPKT_-HTcixF",
        "colab_type": "code",
        "colab": {}
      },
      "source": [
        "# Y_predict_rf_test = classifier_randomforest.predict_proba(X_test)\n",
        "# predict_rf = Y_predict_rf_test[:,1]\n",
        "# print(predict_rf)"
      ],
      "execution_count": 0,
      "outputs": []
    },
    {
      "cell_type": "code",
      "metadata": {
        "id": "NyfdD3P1tn-Z",
        "colab_type": "code",
        "colab": {}
      },
      "source": [
        "#plt.hist(predict_rf)"
      ],
      "execution_count": 0,
      "outputs": []
    },
    {
      "cell_type": "code",
      "metadata": {
        "id": "yr-xrqQTckM5",
        "colab_type": "code",
        "colab": {
          "base_uri": "https://localhost:8080/",
          "height": 34
        },
        "outputId": "116f57e7-e34a-49d9-ff1f-4f4d241f5b1e"
      },
      "source": [
        "Y_predict_xgb_test = classifier_xgb.predict_proba(X_test)\n",
        "predict_xgb = Y_predict_xgb_test[:,1]\n",
        "print(predict_xgb)"
      ],
      "execution_count": 126,
      "outputs": [
        {
          "output_type": "stream",
          "text": [
            "[0.39063123 0.5039306  0.5306204  ... 0.45411533 0.45073882 0.6509716 ]\n"
          ],
          "name": "stdout"
        }
      ]
    },
    {
      "cell_type": "code",
      "metadata": {
        "id": "CpDrGnsvtqWb",
        "colab_type": "code",
        "colab": {
          "base_uri": "https://localhost:8080/",
          "height": 371
        },
        "outputId": "e68357d8-10fe-447e-d78f-4e8374438259"
      },
      "source": [
        "plt.hist(predict_xgb)"
      ],
      "execution_count": 127,
      "outputs": [
        {
          "output_type": "execute_result",
          "data": {
            "text/plain": [
              "(array([  27.,   15.,   50.,  178.,  828., 2444., 1293.,  222.,  665.,\n",
              "         546.]),\n",
              " array([0.01414344, 0.08413088, 0.15411831, 0.22410575, 0.2940932 ,\n",
              "        0.3640806 , 0.43406805, 0.5040555 , 0.5740429 , 0.6440304 ,\n",
              "        0.7140178 ], dtype=float32),\n",
              " <a list of 10 Patch objects>)"
            ]
          },
          "metadata": {
            "tags": []
          },
          "execution_count": 127
        },
        {
          "output_type": "display_data",
          "data": {
            "image/png": "[encoded data removed]",
            "text/plain": [
              "<Figure size 432x288 with 1 Axes>"
            ]
          },
          "metadata": {
            "tags": []
          }
        }
      ]
    },
    {
      "cell_type": "code",
      "metadata": {
        "id": "dkmvwZf_ci-v",
        "colab_type": "code",
        "colab": {}
      },
      "source": [
        "# Y_predict_ada_test = classifier_ada.predict_proba(X_test)\n",
        "# predict_ada = Y_predict_ada_test[:,1]\n",
        "# print(predict_ada)"
      ],
      "execution_count": 0,
      "outputs": []
    },
    {
      "cell_type": "code",
      "metadata": {
        "id": "BzDHn0QvtsX2",
        "colab_type": "code",
        "colab": {}
      },
      "source": [
        "# plt.hist(predict_ada)"
      ],
      "execution_count": 0,
      "outputs": []
    },
    {
      "cell_type": "markdown",
      "metadata": {
        "id": "mIH1sILgSMtI",
        "colab_type": "text"
      },
      "source": [
        "## Writing predicted outputs to a .csv file"
      ]
    },
    {
      "cell_type": "code",
      "metadata": {
        "id": "MAyLP7zykhZy",
        "colab_type": "code",
        "colab": {}
      },
      "source": [
        "#test[\"shot_id_number\"] = test.index+1"
      ],
      "execution_count": 0,
      "outputs": []
    },
    {
      "cell_type": "code",
      "metadata": {
        "id": "pBg7lq-5kpwl",
        "colab_type": "code",
        "colab": {}
      },
      "source": [
        "#test[\"shot_id_number\"].shape"
      ],
      "execution_count": 0,
      "outputs": []
    },
    {
      "cell_type": "code",
      "metadata": {
        "id": "GHfdEqqhlWwv",
        "colab_type": "code",
        "colab": {}
      },
      "source": [
        "#X_test.shape[0]"
      ],
      "execution_count": 0,
      "outputs": []
    },
    {
      "cell_type": "code",
      "metadata": {
        "id": "v5vgjlrYSM-i",
        "colab_type": "code",
        "colab": {}
      },
      "source": [
        "import csv\n",
        "\n",
        "cs = pd.DataFrame({\"shot_id_number\":test[\"shot_id_number\"], \"is_goal\":predict_xgb})\n",
        "#cs.head()\n",
        "cs.to_csv('cheshta_kwatra_032998_prediction_3.csv', index=False)"
      ],
      "execution_count": 0,
      "outputs": []
    },
    {
      "cell_type": "code",
      "metadata": {
        "id": "3S5v-THHSNHy",
        "colab_type": "code",
        "colab": {}
      },
      "source": [
        "files.download('cheshta_kwatra_032998_prediction_3.csv')"
      ],
      "execution_count": 0,
      "outputs": []
    },
    {
      "cell_type": "code",
      "metadata": {
        "id": "YpvjpQSQSNQ9",
        "colab_type": "code",
        "colab": {}
      },
      "source": [
        "\n"
      ],
      "execution_count": 0,
      "outputs": []
    }
  ]
}